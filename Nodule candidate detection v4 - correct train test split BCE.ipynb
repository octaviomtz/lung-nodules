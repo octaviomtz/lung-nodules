{
 "cells": [
  {
   "cell_type": "markdown",
   "metadata": {},
   "source": [
    "# Overview"
   ]
  },
  {
   "cell_type": "markdown",
   "metadata": {},
   "source": [
    "## Nodule candidate detection \n",
    "According to *Cheng et al* **Deep Convolution Neural Networks for Pulmonary Nodule Detection in CT imaging**   \n",
    "Prerequisites   \n",
    "\n",
    "The notebook **dicom full-preprocessing (misc1) - all patients.ipynb** preprocess the LIDC dataset into 3D volumes   \n",
    "The notebook **build volume reconstructions from dicom full-preprocessing.ipynb** process the 3D volumes and creates 80x80x80 cubes and masks \n",
    "\n",
    "1. **v4.** \n",
    "    1. We use the dice loss from https://github.com/milesial/Pytorch-UNet/blob/master/dice_loss.py\n",
    "    1. We split the data in train and test sets from patients not cubes \n",
    "1. **v2.** \n",
    "    1. We use a new version of the BCEloss2D according to https://www.kaggle.com/mlagunas/naive-unet-with-pytorch-tensorboard-logging   \n",
    "1. **v1.** \n",
    "    1. We use CrossEntropyLoss instead of dice loss. (In the code we added a new version of dice, but we are not using it at the moment)   \n",
    "1. **v0.** \n",
    "    1. V0 Loading the cubes from a sparse representation\n"
   ]
  },
  {
   "cell_type": "markdown",
   "metadata": {},
   "source": [
    "## Points to check"
   ]
  },
  {
   "cell_type": "markdown",
   "metadata": {},
   "source": [
    "<div class=new>\n",
    "    \n",
    "- Check that the skip connections are in the correct layer   \n",
    "    \n",
    "- The diagram has 4 blocks going down that reduces the input (80 /(2^4)=5). If we want to concatenate the skip3 with the first block going up we have to upsample times 4   \n",
    "\n",
    "- Maybe Add Gaussian filter and random cropping\n",
    "<div>"
   ]
  },
  {
   "cell_type": "code",
   "execution_count": null,
   "metadata": {},
   "outputs": [],
   "source": []
  },
  {
   "cell_type": "markdown",
   "metadata": {},
   "source": [
    "# Imports"
   ]
  },
  {
   "cell_type": "code",
   "execution_count": 1,
   "metadata": {},
   "outputs": [],
   "source": [
    "import numpy as np\n",
    "import pandas as pd\n",
    "from tqdm import tqdm_notebook as tqdm\n",
    "import matplotlib.pyplot as plt\n",
    "import os\n",
    "import sys\n",
    "import time\n",
    "from scipy.stats import mode\n",
    "from scipy.stats import entropy\n",
    "import pickle\n",
    "import matplotlib.patches as mpatches\n",
    "%matplotlib inline"
   ]
  },
  {
   "cell_type": "code",
   "execution_count": 2,
   "metadata": {},
   "outputs": [
    {
     "data": {
      "text/plain": [
       "<torch._C.Generator at 0x7f616824dd90>"
      ]
     },
     "execution_count": 2,
     "metadata": {},
     "output_type": "execute_result"
    }
   ],
   "source": [
    "import itertools\n",
    "from sklearn.model_selection import train_test_split\n",
    "from sklearn.metrics import confusion_matrix\n",
    "from sklearn.metrics import accuracy_score\n",
    "import torch.nn as nn\n",
    "import torch.nn.functional as F\n",
    "from torch.utils.data import TensorDataset\n",
    "from torch.utils.data import Dataset, DataLoader\n",
    "from torch import Tensor\n",
    "# from torchvision import transforms \n",
    "import torch\n",
    "from torch.autograd import Variable\n",
    "from torch import optim\n",
    "# from torchvision import models\n",
    "from torch import utils\n",
    "from torchsummary import summary\n",
    "torch.manual_seed(1)"
   ]
  },
  {
   "cell_type": "code",
   "execution_count": 3,
   "metadata": {},
   "outputs": [],
   "source": [
    "# from torchsample.samplers import StratifiedSampler\n",
    "from torch.utils.data import Sampler, WeightedRandomSampler"
   ]
  },
  {
   "cell_type": "code",
   "execution_count": 4,
   "metadata": {},
   "outputs": [],
   "source": [
    "from sklearn.model_selection import train_test_split\n",
    "from skimage import measure, morphology\n",
    "from mpl_toolkits.mplot3d.art3d import Poly3DCollection"
   ]
  },
  {
   "cell_type": "code",
   "execution_count": 5,
   "metadata": {},
   "outputs": [
    {
     "data": {
      "text/html": [
       "<style>\n",
       "div.warn {    \n",
       "    background-color: #fcf2f2;\n",
       "    border-color: #dFb5b4;\n",
       "    border-left: 5px solid #dfb5b4;\n",
       "    padding: 0.5em;\n",
       "    }\n",
       "\n",
       "div.new {    \n",
       "    background-color: #b8dbd3;\n",
       "    border-color: #68c4af;\n",
       "    border-left: 5px solid #68c4af;\n",
       "    padding: 0.5em;\n",
       "    }\n",
       " </style>"
      ],
      "text/plain": [
       "<IPython.core.display.HTML object>"
      ]
     },
     "execution_count": 5,
     "metadata": {},
     "output_type": "execute_result"
    }
   ],
   "source": [
    "from IPython.core.display import HTML\n",
    "def css_styling():\n",
    "    styles = open(\"../css_styles/jupyter_css_styles_1.css\", \"r\").read()\n",
    "    return HTML(styles)\n",
    "css_styling()"
   ]
  },
  {
   "cell_type": "markdown",
   "metadata": {},
   "source": [
    "# Functions"
   ]
  },
  {
   "cell_type": "code",
   "execution_count": 6,
   "metadata": {},
   "outputs": [],
   "source": [
    "def plot_3d(image, threshold=-300, alpha=.70, fig_size=10):\n",
    "    \n",
    "    # Position the scan upright, \n",
    "    # so the head of the patient would be at the top facing the camera\n",
    "    p = image.transpose(2,1,0)\n",
    "    \n",
    "    verts, faces, x,y = measure.marching_cubes(p, threshold)\n",
    "\n",
    "    fig = plt.figure(figsize=(fig_size, fig_size))\n",
    "    ax = fig.add_subplot(111, projection='3d')\n",
    "\n",
    "    # Fancy indexing: `verts[faces]` to generate a collection of triangles\n",
    "    mesh = Poly3DCollection(verts[faces], alpha=alpha)\n",
    "    face_color = [0.45, 0.45, 0.75]\n",
    "    mesh.set_facecolor(face_color)\n",
    "    ax.add_collection3d(mesh)\n",
    "\n",
    "    ax.set_xlim(0, p.shape[0])\n",
    "    ax.set_ylim(0, p.shape[1])\n",
    "    ax.set_zlim(0, p.shape[2])\n",
    "\n",
    "    plt.show()"
   ]
  },
  {
   "cell_type": "markdown",
   "metadata": {},
   "source": [
    "# Data loading"
   ]
  },
  {
   "cell_type": "code",
   "execution_count": 7,
   "metadata": {},
   "outputs": [],
   "source": [
    "version = 'v4'\n",
    "path_source=f'/data/OMM/Datasets/LIDC_other_formats/LIDC 3D reconstruction 80px v4 - with coords/'\n",
    "GPU=1"
   ]
  },
  {
   "cell_type": "code",
   "execution_count": 8,
   "metadata": {},
   "outputs": [
    {
     "data": {
      "text/plain": [
       "28327"
      ]
     },
     "execution_count": 8,
     "metadata": {},
     "output_type": "execute_result"
    }
   ],
   "source": [
    "files = os.listdir(f'{path_source}lungs/')\n",
    "files = np.sort(files)\n",
    "len(files)"
   ]
  },
  {
   "cell_type": "code",
   "execution_count": 9,
   "metadata": {},
   "outputs": [],
   "source": [
    "files_ids = [i.split('_cube')[0] for i in files]\n",
    "files_ids = np.unique(files_ids)\n",
    "files_ids = np.sort(files_ids)"
   ]
  },
  {
   "cell_type": "code",
   "execution_count": 10,
   "metadata": {},
   "outputs": [],
   "source": [
    "fold = 1\n",
    "batchsize = 8\n",
    "files_ids_train, files_ids_test = train_test_split(files_ids, test_size=0.2, random_state=fold)\n",
    "files_ids_test = np.sort(files_ids_test)\n",
    "files_ids_train = np.sort(files_ids_train)\n",
    "files_test = [i for i in files if i.split('_cube')[0] in files_ids_test]\n",
    "files_train = [i for i in files if i.split('_cube')[0] in files_ids_train]"
   ]
  },
  {
   "cell_type": "code",
   "execution_count": 11,
   "metadata": {},
   "outputs": [
    {
     "data": {
      "text/plain": [
       "['LIDC-IDRI-0001_cube_000.npz',\n",
       " 'LIDC-IDRI-0001_cube_001.npz',\n",
       " 'LIDC-IDRI-0001_cube_002.npz',\n",
       " 'LIDC-IDRI-0001_cube_003.npz',\n",
       " 'LIDC-IDRI-0001_cube_004.npz',\n",
       " 'LIDC-IDRI-0001_cube_005.npz',\n",
       " 'LIDC-IDRI-0001_cube_006.npz',\n",
       " 'LIDC-IDRI-0001_cube_007.npz',\n",
       " 'LIDC-IDRI-0001_cube_008.npz',\n",
       " 'LIDC-IDRI-0001_cube_009.npz',\n",
       " 'LIDC-IDRI-0001_cube_010.npz',\n",
       " 'LIDC-IDRI-0001_cube_011.npz',\n",
       " 'LIDC-IDRI-0001_cube_012.npz',\n",
       " 'LIDC-IDRI-0001_cube_013.npz',\n",
       " 'LIDC-IDRI-0001_cube_014.npz',\n",
       " 'LIDC-IDRI-0001_cube_015.npz',\n",
       " 'LIDC-IDRI-0001_cube_016.npz',\n",
       " 'LIDC-IDRI-0001_cube_017.npz',\n",
       " 'LIDC-IDRI-0001_cube_018.npz',\n",
       " 'LIDC-IDRI-0001_cube_019.npz',\n",
       " 'LIDC-IDRI-0001_cube_020.npz',\n",
       " 'LIDC-IDRI-0001_cube_021.npz',\n",
       " 'LIDC-IDRI-0001_cube_022.npz',\n",
       " 'LIDC-IDRI-0001_cube_023.npz',\n",
       " 'LIDC-IDRI-0001_cube_024.npz',\n",
       " 'LIDC-IDRI-0001_cube_025.npz',\n",
       " 'LIDC-IDRI-0001_cube_026.npz',\n",
       " 'LIDC-IDRI-0001_cube_027.npz',\n",
       " 'LIDC-IDRI-0001_cube_028.npz',\n",
       " 'LIDC-IDRI-0002_cube_000.npz',\n",
       " 'LIDC-IDRI-0002_cube_001.npz',\n",
       " 'LIDC-IDRI-0002_cube_002.npz',\n",
       " 'LIDC-IDRI-0002_cube_003.npz',\n",
       " 'LIDC-IDRI-0002_cube_004.npz',\n",
       " 'LIDC-IDRI-0002_cube_005.npz',\n",
       " 'LIDC-IDRI-0002_cube_006.npz',\n",
       " 'LIDC-IDRI-0002_cube_007.npz',\n",
       " 'LIDC-IDRI-0002_cube_008.npz',\n",
       " 'LIDC-IDRI-0002_cube_009.npz',\n",
       " 'LIDC-IDRI-0002_cube_010.npz',\n",
       " 'LIDC-IDRI-0002_cube_011.npz',\n",
       " 'LIDC-IDRI-0002_cube_012.npz',\n",
       " 'LIDC-IDRI-0002_cube_013.npz',\n",
       " 'LIDC-IDRI-0002_cube_014.npz',\n",
       " 'LIDC-IDRI-0002_cube_015.npz',\n",
       " 'LIDC-IDRI-0002_cube_016.npz',\n",
       " 'LIDC-IDRI-0002_cube_017.npz',\n",
       " 'LIDC-IDRI-0002_cube_018.npz',\n",
       " 'LIDC-IDRI-0002_cube_019.npz',\n",
       " 'LIDC-IDRI-0002_cube_020.npz',\n",
       " 'LIDC-IDRI-0002_cube_021.npz',\n",
       " 'LIDC-IDRI-0002_cube_022.npz',\n",
       " 'LIDC-IDRI-0002_cube_023.npz',\n",
       " 'LIDC-IDRI-0002_cube_024.npz',\n",
       " 'LIDC-IDRI-0002_cube_025.npz',\n",
       " 'LIDC-IDRI-0002_cube_026.npz',\n",
       " 'LIDC-IDRI-0002_cube_027.npz',\n",
       " 'LIDC-IDRI-0002_cube_028.npz',\n",
       " 'LIDC-IDRI-0002_cube_029.npz',\n",
       " 'LIDC-IDRI-0002_cube_030.npz',\n",
       " 'LIDC-IDRI-0002_cube_031.npz',\n",
       " 'LIDC-IDRI-0005_cube_000.npz',\n",
       " 'LIDC-IDRI-0005_cube_001.npz',\n",
       " 'LIDC-IDRI-0005_cube_002.npz',\n",
       " 'LIDC-IDRI-0005_cube_003.npz',\n",
       " 'LIDC-IDRI-0005_cube_004.npz',\n",
       " 'LIDC-IDRI-0005_cube_005.npz',\n",
       " 'LIDC-IDRI-0005_cube_006.npz',\n",
       " 'LIDC-IDRI-0005_cube_007.npz',\n",
       " 'LIDC-IDRI-0005_cube_008.npz',\n",
       " 'LIDC-IDRI-0005_cube_009.npz',\n",
       " 'LIDC-IDRI-0005_cube_010.npz',\n",
       " 'LIDC-IDRI-0005_cube_011.npz',\n",
       " 'LIDC-IDRI-0005_cube_012.npz',\n",
       " 'LIDC-IDRI-0005_cube_013.npz',\n",
       " 'LIDC-IDRI-0005_cube_014.npz',\n",
       " 'LIDC-IDRI-0005_cube_015.npz',\n",
       " 'LIDC-IDRI-0005_cube_016.npz',\n",
       " 'LIDC-IDRI-0005_cube_017.npz',\n",
       " 'LIDC-IDRI-0005_cube_018.npz',\n",
       " 'LIDC-IDRI-0005_cube_019.npz',\n",
       " 'LIDC-IDRI-0005_cube_020.npz',\n",
       " 'LIDC-IDRI-0005_cube_021.npz',\n",
       " 'LIDC-IDRI-0005_cube_022.npz',\n",
       " 'LIDC-IDRI-0005_cube_023.npz',\n",
       " 'LIDC-IDRI-0005_cube_024.npz',\n",
       " 'LIDC-IDRI-0005_cube_025.npz',\n",
       " 'LIDC-IDRI-0005_cube_026.npz',\n",
       " 'LIDC-IDRI-0005_cube_027.npz',\n",
       " 'LIDC-IDRI-0005_cube_028.npz',\n",
       " 'LIDC-IDRI-0005_cube_029.npz',\n",
       " 'LIDC-IDRI-0005_cube_030.npz',\n",
       " 'LIDC-IDRI-0005_cube_031.npz',\n",
       " 'LIDC-IDRI-0006_cube_000.npz',\n",
       " 'LIDC-IDRI-0006_cube_001.npz',\n",
       " 'LIDC-IDRI-0006_cube_002.npz',\n",
       " 'LIDC-IDRI-0006_cube_003.npz',\n",
       " 'LIDC-IDRI-0006_cube_004.npz',\n",
       " 'LIDC-IDRI-0006_cube_005.npz',\n",
       " 'LIDC-IDRI-0006_cube_006.npz',\n",
       " 'LIDC-IDRI-0006_cube_007.npz',\n",
       " 'LIDC-IDRI-0006_cube_008.npz',\n",
       " 'LIDC-IDRI-0006_cube_009.npz',\n",
       " 'LIDC-IDRI-0006_cube_010.npz',\n",
       " 'LIDC-IDRI-0006_cube_011.npz',\n",
       " 'LIDC-IDRI-0006_cube_012.npz',\n",
       " 'LIDC-IDRI-0006_cube_013.npz',\n",
       " 'LIDC-IDRI-0006_cube_014.npz',\n",
       " 'LIDC-IDRI-0006_cube_015.npz',\n",
       " 'LIDC-IDRI-0006_cube_016.npz',\n",
       " 'LIDC-IDRI-0006_cube_017.npz',\n",
       " 'LIDC-IDRI-0006_cube_018.npz',\n",
       " 'LIDC-IDRI-0006_cube_019.npz',\n",
       " 'LIDC-IDRI-0006_cube_020.npz',\n",
       " 'LIDC-IDRI-0006_cube_021.npz',\n",
       " 'LIDC-IDRI-0006_cube_022.npz',\n",
       " 'LIDC-IDRI-0006_cube_023.npz',\n",
       " 'LIDC-IDRI-0006_cube_024.npz',\n",
       " 'LIDC-IDRI-0006_cube_025.npz',\n",
       " 'LIDC-IDRI-0006_cube_026.npz',\n",
       " 'LIDC-IDRI-0006_cube_027.npz',\n",
       " 'LIDC-IDRI-0006_cube_028.npz',\n",
       " 'LIDC-IDRI-0006_cube_029.npz',\n",
       " 'LIDC-IDRI-0006_cube_030.npz',\n",
       " 'LIDC-IDRI-0006_cube_031.npz',\n",
       " 'LIDC-IDRI-0007_cube_000.npz',\n",
       " 'LIDC-IDRI-0007_cube_001.npz',\n",
       " 'LIDC-IDRI-0007_cube_002.npz',\n",
       " 'LIDC-IDRI-0007_cube_003.npz',\n",
       " 'LIDC-IDRI-0007_cube_004.npz',\n",
       " 'LIDC-IDRI-0007_cube_005.npz',\n",
       " 'LIDC-IDRI-0007_cube_006.npz',\n",
       " 'LIDC-IDRI-0007_cube_007.npz',\n",
       " 'LIDC-IDRI-0007_cube_008.npz',\n",
       " 'LIDC-IDRI-0007_cube_009.npz',\n",
       " 'LIDC-IDRI-0007_cube_010.npz',\n",
       " 'LIDC-IDRI-0007_cube_011.npz',\n",
       " 'LIDC-IDRI-0007_cube_012.npz',\n",
       " 'LIDC-IDRI-0007_cube_013.npz',\n",
       " 'LIDC-IDRI-0007_cube_014.npz',\n",
       " 'LIDC-IDRI-0007_cube_015.npz',\n",
       " 'LIDC-IDRI-0007_cube_016.npz',\n",
       " 'LIDC-IDRI-0007_cube_017.npz',\n",
       " 'LIDC-IDRI-0007_cube_018.npz',\n",
       " 'LIDC-IDRI-0007_cube_019.npz',\n",
       " 'LIDC-IDRI-0007_cube_020.npz',\n",
       " 'LIDC-IDRI-0007_cube_021.npz',\n",
       " 'LIDC-IDRI-0007_cube_022.npz',\n",
       " 'LIDC-IDRI-0007_cube_023.npz',\n",
       " 'LIDC-IDRI-0007_cube_024.npz',\n",
       " 'LIDC-IDRI-0007_cube_025.npz',\n",
       " 'LIDC-IDRI-0007_cube_026.npz',\n",
       " 'LIDC-IDRI-0007_cube_027.npz',\n",
       " 'LIDC-IDRI-0007_cube_028.npz',\n",
       " 'LIDC-IDRI-0007_cube_029.npz',\n",
       " 'LIDC-IDRI-0007_cube_030.npz',\n",
       " 'LIDC-IDRI-0007_cube_031.npz',\n",
       " 'LIDC-IDRI-0007_cube_032.npz',\n",
       " 'LIDC-IDRI-0007_cube_033.npz',\n",
       " 'LIDC-IDRI-0007_cube_034.npz',\n",
       " 'LIDC-IDRI-0007_cube_035.npz',\n",
       " 'LIDC-IDRI-0007_cube_036.npz',\n",
       " 'LIDC-IDRI-0007_cube_037.npz',\n",
       " 'LIDC-IDRI-0007_cube_038.npz',\n",
       " 'LIDC-IDRI-0007_cube_039.npz',\n",
       " 'LIDC-IDRI-0008_cube_000.npz',\n",
       " 'LIDC-IDRI-0008_cube_001.npz',\n",
       " 'LIDC-IDRI-0008_cube_002.npz',\n",
       " 'LIDC-IDRI-0008_cube_003.npz',\n",
       " 'LIDC-IDRI-0008_cube_004.npz',\n",
       " 'LIDC-IDRI-0008_cube_005.npz',\n",
       " 'LIDC-IDRI-0008_cube_006.npz',\n",
       " 'LIDC-IDRI-0008_cube_007.npz',\n",
       " 'LIDC-IDRI-0008_cube_008.npz',\n",
       " 'LIDC-IDRI-0008_cube_009.npz',\n",
       " 'LIDC-IDRI-0008_cube_010.npz',\n",
       " 'LIDC-IDRI-0008_cube_011.npz',\n",
       " 'LIDC-IDRI-0008_cube_012.npz',\n",
       " 'LIDC-IDRI-0008_cube_013.npz',\n",
       " 'LIDC-IDRI-0008_cube_014.npz',\n",
       " 'LIDC-IDRI-0008_cube_015.npz',\n",
       " 'LIDC-IDRI-0008_cube_016.npz',\n",
       " 'LIDC-IDRI-0008_cube_017.npz',\n",
       " 'LIDC-IDRI-0008_cube_018.npz',\n",
       " 'LIDC-IDRI-0008_cube_019.npz',\n",
       " 'LIDC-IDRI-0008_cube_020.npz',\n",
       " 'LIDC-IDRI-0008_cube_021.npz',\n",
       " 'LIDC-IDRI-0008_cube_022.npz',\n",
       " 'LIDC-IDRI-0008_cube_023.npz',\n",
       " 'LIDC-IDRI-0008_cube_024.npz',\n",
       " 'LIDC-IDRI-0008_cube_025.npz',\n",
       " 'LIDC-IDRI-0008_cube_026.npz',\n",
       " 'LIDC-IDRI-0008_cube_027.npz',\n",
       " 'LIDC-IDRI-0008_cube_028.npz',\n",
       " 'LIDC-IDRI-0008_cube_029.npz',\n",
       " 'LIDC-IDRI-0010_cube_000.npz',\n",
       " 'LIDC-IDRI-0010_cube_001.npz',\n",
       " 'LIDC-IDRI-0010_cube_002.npz',\n",
       " 'LIDC-IDRI-0010_cube_003.npz',\n",
       " 'LIDC-IDRI-0010_cube_004.npz',\n",
       " 'LIDC-IDRI-0010_cube_005.npz',\n",
       " 'LIDC-IDRI-0010_cube_006.npz',\n",
       " 'LIDC-IDRI-0010_cube_007.npz',\n",
       " 'LIDC-IDRI-0010_cube_008.npz',\n",
       " 'LIDC-IDRI-0010_cube_009.npz',\n",
       " 'LIDC-IDRI-0010_cube_010.npz',\n",
       " 'LIDC-IDRI-0010_cube_011.npz',\n",
       " 'LIDC-IDRI-0010_cube_012.npz',\n",
       " 'LIDC-IDRI-0010_cube_013.npz',\n",
       " 'LIDC-IDRI-0010_cube_014.npz',\n",
       " 'LIDC-IDRI-0010_cube_015.npz',\n",
       " 'LIDC-IDRI-0010_cube_016.npz',\n",
       " 'LIDC-IDRI-0010_cube_017.npz',\n",
       " 'LIDC-IDRI-0010_cube_018.npz',\n",
       " 'LIDC-IDRI-0010_cube_019.npz',\n",
       " 'LIDC-IDRI-0010_cube_020.npz',\n",
       " 'LIDC-IDRI-0010_cube_021.npz',\n",
       " 'LIDC-IDRI-0010_cube_022.npz',\n",
       " 'LIDC-IDRI-0010_cube_023.npz',\n",
       " 'LIDC-IDRI-0010_cube_024.npz',\n",
       " 'LIDC-IDRI-0010_cube_025.npz',\n",
       " 'LIDC-IDRI-0010_cube_026.npz',\n",
       " 'LIDC-IDRI-0010_cube_027.npz',\n",
       " 'LIDC-IDRI-0010_cube_028.npz',\n",
       " 'LIDC-IDRI-0011_cube_000.npz',\n",
       " 'LIDC-IDRI-0011_cube_001.npz',\n",
       " 'LIDC-IDRI-0011_cube_002.npz',\n",
       " 'LIDC-IDRI-0011_cube_003.npz',\n",
       " 'LIDC-IDRI-0011_cube_004.npz',\n",
       " 'LIDC-IDRI-0011_cube_005.npz',\n",
       " 'LIDC-IDRI-0011_cube_006.npz',\n",
       " 'LIDC-IDRI-0011_cube_007.npz',\n",
       " 'LIDC-IDRI-0011_cube_008.npz',\n",
       " 'LIDC-IDRI-0011_cube_009.npz',\n",
       " 'LIDC-IDRI-0011_cube_010.npz',\n",
       " 'LIDC-IDRI-0011_cube_011.npz',\n",
       " 'LIDC-IDRI-0011_cube_012.npz',\n",
       " 'LIDC-IDRI-0011_cube_013.npz',\n",
       " 'LIDC-IDRI-0011_cube_014.npz',\n",
       " 'LIDC-IDRI-0011_cube_015.npz',\n",
       " 'LIDC-IDRI-0011_cube_016.npz',\n",
       " 'LIDC-IDRI-0011_cube_017.npz',\n",
       " 'LIDC-IDRI-0011_cube_018.npz',\n",
       " 'LIDC-IDRI-0011_cube_019.npz',\n",
       " 'LIDC-IDRI-0011_cube_020.npz',\n",
       " 'LIDC-IDRI-0011_cube_021.npz',\n",
       " 'LIDC-IDRI-0011_cube_022.npz',\n",
       " 'LIDC-IDRI-0011_cube_023.npz',\n",
       " 'LIDC-IDRI-0011_cube_024.npz',\n",
       " 'LIDC-IDRI-0011_cube_025.npz',\n",
       " 'LIDC-IDRI-0011_cube_026.npz',\n",
       " 'LIDC-IDRI-0011_cube_027.npz',\n",
       " 'LIDC-IDRI-0011_cube_028.npz',\n",
       " 'LIDC-IDRI-0011_cube_029.npz',\n",
       " 'LIDC-IDRI-0012_cube_000.npz',\n",
       " 'LIDC-IDRI-0012_cube_001.npz',\n",
       " 'LIDC-IDRI-0012_cube_002.npz',\n",
       " 'LIDC-IDRI-0012_cube_003.npz',\n",
       " 'LIDC-IDRI-0012_cube_004.npz',\n",
       " 'LIDC-IDRI-0012_cube_005.npz',\n",
       " 'LIDC-IDRI-0012_cube_006.npz',\n",
       " 'LIDC-IDRI-0012_cube_007.npz',\n",
       " 'LIDC-IDRI-0012_cube_008.npz',\n",
       " 'LIDC-IDRI-0012_cube_009.npz',\n",
       " 'LIDC-IDRI-0012_cube_010.npz',\n",
       " 'LIDC-IDRI-0012_cube_011.npz',\n",
       " 'LIDC-IDRI-0012_cube_012.npz',\n",
       " 'LIDC-IDRI-0012_cube_013.npz',\n",
       " 'LIDC-IDRI-0012_cube_014.npz',\n",
       " 'LIDC-IDRI-0012_cube_015.npz',\n",
       " 'LIDC-IDRI-0012_cube_016.npz',\n",
       " 'LIDC-IDRI-0012_cube_017.npz',\n",
       " 'LIDC-IDRI-0012_cube_018.npz',\n",
       " 'LIDC-IDRI-0012_cube_019.npz',\n",
       " 'LIDC-IDRI-0012_cube_020.npz',\n",
       " 'LIDC-IDRI-0012_cube_021.npz',\n",
       " 'LIDC-IDRI-0012_cube_022.npz',\n",
       " 'LIDC-IDRI-0012_cube_023.npz',\n",
       " 'LIDC-IDRI-0012_cube_024.npz',\n",
       " 'LIDC-IDRI-0012_cube_025.npz',\n",
       " 'LIDC-IDRI-0012_cube_026.npz',\n",
       " 'LIDC-IDRI-0012_cube_027.npz',\n",
       " 'LIDC-IDRI-0012_cube_028.npz',\n",
       " 'LIDC-IDRI-0012_cube_029.npz',\n",
       " 'LIDC-IDRI-0013_cube_000.npz',\n",
       " 'LIDC-IDRI-0013_cube_001.npz',\n",
       " 'LIDC-IDRI-0013_cube_002.npz',\n",
       " 'LIDC-IDRI-0013_cube_003.npz',\n",
       " 'LIDC-IDRI-0013_cube_004.npz',\n",
       " 'LIDC-IDRI-0013_cube_005.npz',\n",
       " 'LIDC-IDRI-0013_cube_006.npz',\n",
       " 'LIDC-IDRI-0013_cube_007.npz',\n",
       " 'LIDC-IDRI-0013_cube_008.npz',\n",
       " 'LIDC-IDRI-0013_cube_009.npz',\n",
       " 'LIDC-IDRI-0013_cube_010.npz',\n",
       " 'LIDC-IDRI-0013_cube_011.npz',\n",
       " 'LIDC-IDRI-0013_cube_012.npz',\n",
       " 'LIDC-IDRI-0013_cube_013.npz',\n",
       " 'LIDC-IDRI-0013_cube_014.npz',\n",
       " 'LIDC-IDRI-0013_cube_015.npz',\n",
       " 'LIDC-IDRI-0013_cube_016.npz',\n",
       " 'LIDC-IDRI-0013_cube_017.npz',\n",
       " 'LIDC-IDRI-0013_cube_018.npz',\n",
       " 'LIDC-IDRI-0013_cube_019.npz',\n",
       " 'LIDC-IDRI-0013_cube_020.npz',\n",
       " 'LIDC-IDRI-0013_cube_021.npz',\n",
       " 'LIDC-IDRI-0013_cube_022.npz',\n",
       " 'LIDC-IDRI-0013_cube_023.npz',\n",
       " 'LIDC-IDRI-0013_cube_024.npz',\n",
       " 'LIDC-IDRI-0013_cube_025.npz',\n",
       " 'LIDC-IDRI-0013_cube_026.npz',\n",
       " 'LIDC-IDRI-0013_cube_027.npz',\n",
       " 'LIDC-IDRI-0013_cube_028.npz',\n",
       " 'LIDC-IDRI-0013_cube_029.npz',\n",
       " 'LIDC-IDRI-0013_cube_030.npz',\n",
       " 'LIDC-IDRI-0014_cube_000.npz',\n",
       " 'LIDC-IDRI-0014_cube_001.npz',\n",
       " 'LIDC-IDRI-0014_cube_002.npz',\n",
       " 'LIDC-IDRI-0014_cube_003.npz',\n",
       " 'LIDC-IDRI-0014_cube_004.npz',\n",
       " 'LIDC-IDRI-0014_cube_005.npz',\n",
       " 'LIDC-IDRI-0014_cube_006.npz',\n",
       " 'LIDC-IDRI-0014_cube_007.npz',\n",
       " 'LIDC-IDRI-0014_cube_008.npz',\n",
       " 'LIDC-IDRI-0014_cube_009.npz',\n",
       " 'LIDC-IDRI-0014_cube_010.npz',\n",
       " 'LIDC-IDRI-0014_cube_011.npz',\n",
       " 'LIDC-IDRI-0014_cube_012.npz',\n",
       " 'LIDC-IDRI-0014_cube_013.npz',\n",
       " 'LIDC-IDRI-0014_cube_014.npz',\n",
       " 'LIDC-IDRI-0014_cube_015.npz',\n",
       " 'LIDC-IDRI-0014_cube_016.npz',\n",
       " 'LIDC-IDRI-0014_cube_017.npz',\n",
       " 'LIDC-IDRI-0014_cube_018.npz',\n",
       " 'LIDC-IDRI-0014_cube_019.npz',\n",
       " 'LIDC-IDRI-0014_cube_020.npz',\n",
       " 'LIDC-IDRI-0014_cube_021.npz',\n",
       " 'LIDC-IDRI-0014_cube_022.npz',\n",
       " 'LIDC-IDRI-0014_cube_023.npz',\n",
       " 'LIDC-IDRI-0014_cube_024.npz',\n",
       " 'LIDC-IDRI-0014_cube_025.npz',\n",
       " 'LIDC-IDRI-0014_cube_026.npz',\n",
       " 'LIDC-IDRI-0014_cube_027.npz',\n",
       " 'LIDC-IDRI-0014_cube_028.npz',\n",
       " 'LIDC-IDRI-0014_cube_029.npz',\n",
       " 'LIDC-IDRI-0014_cube_030.npz',\n",
       " 'LIDC-IDRI-0014_cube_031.npz',\n",
       " 'LIDC-IDRI-0015_cube_000.npz',\n",
       " 'LIDC-IDRI-0015_cube_001.npz',\n",
       " 'LIDC-IDRI-0015_cube_002.npz',\n",
       " 'LIDC-IDRI-0015_cube_003.npz',\n",
       " 'LIDC-IDRI-0015_cube_004.npz',\n",
       " 'LIDC-IDRI-0015_cube_005.npz',\n",
       " 'LIDC-IDRI-0015_cube_006.npz',\n",
       " 'LIDC-IDRI-0015_cube_007.npz',\n",
       " 'LIDC-IDRI-0015_cube_008.npz',\n",
       " 'LIDC-IDRI-0015_cube_009.npz',\n",
       " 'LIDC-IDRI-0015_cube_010.npz',\n",
       " 'LIDC-IDRI-0015_cube_011.npz',\n",
       " 'LIDC-IDRI-0015_cube_012.npz',\n",
       " 'LIDC-IDRI-0015_cube_013.npz',\n",
       " 'LIDC-IDRI-0015_cube_014.npz',\n",
       " 'LIDC-IDRI-0015_cube_015.npz',\n",
       " 'LIDC-IDRI-0015_cube_016.npz',\n",
       " 'LIDC-IDRI-0015_cube_017.npz',\n",
       " 'LIDC-IDRI-0015_cube_018.npz',\n",
       " 'LIDC-IDRI-0015_cube_019.npz',\n",
       " 'LIDC-IDRI-0015_cube_020.npz',\n",
       " 'LIDC-IDRI-0015_cube_021.npz',\n",
       " 'LIDC-IDRI-0015_cube_022.npz',\n",
       " 'LIDC-IDRI-0015_cube_023.npz',\n",
       " 'LIDC-IDRI-0015_cube_024.npz',\n",
       " 'LIDC-IDRI-0015_cube_025.npz',\n",
       " 'LIDC-IDRI-0015_cube_026.npz',\n",
       " 'LIDC-IDRI-0015_cube_027.npz',\n",
       " 'LIDC-IDRI-0015_cube_028.npz',\n",
       " 'LIDC-IDRI-0015_cube_029.npz',\n",
       " 'LIDC-IDRI-0015_cube_030.npz',\n",
       " 'LIDC-IDRI-0015_cube_031.npz',\n",
       " 'LIDC-IDRI-0016_cube_000.npz',\n",
       " 'LIDC-IDRI-0016_cube_001.npz',\n",
       " 'LIDC-IDRI-0016_cube_002.npz',\n",
       " 'LIDC-IDRI-0016_cube_003.npz',\n",
       " 'LIDC-IDRI-0016_cube_004.npz',\n",
       " 'LIDC-IDRI-0016_cube_005.npz',\n",
       " 'LIDC-IDRI-0016_cube_006.npz',\n",
       " 'LIDC-IDRI-0016_cube_007.npz',\n",
       " 'LIDC-IDRI-0016_cube_008.npz',\n",
       " 'LIDC-IDRI-0016_cube_009.npz',\n",
       " 'LIDC-IDRI-0016_cube_010.npz',\n",
       " 'LIDC-IDRI-0016_cube_011.npz',\n",
       " 'LIDC-IDRI-0016_cube_012.npz',\n",
       " 'LIDC-IDRI-0016_cube_013.npz',\n",
       " 'LIDC-IDRI-0016_cube_014.npz',\n",
       " 'LIDC-IDRI-0016_cube_015.npz',\n",
       " 'LIDC-IDRI-0016_cube_016.npz',\n",
       " 'LIDC-IDRI-0016_cube_017.npz',\n",
       " 'LIDC-IDRI-0016_cube_018.npz',\n",
       " 'LIDC-IDRI-0016_cube_019.npz',\n",
       " 'LIDC-IDRI-0016_cube_020.npz',\n",
       " 'LIDC-IDRI-0016_cube_021.npz',\n",
       " 'LIDC-IDRI-0016_cube_022.npz',\n",
       " 'LIDC-IDRI-0016_cube_023.npz',\n",
       " 'LIDC-IDRI-0016_cube_024.npz',\n",
       " 'LIDC-IDRI-0016_cube_025.npz',\n",
       " 'LIDC-IDRI-0016_cube_026.npz',\n",
       " 'LIDC-IDRI-0016_cube_027.npz',\n",
       " 'LIDC-IDRI-0016_cube_028.npz',\n",
       " 'LIDC-IDRI-0019_cube_000.npz',\n",
       " 'LIDC-IDRI-0019_cube_001.npz',\n",
       " 'LIDC-IDRI-0019_cube_002.npz',\n",
       " 'LIDC-IDRI-0019_cube_003.npz',\n",
       " 'LIDC-IDRI-0019_cube_004.npz',\n",
       " 'LIDC-IDRI-0019_cube_005.npz',\n",
       " 'LIDC-IDRI-0019_cube_006.npz',\n",
       " 'LIDC-IDRI-0019_cube_007.npz',\n",
       " 'LIDC-IDRI-0019_cube_008.npz',\n",
       " 'LIDC-IDRI-0019_cube_009.npz',\n",
       " 'LIDC-IDRI-0019_cube_010.npz',\n",
       " 'LIDC-IDRI-0019_cube_011.npz',\n",
       " 'LIDC-IDRI-0019_cube_012.npz',\n",
       " 'LIDC-IDRI-0019_cube_013.npz',\n",
       " 'LIDC-IDRI-0019_cube_014.npz',\n",
       " 'LIDC-IDRI-0019_cube_015.npz',\n",
       " 'LIDC-IDRI-0019_cube_016.npz',\n",
       " 'LIDC-IDRI-0019_cube_017.npz',\n",
       " 'LIDC-IDRI-0019_cube_018.npz',\n",
       " 'LIDC-IDRI-0019_cube_019.npz',\n",
       " 'LIDC-IDRI-0019_cube_020.npz',\n",
       " 'LIDC-IDRI-0019_cube_021.npz',\n",
       " 'LIDC-IDRI-0019_cube_022.npz',\n",
       " 'LIDC-IDRI-0019_cube_023.npz',\n",
       " 'LIDC-IDRI-0019_cube_024.npz',\n",
       " 'LIDC-IDRI-0019_cube_025.npz',\n",
       " 'LIDC-IDRI-0019_cube_026.npz',\n",
       " 'LIDC-IDRI-0019_cube_027.npz',\n",
       " 'LIDC-IDRI-0019_cube_028.npz',\n",
       " 'LIDC-IDRI-0019_cube_029.npz',\n",
       " 'LIDC-IDRI-0019_cube_030.npz',\n",
       " 'LIDC-IDRI-0019_cube_031.npz',\n",
       " 'LIDC-IDRI-0019_cube_032.npz',\n",
       " 'LIDC-IDRI-0019_cube_033.npz',\n",
       " 'LIDC-IDRI-0019_cube_034.npz',\n",
       " 'LIDC-IDRI-0019_cube_035.npz',\n",
       " 'LIDC-IDRI-0019_cube_036.npz',\n",
       " 'LIDC-IDRI-0019_cube_037.npz',\n",
       " 'LIDC-IDRI-0019_cube_038.npz',\n",
       " 'LIDC-IDRI-0021_cube_000.npz',\n",
       " 'LIDC-IDRI-0021_cube_001.npz',\n",
       " 'LIDC-IDRI-0021_cube_002.npz',\n",
       " 'LIDC-IDRI-0021_cube_003.npz',\n",
       " 'LIDC-IDRI-0021_cube_004.npz',\n",
       " 'LIDC-IDRI-0021_cube_005.npz',\n",
       " 'LIDC-IDRI-0021_cube_006.npz',\n",
       " 'LIDC-IDRI-0021_cube_007.npz',\n",
       " 'LIDC-IDRI-0021_cube_008.npz',\n",
       " 'LIDC-IDRI-0021_cube_009.npz',\n",
       " 'LIDC-IDRI-0021_cube_010.npz',\n",
       " 'LIDC-IDRI-0021_cube_011.npz',\n",
       " 'LIDC-IDRI-0021_cube_012.npz',\n",
       " 'LIDC-IDRI-0021_cube_013.npz',\n",
       " 'LIDC-IDRI-0021_cube_014.npz',\n",
       " 'LIDC-IDRI-0021_cube_015.npz',\n",
       " 'LIDC-IDRI-0021_cube_016.npz',\n",
       " 'LIDC-IDRI-0021_cube_017.npz',\n",
       " 'LIDC-IDRI-0021_cube_018.npz',\n",
       " 'LIDC-IDRI-0021_cube_019.npz',\n",
       " 'LIDC-IDRI-0021_cube_020.npz',\n",
       " 'LIDC-IDRI-0021_cube_021.npz',\n",
       " 'LIDC-IDRI-0021_cube_022.npz',\n",
       " 'LIDC-IDRI-0021_cube_023.npz',\n",
       " 'LIDC-IDRI-0021_cube_024.npz',\n",
       " 'LIDC-IDRI-0021_cube_025.npz',\n",
       " 'LIDC-IDRI-0021_cube_026.npz',\n",
       " 'LIDC-IDRI-0021_cube_027.npz',\n",
       " 'LIDC-IDRI-0021_cube_028.npz',\n",
       " 'LIDC-IDRI-0021_cube_029.npz',\n",
       " 'LIDC-IDRI-0021_cube_030.npz',\n",
       " 'LIDC-IDRI-0021_cube_031.npz',\n",
       " 'LIDC-IDRI-0022_cube_000.npz',\n",
       " 'LIDC-IDRI-0022_cube_001.npz',\n",
       " 'LIDC-IDRI-0022_cube_002.npz',\n",
       " 'LIDC-IDRI-0022_cube_003.npz',\n",
       " 'LIDC-IDRI-0022_cube_004.npz',\n",
       " 'LIDC-IDRI-0022_cube_005.npz',\n",
       " 'LIDC-IDRI-0022_cube_006.npz',\n",
       " 'LIDC-IDRI-0022_cube_007.npz',\n",
       " 'LIDC-IDRI-0022_cube_008.npz',\n",
       " 'LIDC-IDRI-0022_cube_009.npz',\n",
       " 'LIDC-IDRI-0022_cube_010.npz',\n",
       " 'LIDC-IDRI-0022_cube_011.npz',\n",
       " 'LIDC-IDRI-0022_cube_012.npz',\n",
       " 'LIDC-IDRI-0022_cube_013.npz',\n",
       " 'LIDC-IDRI-0022_cube_014.npz',\n",
       " 'LIDC-IDRI-0022_cube_015.npz',\n",
       " 'LIDC-IDRI-0022_cube_016.npz',\n",
       " 'LIDC-IDRI-0022_cube_017.npz',\n",
       " 'LIDC-IDRI-0022_cube_018.npz',\n",
       " 'LIDC-IDRI-0022_cube_019.npz',\n",
       " 'LIDC-IDRI-0022_cube_020.npz',\n",
       " 'LIDC-IDRI-0022_cube_021.npz',\n",
       " 'LIDC-IDRI-0022_cube_022.npz',\n",
       " 'LIDC-IDRI-0022_cube_023.npz',\n",
       " 'LIDC-IDRI-0022_cube_024.npz',\n",
       " 'LIDC-IDRI-0022_cube_025.npz',\n",
       " 'LIDC-IDRI-0022_cube_026.npz',\n",
       " 'LIDC-IDRI-0022_cube_027.npz',\n",
       " 'LIDC-IDRI-0022_cube_028.npz',\n",
       " 'LIDC-IDRI-0022_cube_029.npz',\n",
       " 'LIDC-IDRI-0022_cube_030.npz',\n",
       " 'LIDC-IDRI-0023_cube_000.npz',\n",
       " 'LIDC-IDRI-0023_cube_001.npz',\n",
       " 'LIDC-IDRI-0023_cube_002.npz',\n",
       " 'LIDC-IDRI-0023_cube_003.npz',\n",
       " 'LIDC-IDRI-0023_cube_004.npz',\n",
       " 'LIDC-IDRI-0023_cube_005.npz',\n",
       " 'LIDC-IDRI-0023_cube_006.npz',\n",
       " 'LIDC-IDRI-0023_cube_007.npz',\n",
       " 'LIDC-IDRI-0023_cube_008.npz',\n",
       " 'LIDC-IDRI-0023_cube_009.npz',\n",
       " 'LIDC-IDRI-0023_cube_010.npz',\n",
       " 'LIDC-IDRI-0023_cube_011.npz',\n",
       " 'LIDC-IDRI-0023_cube_012.npz',\n",
       " 'LIDC-IDRI-0023_cube_013.npz',\n",
       " 'LIDC-IDRI-0023_cube_014.npz',\n",
       " 'LIDC-IDRI-0023_cube_015.npz',\n",
       " 'LIDC-IDRI-0023_cube_016.npz',\n",
       " 'LIDC-IDRI-0023_cube_017.npz',\n",
       " 'LIDC-IDRI-0023_cube_018.npz',\n",
       " 'LIDC-IDRI-0023_cube_019.npz',\n",
       " 'LIDC-IDRI-0023_cube_020.npz',\n",
       " 'LIDC-IDRI-0023_cube_021.npz',\n",
       " 'LIDC-IDRI-0023_cube_022.npz',\n",
       " 'LIDC-IDRI-0023_cube_023.npz',\n",
       " 'LIDC-IDRI-0023_cube_024.npz',\n",
       " 'LIDC-IDRI-0023_cube_025.npz',\n",
       " 'LIDC-IDRI-0023_cube_026.npz',\n",
       " 'LIDC-IDRI-0023_cube_027.npz',\n",
       " 'LIDC-IDRI-0023_cube_028.npz',\n",
       " 'LIDC-IDRI-0023_cube_029.npz',\n",
       " 'LIDC-IDRI-0023_cube_030.npz',\n",
       " 'LIDC-IDRI-0025_cube_000.npz',\n",
       " 'LIDC-IDRI-0025_cube_001.npz',\n",
       " 'LIDC-IDRI-0025_cube_002.npz',\n",
       " 'LIDC-IDRI-0025_cube_003.npz',\n",
       " 'LIDC-IDRI-0025_cube_004.npz',\n",
       " 'LIDC-IDRI-0025_cube_005.npz',\n",
       " 'LIDC-IDRI-0025_cube_006.npz',\n",
       " 'LIDC-IDRI-0025_cube_007.npz',\n",
       " 'LIDC-IDRI-0025_cube_008.npz',\n",
       " 'LIDC-IDRI-0025_cube_009.npz',\n",
       " 'LIDC-IDRI-0025_cube_010.npz',\n",
       " 'LIDC-IDRI-0025_cube_011.npz',\n",
       " 'LIDC-IDRI-0025_cube_012.npz',\n",
       " 'LIDC-IDRI-0025_cube_013.npz',\n",
       " 'LIDC-IDRI-0025_cube_014.npz',\n",
       " 'LIDC-IDRI-0025_cube_015.npz',\n",
       " 'LIDC-IDRI-0025_cube_016.npz',\n",
       " 'LIDC-IDRI-0025_cube_017.npz',\n",
       " 'LIDC-IDRI-0025_cube_018.npz',\n",
       " 'LIDC-IDRI-0025_cube_019.npz',\n",
       " 'LIDC-IDRI-0025_cube_020.npz',\n",
       " 'LIDC-IDRI-0025_cube_021.npz',\n",
       " 'LIDC-IDRI-0025_cube_022.npz',\n",
       " 'LIDC-IDRI-0025_cube_023.npz',\n",
       " 'LIDC-IDRI-0025_cube_024.npz',\n",
       " 'LIDC-IDRI-0025_cube_025.npz',\n",
       " 'LIDC-IDRI-0025_cube_026.npz',\n",
       " 'LIDC-IDRI-0025_cube_027.npz',\n",
       " 'LIDC-IDRI-0025_cube_028.npz',\n",
       " 'LIDC-IDRI-0026_cube_000.npz',\n",
       " 'LIDC-IDRI-0026_cube_001.npz',\n",
       " 'LIDC-IDRI-0026_cube_002.npz',\n",
       " 'LIDC-IDRI-0026_cube_003.npz',\n",
       " 'LIDC-IDRI-0026_cube_004.npz',\n",
       " 'LIDC-IDRI-0026_cube_005.npz',\n",
       " 'LIDC-IDRI-0026_cube_006.npz',\n",
       " 'LIDC-IDRI-0026_cube_007.npz',\n",
       " 'LIDC-IDRI-0026_cube_008.npz',\n",
       " 'LIDC-IDRI-0026_cube_009.npz',\n",
       " 'LIDC-IDRI-0026_cube_010.npz',\n",
       " 'LIDC-IDRI-0026_cube_011.npz',\n",
       " 'LIDC-IDRI-0026_cube_012.npz',\n",
       " 'LIDC-IDRI-0026_cube_013.npz',\n",
       " 'LIDC-IDRI-0026_cube_014.npz',\n",
       " 'LIDC-IDRI-0026_cube_015.npz',\n",
       " 'LIDC-IDRI-0026_cube_016.npz',\n",
       " 'LIDC-IDRI-0026_cube_017.npz',\n",
       " 'LIDC-IDRI-0026_cube_018.npz',\n",
       " 'LIDC-IDRI-0026_cube_019.npz',\n",
       " 'LIDC-IDRI-0026_cube_020.npz',\n",
       " 'LIDC-IDRI-0026_cube_021.npz',\n",
       " 'LIDC-IDRI-0026_cube_022.npz',\n",
       " 'LIDC-IDRI-0026_cube_023.npz',\n",
       " 'LIDC-IDRI-0026_cube_024.npz',\n",
       " 'LIDC-IDRI-0026_cube_025.npz',\n",
       " 'LIDC-IDRI-0026_cube_026.npz',\n",
       " 'LIDC-IDRI-0026_cube_027.npz',\n",
       " 'LIDC-IDRI-0026_cube_028.npz',\n",
       " 'LIDC-IDRI-0026_cube_029.npz',\n",
       " 'LIDC-IDRI-0026_cube_030.npz',\n",
       " 'LIDC-IDRI-0026_cube_031.npz',\n",
       " 'LIDC-IDRI-0027_cube_000.npz',\n",
       " 'LIDC-IDRI-0027_cube_001.npz',\n",
       " 'LIDC-IDRI-0027_cube_002.npz',\n",
       " 'LIDC-IDRI-0027_cube_003.npz',\n",
       " 'LIDC-IDRI-0027_cube_004.npz',\n",
       " 'LIDC-IDRI-0027_cube_005.npz',\n",
       " 'LIDC-IDRI-0027_cube_006.npz',\n",
       " 'LIDC-IDRI-0027_cube_007.npz',\n",
       " 'LIDC-IDRI-0027_cube_008.npz',\n",
       " 'LIDC-IDRI-0027_cube_009.npz',\n",
       " 'LIDC-IDRI-0027_cube_010.npz',\n",
       " 'LIDC-IDRI-0027_cube_011.npz',\n",
       " 'LIDC-IDRI-0027_cube_012.npz',\n",
       " 'LIDC-IDRI-0027_cube_013.npz',\n",
       " 'LIDC-IDRI-0027_cube_014.npz',\n",
       " 'LIDC-IDRI-0027_cube_015.npz',\n",
       " 'LIDC-IDRI-0027_cube_016.npz',\n",
       " 'LIDC-IDRI-0027_cube_017.npz',\n",
       " 'LIDC-IDRI-0027_cube_018.npz',\n",
       " 'LIDC-IDRI-0027_cube_019.npz',\n",
       " 'LIDC-IDRI-0027_cube_020.npz',\n",
       " 'LIDC-IDRI-0027_cube_021.npz',\n",
       " 'LIDC-IDRI-0027_cube_022.npz',\n",
       " 'LIDC-IDRI-0027_cube_023.npz',\n",
       " 'LIDC-IDRI-0027_cube_024.npz',\n",
       " 'LIDC-IDRI-0027_cube_025.npz',\n",
       " 'LIDC-IDRI-0027_cube_026.npz',\n",
       " 'LIDC-IDRI-0027_cube_027.npz',\n",
       " 'LIDC-IDRI-0027_cube_028.npz',\n",
       " 'LIDC-IDRI-0027_cube_029.npz',\n",
       " 'LIDC-IDRI-0027_cube_030.npz',\n",
       " 'LIDC-IDRI-0027_cube_031.npz',\n",
       " 'LIDC-IDRI-0027_cube_032.npz',\n",
       " 'LIDC-IDRI-0027_cube_033.npz',\n",
       " 'LIDC-IDRI-0027_cube_034.npz',\n",
       " 'LIDC-IDRI-0027_cube_035.npz',\n",
       " 'LIDC-IDRI-0027_cube_036.npz',\n",
       " 'LIDC-IDRI-0027_cube_037.npz',\n",
       " 'LIDC-IDRI-0028_cube_000.npz',\n",
       " 'LIDC-IDRI-0028_cube_001.npz',\n",
       " 'LIDC-IDRI-0028_cube_002.npz',\n",
       " 'LIDC-IDRI-0028_cube_003.npz',\n",
       " 'LIDC-IDRI-0028_cube_004.npz',\n",
       " 'LIDC-IDRI-0028_cube_005.npz',\n",
       " 'LIDC-IDRI-0028_cube_006.npz',\n",
       " 'LIDC-IDRI-0028_cube_007.npz',\n",
       " 'LIDC-IDRI-0028_cube_008.npz',\n",
       " 'LIDC-IDRI-0028_cube_009.npz',\n",
       " 'LIDC-IDRI-0028_cube_010.npz',\n",
       " 'LIDC-IDRI-0028_cube_011.npz',\n",
       " 'LIDC-IDRI-0028_cube_012.npz',\n",
       " 'LIDC-IDRI-0028_cube_013.npz',\n",
       " 'LIDC-IDRI-0028_cube_014.npz',\n",
       " 'LIDC-IDRI-0028_cube_015.npz',\n",
       " 'LIDC-IDRI-0028_cube_016.npz',\n",
       " 'LIDC-IDRI-0028_cube_017.npz',\n",
       " 'LIDC-IDRI-0028_cube_018.npz',\n",
       " 'LIDC-IDRI-0028_cube_019.npz',\n",
       " 'LIDC-IDRI-0028_cube_020.npz',\n",
       " 'LIDC-IDRI-0028_cube_021.npz',\n",
       " 'LIDC-IDRI-0028_cube_022.npz',\n",
       " 'LIDC-IDRI-0028_cube_023.npz',\n",
       " 'LIDC-IDRI-0028_cube_024.npz',\n",
       " 'LIDC-IDRI-0028_cube_025.npz',\n",
       " 'LIDC-IDRI-0028_cube_026.npz',\n",
       " 'LIDC-IDRI-0028_cube_027.npz',\n",
       " 'LIDC-IDRI-0028_cube_028.npz',\n",
       " 'LIDC-IDRI-0028_cube_029.npz',\n",
       " 'LIDC-IDRI-0028_cube_030.npz',\n",
       " 'LIDC-IDRI-0028_cube_031.npz',\n",
       " 'LIDC-IDRI-0029_cube_000.npz',\n",
       " 'LIDC-IDRI-0029_cube_001.npz',\n",
       " 'LIDC-IDRI-0029_cube_002.npz',\n",
       " 'LIDC-IDRI-0029_cube_003.npz',\n",
       " 'LIDC-IDRI-0029_cube_004.npz',\n",
       " 'LIDC-IDRI-0029_cube_005.npz',\n",
       " 'LIDC-IDRI-0029_cube_006.npz',\n",
       " 'LIDC-IDRI-0029_cube_007.npz',\n",
       " 'LIDC-IDRI-0029_cube_008.npz',\n",
       " 'LIDC-IDRI-0029_cube_009.npz',\n",
       " 'LIDC-IDRI-0029_cube_010.npz',\n",
       " 'LIDC-IDRI-0029_cube_011.npz',\n",
       " 'LIDC-IDRI-0029_cube_012.npz',\n",
       " 'LIDC-IDRI-0029_cube_013.npz',\n",
       " 'LIDC-IDRI-0029_cube_014.npz',\n",
       " 'LIDC-IDRI-0029_cube_015.npz',\n",
       " 'LIDC-IDRI-0029_cube_016.npz',\n",
       " 'LIDC-IDRI-0029_cube_017.npz',\n",
       " 'LIDC-IDRI-0029_cube_018.npz',\n",
       " 'LIDC-IDRI-0029_cube_019.npz',\n",
       " 'LIDC-IDRI-0029_cube_020.npz',\n",
       " 'LIDC-IDRI-0029_cube_021.npz',\n",
       " 'LIDC-IDRI-0029_cube_022.npz',\n",
       " 'LIDC-IDRI-0029_cube_023.npz',\n",
       " 'LIDC-IDRI-0029_cube_024.npz',\n",
       " 'LIDC-IDRI-0029_cube_025.npz',\n",
       " 'LIDC-IDRI-0029_cube_026.npz',\n",
       " 'LIDC-IDRI-0029_cube_027.npz',\n",
       " 'LIDC-IDRI-0029_cube_028.npz',\n",
       " 'LIDC-IDRI-0030_cube_000.npz',\n",
       " 'LIDC-IDRI-0030_cube_001.npz',\n",
       " 'LIDC-IDRI-0030_cube_002.npz',\n",
       " 'LIDC-IDRI-0030_cube_003.npz',\n",
       " 'LIDC-IDRI-0030_cube_004.npz',\n",
       " 'LIDC-IDRI-0030_cube_005.npz',\n",
       " 'LIDC-IDRI-0030_cube_006.npz',\n",
       " 'LIDC-IDRI-0030_cube_007.npz',\n",
       " 'LIDC-IDRI-0030_cube_008.npz',\n",
       " 'LIDC-IDRI-0030_cube_009.npz',\n",
       " 'LIDC-IDRI-0030_cube_010.npz',\n",
       " 'LIDC-IDRI-0030_cube_011.npz',\n",
       " 'LIDC-IDRI-0030_cube_012.npz',\n",
       " 'LIDC-IDRI-0030_cube_013.npz',\n",
       " 'LIDC-IDRI-0030_cube_014.npz',\n",
       " 'LIDC-IDRI-0030_cube_015.npz',\n",
       " 'LIDC-IDRI-0030_cube_016.npz',\n",
       " 'LIDC-IDRI-0030_cube_017.npz',\n",
       " 'LIDC-IDRI-0030_cube_018.npz',\n",
       " 'LIDC-IDRI-0030_cube_019.npz',\n",
       " 'LIDC-IDRI-0030_cube_020.npz',\n",
       " 'LIDC-IDRI-0030_cube_021.npz',\n",
       " 'LIDC-IDRI-0030_cube_022.npz',\n",
       " 'LIDC-IDRI-0030_cube_023.npz',\n",
       " 'LIDC-IDRI-0030_cube_024.npz',\n",
       " 'LIDC-IDRI-0030_cube_025.npz',\n",
       " 'LIDC-IDRI-0030_cube_026.npz',\n",
       " 'LIDC-IDRI-0030_cube_027.npz',\n",
       " 'LIDC-IDRI-0030_cube_028.npz',\n",
       " 'LIDC-IDRI-0030_cube_029.npz',\n",
       " 'LIDC-IDRI-0030_cube_030.npz',\n",
       " 'LIDC-IDRI-0030_cube_031.npz',\n",
       " 'LIDC-IDRI-0031_cube_000.npz',\n",
       " 'LIDC-IDRI-0031_cube_001.npz',\n",
       " 'LIDC-IDRI-0031_cube_002.npz',\n",
       " 'LIDC-IDRI-0031_cube_003.npz',\n",
       " 'LIDC-IDRI-0031_cube_004.npz',\n",
       " 'LIDC-IDRI-0031_cube_005.npz',\n",
       " 'LIDC-IDRI-0031_cube_006.npz',\n",
       " 'LIDC-IDRI-0031_cube_007.npz',\n",
       " 'LIDC-IDRI-0031_cube_008.npz',\n",
       " 'LIDC-IDRI-0031_cube_009.npz',\n",
       " 'LIDC-IDRI-0031_cube_010.npz',\n",
       " 'LIDC-IDRI-0031_cube_011.npz',\n",
       " 'LIDC-IDRI-0031_cube_012.npz',\n",
       " 'LIDC-IDRI-0031_cube_013.npz',\n",
       " 'LIDC-IDRI-0031_cube_014.npz',\n",
       " 'LIDC-IDRI-0031_cube_015.npz',\n",
       " 'LIDC-IDRI-0031_cube_016.npz',\n",
       " 'LIDC-IDRI-0031_cube_017.npz',\n",
       " 'LIDC-IDRI-0031_cube_018.npz',\n",
       " 'LIDC-IDRI-0031_cube_019.npz',\n",
       " 'LIDC-IDRI-0031_cube_020.npz',\n",
       " 'LIDC-IDRI-0031_cube_021.npz',\n",
       " 'LIDC-IDRI-0031_cube_022.npz',\n",
       " 'LIDC-IDRI-0031_cube_023.npz',\n",
       " 'LIDC-IDRI-0031_cube_024.npz',\n",
       " 'LIDC-IDRI-0031_cube_025.npz',\n",
       " 'LIDC-IDRI-0031_cube_026.npz',\n",
       " 'LIDC-IDRI-0031_cube_027.npz',\n",
       " 'LIDC-IDRI-0031_cube_028.npz',\n",
       " 'LIDC-IDRI-0031_cube_029.npz',\n",
       " 'LIDC-IDRI-0031_cube_030.npz',\n",
       " 'LIDC-IDRI-0031_cube_031.npz',\n",
       " 'LIDC-IDRI-0031_cube_032.npz',\n",
       " 'LIDC-IDRI-0031_cube_033.npz',\n",
       " 'LIDC-IDRI-0031_cube_034.npz',\n",
       " 'LIDC-IDRI-0031_cube_035.npz',\n",
       " 'LIDC-IDRI-0031_cube_036.npz',\n",
       " 'LIDC-IDRI-0031_cube_037.npz',\n",
       " 'LIDC-IDRI-0032_cube_000.npz',\n",
       " 'LIDC-IDRI-0032_cube_001.npz',\n",
       " 'LIDC-IDRI-0032_cube_002.npz',\n",
       " 'LIDC-IDRI-0032_cube_003.npz',\n",
       " 'LIDC-IDRI-0032_cube_004.npz',\n",
       " 'LIDC-IDRI-0032_cube_005.npz',\n",
       " 'LIDC-IDRI-0032_cube_006.npz',\n",
       " 'LIDC-IDRI-0032_cube_007.npz',\n",
       " 'LIDC-IDRI-0032_cube_008.npz',\n",
       " 'LIDC-IDRI-0032_cube_009.npz',\n",
       " 'LIDC-IDRI-0032_cube_010.npz',\n",
       " 'LIDC-IDRI-0032_cube_011.npz',\n",
       " 'LIDC-IDRI-0032_cube_012.npz',\n",
       " 'LIDC-IDRI-0032_cube_013.npz',\n",
       " 'LIDC-IDRI-0032_cube_014.npz',\n",
       " 'LIDC-IDRI-0032_cube_015.npz',\n",
       " 'LIDC-IDRI-0032_cube_016.npz',\n",
       " 'LIDC-IDRI-0032_cube_017.npz',\n",
       " 'LIDC-IDRI-0032_cube_018.npz',\n",
       " 'LIDC-IDRI-0032_cube_019.npz',\n",
       " 'LIDC-IDRI-0032_cube_020.npz',\n",
       " 'LIDC-IDRI-0032_cube_021.npz',\n",
       " 'LIDC-IDRI-0032_cube_022.npz',\n",
       " 'LIDC-IDRI-0032_cube_023.npz',\n",
       " 'LIDC-IDRI-0032_cube_024.npz',\n",
       " 'LIDC-IDRI-0032_cube_025.npz',\n",
       " 'LIDC-IDRI-0032_cube_026.npz',\n",
       " 'LIDC-IDRI-0032_cube_027.npz',\n",
       " 'LIDC-IDRI-0032_cube_028.npz',\n",
       " 'LIDC-IDRI-0032_cube_029.npz',\n",
       " 'LIDC-IDRI-0032_cube_030.npz',\n",
       " 'LIDC-IDRI-0032_cube_031.npz',\n",
       " 'LIDC-IDRI-0033_cube_000.npz',\n",
       " 'LIDC-IDRI-0033_cube_001.npz',\n",
       " 'LIDC-IDRI-0033_cube_002.npz',\n",
       " 'LIDC-IDRI-0033_cube_003.npz',\n",
       " 'LIDC-IDRI-0033_cube_004.npz',\n",
       " 'LIDC-IDRI-0033_cube_005.npz',\n",
       " 'LIDC-IDRI-0033_cube_006.npz',\n",
       " 'LIDC-IDRI-0033_cube_007.npz',\n",
       " 'LIDC-IDRI-0033_cube_008.npz',\n",
       " 'LIDC-IDRI-0033_cube_009.npz',\n",
       " 'LIDC-IDRI-0033_cube_010.npz',\n",
       " 'LIDC-IDRI-0033_cube_011.npz',\n",
       " 'LIDC-IDRI-0033_cube_012.npz',\n",
       " 'LIDC-IDRI-0033_cube_013.npz',\n",
       " 'LIDC-IDRI-0033_cube_014.npz',\n",
       " 'LIDC-IDRI-0033_cube_015.npz',\n",
       " 'LIDC-IDRI-0033_cube_016.npz',\n",
       " 'LIDC-IDRI-0033_cube_017.npz',\n",
       " 'LIDC-IDRI-0033_cube_018.npz',\n",
       " 'LIDC-IDRI-0033_cube_019.npz',\n",
       " 'LIDC-IDRI-0033_cube_020.npz',\n",
       " 'LIDC-IDRI-0033_cube_021.npz',\n",
       " 'LIDC-IDRI-0033_cube_022.npz',\n",
       " 'LIDC-IDRI-0033_cube_023.npz',\n",
       " 'LIDC-IDRI-0033_cube_024.npz',\n",
       " 'LIDC-IDRI-0033_cube_025.npz',\n",
       " 'LIDC-IDRI-0033_cube_026.npz',\n",
       " 'LIDC-IDRI-0033_cube_027.npz',\n",
       " 'LIDC-IDRI-0033_cube_028.npz',\n",
       " 'LIDC-IDRI-0033_cube_029.npz',\n",
       " 'LIDC-IDRI-0034_cube_000.npz',\n",
       " 'LIDC-IDRI-0034_cube_001.npz',\n",
       " 'LIDC-IDRI-0034_cube_002.npz',\n",
       " 'LIDC-IDRI-0034_cube_003.npz',\n",
       " 'LIDC-IDRI-0034_cube_004.npz',\n",
       " 'LIDC-IDRI-0034_cube_005.npz',\n",
       " 'LIDC-IDRI-0034_cube_006.npz',\n",
       " 'LIDC-IDRI-0034_cube_007.npz',\n",
       " 'LIDC-IDRI-0034_cube_008.npz',\n",
       " 'LIDC-IDRI-0034_cube_009.npz',\n",
       " 'LIDC-IDRI-0034_cube_010.npz',\n",
       " 'LIDC-IDRI-0034_cube_011.npz',\n",
       " 'LIDC-IDRI-0034_cube_012.npz',\n",
       " 'LIDC-IDRI-0034_cube_013.npz',\n",
       " 'LIDC-IDRI-0034_cube_014.npz',\n",
       " 'LIDC-IDRI-0034_cube_015.npz',\n",
       " 'LIDC-IDRI-0034_cube_016.npz',\n",
       " 'LIDC-IDRI-0034_cube_017.npz',\n",
       " 'LIDC-IDRI-0034_cube_018.npz',\n",
       " 'LIDC-IDRI-0034_cube_019.npz',\n",
       " 'LIDC-IDRI-0034_cube_020.npz',\n",
       " 'LIDC-IDRI-0034_cube_021.npz',\n",
       " 'LIDC-IDRI-0034_cube_022.npz',\n",
       " 'LIDC-IDRI-0034_cube_023.npz',\n",
       " 'LIDC-IDRI-0034_cube_024.npz',\n",
       " 'LIDC-IDRI-0034_cube_025.npz',\n",
       " 'LIDC-IDRI-0034_cube_026.npz',\n",
       " 'LIDC-IDRI-0034_cube_027.npz',\n",
       " 'LIDC-IDRI-0034_cube_028.npz',\n",
       " 'LIDC-IDRI-0034_cube_029.npz',\n",
       " 'LIDC-IDRI-0034_cube_030.npz',\n",
       " 'LIDC-IDRI-0036_cube_000.npz',\n",
       " 'LIDC-IDRI-0036_cube_001.npz',\n",
       " 'LIDC-IDRI-0036_cube_002.npz',\n",
       " 'LIDC-IDRI-0036_cube_003.npz',\n",
       " 'LIDC-IDRI-0036_cube_004.npz',\n",
       " 'LIDC-IDRI-0036_cube_005.npz',\n",
       " 'LIDC-IDRI-0036_cube_006.npz',\n",
       " 'LIDC-IDRI-0036_cube_007.npz',\n",
       " 'LIDC-IDRI-0036_cube_008.npz',\n",
       " 'LIDC-IDRI-0036_cube_009.npz',\n",
       " 'LIDC-IDRI-0036_cube_010.npz',\n",
       " 'LIDC-IDRI-0036_cube_011.npz',\n",
       " 'LIDC-IDRI-0036_cube_012.npz',\n",
       " 'LIDC-IDRI-0036_cube_013.npz',\n",
       " 'LIDC-IDRI-0036_cube_014.npz',\n",
       " 'LIDC-IDRI-0036_cube_015.npz',\n",
       " 'LIDC-IDRI-0036_cube_016.npz',\n",
       " 'LIDC-IDRI-0036_cube_017.npz',\n",
       " 'LIDC-IDRI-0036_cube_018.npz',\n",
       " 'LIDC-IDRI-0036_cube_019.npz',\n",
       " 'LIDC-IDRI-0036_cube_020.npz',\n",
       " 'LIDC-IDRI-0036_cube_021.npz',\n",
       " 'LIDC-IDRI-0036_cube_022.npz',\n",
       " 'LIDC-IDRI-0036_cube_023.npz',\n",
       " 'LIDC-IDRI-0036_cube_024.npz',\n",
       " 'LIDC-IDRI-0036_cube_025.npz',\n",
       " 'LIDC-IDRI-0036_cube_026.npz',\n",
       " 'LIDC-IDRI-0036_cube_027.npz',\n",
       " 'LIDC-IDRI-0037_cube_000.npz',\n",
       " 'LIDC-IDRI-0037_cube_001.npz',\n",
       " 'LIDC-IDRI-0037_cube_002.npz',\n",
       " 'LIDC-IDRI-0037_cube_003.npz',\n",
       " 'LIDC-IDRI-0037_cube_004.npz',\n",
       " 'LIDC-IDRI-0037_cube_005.npz',\n",
       " 'LIDC-IDRI-0037_cube_006.npz',\n",
       " 'LIDC-IDRI-0037_cube_007.npz',\n",
       " 'LIDC-IDRI-0037_cube_008.npz',\n",
       " 'LIDC-IDRI-0037_cube_009.npz',\n",
       " 'LIDC-IDRI-0037_cube_010.npz',\n",
       " 'LIDC-IDRI-0037_cube_011.npz',\n",
       " 'LIDC-IDRI-0037_cube_012.npz',\n",
       " 'LIDC-IDRI-0037_cube_013.npz',\n",
       " 'LIDC-IDRI-0037_cube_014.npz',\n",
       " 'LIDC-IDRI-0037_cube_015.npz',\n",
       " 'LIDC-IDRI-0037_cube_016.npz',\n",
       " 'LIDC-IDRI-0037_cube_017.npz',\n",
       " 'LIDC-IDRI-0037_cube_018.npz',\n",
       " 'LIDC-IDRI-0037_cube_019.npz',\n",
       " 'LIDC-IDRI-0037_cube_020.npz',\n",
       " 'LIDC-IDRI-0038_cube_000.npz',\n",
       " 'LIDC-IDRI-0038_cube_001.npz',\n",
       " 'LIDC-IDRI-0038_cube_002.npz',\n",
       " 'LIDC-IDRI-0038_cube_003.npz',\n",
       " 'LIDC-IDRI-0038_cube_004.npz',\n",
       " 'LIDC-IDRI-0038_cube_005.npz',\n",
       " 'LIDC-IDRI-0038_cube_006.npz',\n",
       " 'LIDC-IDRI-0038_cube_007.npz',\n",
       " 'LIDC-IDRI-0038_cube_008.npz',\n",
       " 'LIDC-IDRI-0038_cube_009.npz',\n",
       " 'LIDC-IDRI-0038_cube_010.npz',\n",
       " 'LIDC-IDRI-0038_cube_011.npz',\n",
       " 'LIDC-IDRI-0038_cube_012.npz',\n",
       " 'LIDC-IDRI-0038_cube_013.npz',\n",
       " 'LIDC-IDRI-0038_cube_014.npz',\n",
       " 'LIDC-IDRI-0038_cube_015.npz',\n",
       " 'LIDC-IDRI-0038_cube_016.npz',\n",
       " 'LIDC-IDRI-0038_cube_017.npz',\n",
       " 'LIDC-IDRI-0038_cube_018.npz',\n",
       " 'LIDC-IDRI-0038_cube_019.npz',\n",
       " 'LIDC-IDRI-0038_cube_020.npz',\n",
       " 'LIDC-IDRI-0038_cube_021.npz',\n",
       " 'LIDC-IDRI-0038_cube_022.npz',\n",
       " 'LIDC-IDRI-0038_cube_023.npz',\n",
       " 'LIDC-IDRI-0038_cube_024.npz',\n",
       " 'LIDC-IDRI-0038_cube_025.npz',\n",
       " 'LIDC-IDRI-0038_cube_026.npz',\n",
       " 'LIDC-IDRI-0038_cube_027.npz',\n",
       " 'LIDC-IDRI-0038_cube_028.npz',\n",
       " 'LIDC-IDRI-0038_cube_029.npz',\n",
       " 'LIDC-IDRI-0039_cube_000.npz',\n",
       " 'LIDC-IDRI-0039_cube_001.npz',\n",
       " 'LIDC-IDRI-0039_cube_002.npz',\n",
       " 'LIDC-IDRI-0039_cube_003.npz',\n",
       " 'LIDC-IDRI-0039_cube_004.npz',\n",
       " 'LIDC-IDRI-0039_cube_005.npz',\n",
       " 'LIDC-IDRI-0039_cube_006.npz',\n",
       " 'LIDC-IDRI-0039_cube_007.npz',\n",
       " 'LIDC-IDRI-0039_cube_008.npz',\n",
       " 'LIDC-IDRI-0039_cube_009.npz',\n",
       " 'LIDC-IDRI-0039_cube_010.npz',\n",
       " 'LIDC-IDRI-0039_cube_011.npz',\n",
       " 'LIDC-IDRI-0039_cube_012.npz',\n",
       " 'LIDC-IDRI-0039_cube_013.npz',\n",
       " 'LIDC-IDRI-0039_cube_014.npz',\n",
       " 'LIDC-IDRI-0039_cube_015.npz',\n",
       " 'LIDC-IDRI-0039_cube_016.npz',\n",
       " 'LIDC-IDRI-0039_cube_017.npz',\n",
       " 'LIDC-IDRI-0039_cube_018.npz',\n",
       " 'LIDC-IDRI-0039_cube_019.npz',\n",
       " 'LIDC-IDRI-0039_cube_020.npz',\n",
       " 'LIDC-IDRI-0039_cube_021.npz',\n",
       " 'LIDC-IDRI-0039_cube_022.npz',\n",
       " 'LIDC-IDRI-0039_cube_023.npz',\n",
       " 'LIDC-IDRI-0039_cube_024.npz',\n",
       " 'LIDC-IDRI-0039_cube_025.npz',\n",
       " 'LIDC-IDRI-0039_cube_026.npz',\n",
       " 'LIDC-IDRI-0039_cube_027.npz',\n",
       " 'LIDC-IDRI-0039_cube_028.npz',\n",
       " 'LIDC-IDRI-0039_cube_029.npz',\n",
       " 'LIDC-IDRI-0039_cube_030.npz',\n",
       " 'LIDC-IDRI-0040_cube_000.npz',\n",
       " 'LIDC-IDRI-0040_cube_001.npz',\n",
       " 'LIDC-IDRI-0040_cube_002.npz',\n",
       " 'LIDC-IDRI-0040_cube_003.npz',\n",
       " 'LIDC-IDRI-0040_cube_004.npz',\n",
       " 'LIDC-IDRI-0040_cube_005.npz',\n",
       " 'LIDC-IDRI-0040_cube_006.npz',\n",
       " 'LIDC-IDRI-0040_cube_007.npz',\n",
       " 'LIDC-IDRI-0040_cube_008.npz',\n",
       " 'LIDC-IDRI-0040_cube_009.npz',\n",
       " 'LIDC-IDRI-0040_cube_010.npz',\n",
       " 'LIDC-IDRI-0040_cube_011.npz',\n",
       " 'LIDC-IDRI-0040_cube_012.npz',\n",
       " 'LIDC-IDRI-0040_cube_013.npz',\n",
       " 'LIDC-IDRI-0040_cube_014.npz',\n",
       " 'LIDC-IDRI-0040_cube_015.npz',\n",
       " 'LIDC-IDRI-0040_cube_016.npz',\n",
       " 'LIDC-IDRI-0040_cube_017.npz',\n",
       " 'LIDC-IDRI-0040_cube_018.npz',\n",
       " 'LIDC-IDRI-0040_cube_019.npz',\n",
       " 'LIDC-IDRI-0040_cube_020.npz',\n",
       " 'LIDC-IDRI-0040_cube_021.npz',\n",
       " 'LIDC-IDRI-0040_cube_022.npz',\n",
       " 'LIDC-IDRI-0040_cube_023.npz',\n",
       " 'LIDC-IDRI-0040_cube_024.npz',\n",
       " 'LIDC-IDRI-0040_cube_025.npz',\n",
       " ...]"
      ]
     },
     "execution_count": 11,
     "metadata": {},
     "output_type": "execute_result"
    }
   ],
   "source": [
    "files_train"
   ]
  },
  {
   "cell_type": "code",
   "execution_count": 12,
   "metadata": {},
   "outputs": [],
   "source": [
    "MIN_BOUND = -1000.0\n",
    "MAX_BOUND = 400.0\n",
    "PIXEL_MEAN = 0.25\n",
    "class LIDCDataset(Dataset):\n",
    "    def __init__(self, files_train, transform = False):\n",
    "        self.X = [f'{path_source}lungs/{i}' for i in files_train]\n",
    "        self.y = [f'{path_source}masks/{i}' for i in files_train]\n",
    "        self.transform = transform\n",
    "        \n",
    "    def __len__(self):\n",
    "        return len(self.X)\n",
    "    \n",
    "    def rotate_axis(self, img, mask, axes):\n",
    "        \"\"\"Rotate around the three axes maximum three times per axis\"\"\"\n",
    "        num_rot = np.random.randint(1,4)\n",
    "        img = np.rot90(img, num_rot, axes)\n",
    "        mask = np.rot90(mask, num_rot, axes)\n",
    "        return img, mask\n",
    "\n",
    "    def __getitem__(self, idx):\n",
    "        \n",
    "        img = np.load(self.X[idx])\n",
    "        mask = np.load(self.y[idx])\n",
    "        \n",
    "        img = img.f.arr_0\n",
    "        mask = mask.f.arr_0\n",
    "        \n",
    "        # img = img.items()[0][1] # this was working on pytorch0.4 (?)\n",
    "        # mask = mask.items()[0][1] # this was working on pytorch0.4 (?)\n",
    "        \n",
    "        if self.transform:\n",
    "            if np.random.rand() > 0.5:\n",
    "                img, mask = self.rotate_axis(img, mask, (0,1))\n",
    "            if np.random.rand() > 0.5:\n",
    "                img, mask = self.rotate_axis(img, mask, (0,2))\n",
    "            if np.random.rand() > 0.5:\n",
    "                img, mask = self.rotate_axis(img, mask, (1,2))\n",
    "                \n",
    "            # Maybe Add Gaussian filter !!!\n",
    "            # Maybe Add random cropping !!!\n",
    "            \n",
    "        # Normalize https://www.kaggle.com/gzuidhof/full-preprocessing-tutorial\n",
    "        img = (img - MIN_BOUND) / (MAX_BOUND - MIN_BOUND)\n",
    "        img[img>1] = 1.\n",
    "        img[img<0] = 0.\n",
    "        \n",
    "        # Zero center https://www.kaggle.com/gzuidhof/full-preprocessing-tutorial\n",
    "        # The mean was obtained using curate the 3D reconstructed 80px data.ipynb\n",
    "        img = img - PIXEL_MEAN\n",
    "        \n",
    "        # Add channels dimension\n",
    "        img = np.expand_dims(img,0)\n",
    "        mask = np.expand_dims(mask,0)\n",
    "        \n",
    "        mask = np.float32(mask)\n",
    "        img = np.float32(img)\n",
    "        \n",
    "        img = torch.from_numpy(img)\n",
    "        mask = torch.from_numpy(mask)\n",
    "        #target = torch.from_numpy(np.expand_dims(target,-1)).float()       \n",
    "        \n",
    "        img = Tensor(img)\n",
    "        mask = Tensor(mask).long()\n",
    "        \n",
    "        return img, mask"
   ]
  },
  {
   "cell_type": "markdown",
   "metadata": {},
   "source": [
    "## Random sampler"
   ]
  },
  {
   "cell_type": "code",
   "execution_count": 13,
   "metadata": {
    "scrolled": true
   },
   "outputs": [],
   "source": [
    "# # To use the WeightedRandomSampler we first need to determine the class imbalance\n",
    "# # Then assign to *each sample* their weight\n",
    "# check_classes_array=[]\n",
    "# check_classes_files = [f'{path_source}masks/{i}' for i in files_train]\n",
    "# for idx, i in enumerate(check_classes_files):\n",
    "#     print(idx)\n",
    "# #     if idx==2:break\n",
    "#     _ = np.load(i)\n",
    "#     check_classes_mask = _.f.arr_0\n",
    "#     check_classes_sum = np.sum(check_classes_mask)\n",
    "#     check_classes_array.append(check_classes_sum>0)\n",
    "# check_classes_array = torch.from_numpy(np.asarray(check_classes_array)*1)\n",
    "# print(f'classes_array total = {len(check_classes_array)}, 1s = {sum(check_classes_array)}')\n",
    "\n",
    "# check_classes_array_name = f'CNN models/weight_array.npy'\n",
    "# np.save(check_classes_array_name, check_classes_array)"
   ]
  },
  {
   "cell_type": "code",
   "execution_count": 14,
   "metadata": {},
   "outputs": [],
   "source": [
    "# If weight_array is already there, there is no need to calculated\n",
    "check_classes_array_name = f'CNN models/weight_array.npy'\n",
    "check_classes_array = np.load(check_classes_array_name)"
   ]
  },
  {
   "cell_type": "code",
   "execution_count": 15,
   "metadata": {},
   "outputs": [],
   "source": [
    "# Get the weight of each class and assign the corresponding weight to each element to the\n",
    "weight_class1 = (len(check_classes_array)/sum(check_classes_array)).item() \n",
    "weight_class0 = (len(check_classes_array)/(len(check_classes_array)-sum(check_classes_array))).item()\n",
    "\n",
    "weights_array = []\n",
    "for i in check_classes_array:\n",
    "    if i==1: weights_array.append(weight_class1)\n",
    "    else: weights_array.append(weight_class0)\n",
    "        \n",
    "sampler = WeightedRandomSampler(weights_array, len(weights_array))"
   ]
  },
  {
   "cell_type": "code",
   "execution_count": 16,
   "metadata": {},
   "outputs": [],
   "source": [
    "# # FOR DEBUGGING !!! DELETE !!!\n",
    "# files_train = files_train[:500]\n",
    "# files_test = files_test[:200]\n",
    "# weights_array = weights_array[:500]\n",
    "# sampler = WeightedRandomSampler(weights_array, len(weights_array))"
   ]
  },
  {
   "cell_type": "code",
   "execution_count": 17,
   "metadata": {},
   "outputs": [],
   "source": [
    "dataset_train = LIDCDataset(files_train ,transform=True)\n",
    "dataset_test = LIDCDataset(files_test ,transform=False)"
   ]
  },
  {
   "cell_type": "code",
   "execution_count": 18,
   "metadata": {},
   "outputs": [],
   "source": [
    "#sampler.weights"
   ]
  },
  {
   "cell_type": "code",
   "execution_count": 19,
   "metadata": {},
   "outputs": [],
   "source": [
    "dataloader_train = DataLoader(dataset_train, batch_size=batchsize, sampler=sampler)\n",
    "dataloader_test = DataLoader(dataset_test, batch_size=batchsize, shuffle=False)"
   ]
  },
  {
   "cell_type": "code",
   "execution_count": 20,
   "metadata": {},
   "outputs": [
    {
     "name": "stdout",
     "output_type": "stream",
     "text": [
      "batch 0, with_nodule = 0, without = 8\n",
      "imgs shape =  (8, 1, 80, 80, 80),msks shape =  (8, 1, 80, 80, 80)\n",
      "\n",
      "batch 1, with_nodule = 2, without = 6\n",
      "imgs shape =  (8, 1, 80, 80, 80),msks shape =  (8, 1, 80, 80, 80)\n",
      "\n",
      "batch 2, with_nodule = 1, without = 7\n",
      "imgs shape =  (8, 1, 80, 80, 80),msks shape =  (8, 1, 80, 80, 80)\n",
      "\n",
      "7.0, 1.0\n"
     ]
    }
   ],
   "source": [
    "#Check if the dataloader is loading the samples with right amount of classes \n",
    "all_msks1, all_msks0 = [], []\n",
    "for idx, (imgs, msks) in enumerate(dataloader_train):\n",
    "    if idx==3:break\n",
    "    imgs = imgs.detach().cpu().numpy()\n",
    "    msks = msks.detach().cpu().numpy()\n",
    "    pixels_sum = [np.sum(i) for i in msks]\n",
    "    msks1 = np.sum(np.asarray(pixels_sum) > 0)\n",
    "    msks0 = np.sum(np.asarray(pixels_sum) == 0)\n",
    "    print(f'batch {idx}, with_nodule = {msks1}, without = {msks0}')\n",
    "    print(f'imgs shape =  {np.shape(imgs)},msks shape =  {np.shape(msks)}')\n",
    "    print('')\n",
    "    all_msks1.append(msks1)\n",
    "    all_msks0.append(msks0)\n",
    "#     plot_3d(imgs[0], threshold=0, fig_size=7)\n",
    "print(f'{np.round(np.mean(all_msks0),2)}, {np.round(np.mean(all_msks1),2)}')"
   ]
  },
  {
   "cell_type": "code",
   "execution_count": 21,
   "metadata": {
    "scrolled": true
   },
   "outputs": [
    {
     "name": "stdout",
     "output_type": "stream",
     "text": [
      "batch 0, with_nodule = 0, without = 8\n",
      "imgs shape =  (8, 1, 80, 80, 80),msks shape =  (8, 1, 80, 80, 80)\n",
      "\n",
      "batch 1, with_nodule = 3, without = 5\n",
      "imgs shape =  (8, 1, 80, 80, 80),msks shape =  (8, 1, 80, 80, 80)\n",
      "\n",
      "batch 2, with_nodule = 1, without = 7\n",
      "imgs shape =  (8, 1, 80, 80, 80),msks shape =  (8, 1, 80, 80, 80)\n",
      "\n",
      "6.67, 1.33\n"
     ]
    }
   ],
   "source": [
    "#Check if the dataloader is loading the samples with right amount of classes \n",
    "all_msks1, all_msks0 = [], []\n",
    "for idx, (imgs, msks) in enumerate(dataloader_test):\n",
    "    if idx==3:break\n",
    "    imgs = imgs.detach().cpu().numpy()\n",
    "    msks = msks.detach().cpu().numpy()\n",
    "    pixels_sum = [np.sum(i) for i in msks]\n",
    "    msks1 = np.sum(np.asarray(pixels_sum) > 0)\n",
    "    msks0 = np.sum(np.asarray(pixels_sum) == 0)\n",
    "    print(f'batch {idx}, with_nodule = {msks1}, without = {msks0}')\n",
    "    print(f'imgs shape =  {np.shape(imgs)},msks shape =  {np.shape(msks)}')\n",
    "    print('')\n",
    "    all_msks1.append(msks1)\n",
    "    all_msks0.append(msks0)\n",
    "#     plot_3d(imgs[0], threshold=0, fig_size=7)\n",
    "print(f'{np.round(np.mean(all_msks0),2)}, {np.round(np.mean(all_msks1),2)}')"
   ]
  },
  {
   "cell_type": "code",
   "execution_count": null,
   "metadata": {},
   "outputs": [],
   "source": []
  },
  {
   "cell_type": "markdown",
   "metadata": {},
   "source": [
    "# Architecture"
   ]
  },
  {
   "cell_type": "code",
   "execution_count": 22,
   "metadata": {},
   "outputs": [],
   "source": [
    "def conv_block(ni, nf, ks=3, stride=1):\n",
    "    return nn.Sequential(\n",
    "        nn.Conv3d(ni, nf, kernel_size = (ks, ks, ks), bias = False, stride = stride, padding = 1),\n",
    "        nn.ReLU(inplace=True),\n",
    "        nn.Conv3d(nf, nf, kernel_size = (ks, ks, ks), bias = False, stride = stride, padding = 1),\n",
    "        nn.ReLU(inplace=True),\n",
    "        nn.BatchNorm3d(nf))"
   ]
  },
  {
   "cell_type": "code",
   "execution_count": 23,
   "metadata": {},
   "outputs": [],
   "source": [
    "def dice_loss(input, target):\n",
    "    \"\"\"https://github.com/pytorch/pytorch/issues/1249\"\"\"\n",
    "    smooth = 1.\n",
    "\n",
    "    iflat = input.view(-1).float()\n",
    "    tflat = target.view(-1).float()\n",
    "    intersection = torch.sum(iflat * tflat)\n",
    "    \n",
    "    return 1 - ((2. * intersection + smooth) /\n",
    "              (iflat.sum() + tflat.sum() + smooth))"
   ]
  },
  {
   "cell_type": "code",
   "execution_count": 24,
   "metadata": {},
   "outputs": [],
   "source": [
    "# Define the Binary Cross Entropy loss function\n",
    "class BCELoss2d(nn.Module):\n",
    "    \"\"\"\n",
    "    Code taken from:\n",
    "    https://www.kaggle.com/mlagunas/naive-unet-with-pytorch-tensorboard-logging\n",
    "    https://www.kaggle.com/c/carvana-image-masking-challenge/discussion/37208\n",
    "    \"\"\"\n",
    "\n",
    "    def __init__(self, weight=None, size_average=True):\n",
    "        super(BCELoss2d, self).__init__()\n",
    "        self.bce_loss = nn.BCELoss(weight, size_average)\n",
    "\n",
    "    def forward(self, logits, targets):\n",
    "        probs = torch.sigmoid(logits)\n",
    "        probs_flat = probs.view(-1)\n",
    "        targets_flat = targets.view(-1)\n",
    "        return self.bce_loss(probs_flat, targets_flat)"
   ]
  },
  {
   "cell_type": "code",
   "execution_count": 25,
   "metadata": {},
   "outputs": [
    {
     "name": "stderr",
     "output_type": "stream",
     "text": [
      "/home/om18/anaconda3/envs/pytorchv1/lib/python3.6/site-packages/torch/nn/functional.py:54: UserWarning: size_average and reduce args will be deprecated, please use reduction='elementwise_mean' instead.\n",
      "  warnings.warn(warning.format(ret))\n"
     ]
    }
   ],
   "source": [
    "criterion = BCELoss2d().cuda()"
   ]
  },
  {
   "cell_type": "code",
   "execution_count": 26,
   "metadata": {},
   "outputs": [],
   "source": [
    "# lossCE = nn.BCELoss()"
   ]
  },
  {
   "cell_type": "code",
   "execution_count": 27,
   "metadata": {},
   "outputs": [],
   "source": [
    "dbp = False # debug printouts\n",
    "class UNet1(nn.Module):\n",
    "    def __init__(self, ch_in, num_classes, nf = 32):\n",
    "        super().__init__()\n",
    "        self.conv1 = conv_block(ch_in, nf, ks=3, stride=1)\n",
    "        self.conv2 = conv_block(nf, nf*2, ks=3, stride=1)\n",
    "        self.conv3 = conv_block(nf*2, nf*4, ks=3, stride=1)\n",
    "        self.conv4 = conv_block(nf*4, nf*4, ks=3, stride=1)\n",
    "        \n",
    "        self.conv5 = conv_block(nf*8, nf*2, ks=3, stride=1)\n",
    "        self.conv6 = conv_block(nf*4, nf*1, ks=3, stride=1)\n",
    "        self.conv7 = conv_block(nf*2, nf, ks=3, stride=1)\n",
    "        \n",
    "        self.conv8 = nn.Conv3d(nf, ch_in, kernel_size=1, stride=1)\n",
    "        \n",
    "    def forward(self, x):\n",
    "        x = self.conv1(x)\n",
    "        skip1 = x\n",
    "        if dbp: print(f'x (conv1)= {x.shape}, skip1 = {skip1.shape}')\n",
    "        x = F.max_pool3d(x, kernel_size=2)\n",
    "        \n",
    "        x = self.conv2(x)\n",
    "        skip2 = x\n",
    "        if dbp: print(f'x (conv2)= {x.shape}, skip2 = {skip2.shape}')\n",
    "        x = F.max_pool3d(x, kernel_size=2)\n",
    "        \n",
    "        x = self.conv3(x)\n",
    "        skip3 = x\n",
    "        if dbp: print(f'x (conv3)= {x.shape}, skip3 = {skip3.shape}')\n",
    "        x = F.max_pool3d(x, kernel_size=2)\n",
    "        \n",
    "        x = self.conv4(x)\n",
    "        if dbp: print(f'x (conv4)= {np.shape(x)}')\n",
    "        x = F.max_pool3d(x, kernel_size=2)\n",
    "        x = F.dropout3d(x, p=0.25) \n",
    "        if dbp: print(f'x (bottom) = {np.shape(x)}')\n",
    "        if dbp: print('')\n",
    "        \n",
    "        x = F.interpolate(x, scale_factor=4)\n",
    "        if dbp: print(f'x (to concat with skip3) = {np.shape(x)}')\n",
    "        x = torch.cat((x, skip3), dim=1)\n",
    "        x = self.conv5(x)\n",
    "        if dbp: print(f'x (conv5)= {np.shape(x)}')\n",
    "        \n",
    "        x = F.interpolate(x, scale_factor=2)\n",
    "        if dbp: print(f'x (to concat with skip2) = {np.shape(x)}')\n",
    "        x = torch.cat((x, skip2), dim=1)\n",
    "        x = self.conv6(x)\n",
    "        if dbp: print(f'x (conv6)= {np.shape(x)}')\n",
    "        \n",
    "        x = F.interpolate(x, scale_factor=2)\n",
    "        if dbp: print(f'x (to concat with skip1) = {np.shape(x)}')\n",
    "        x = torch.cat((x, skip1), dim=1)\n",
    "        x = self.conv7(x)\n",
    "        if dbp: print(f'x (conv7)= {np.shape(x)}')\n",
    "        \n",
    "        x = self.conv8(x)\n",
    "        if dbp: print(f'x (conv8)= {np.shape(x)}')\n",
    "#         x = torch.sigmoid(x)\n",
    "        \n",
    "        return x"
   ]
  },
  {
   "cell_type": "code",
   "execution_count": 28,
   "metadata": {},
   "outputs": [],
   "source": [
    "model = UNet1(ch_in=1, num_classes=2, nf=32)\n",
    "if torch.cuda.is_available():\n",
    "    model.cuda(GPU)"
   ]
  },
  {
   "cell_type": "code",
   "execution_count": null,
   "metadata": {},
   "outputs": [],
   "source": []
  },
  {
   "cell_type": "code",
   "execution_count": 29,
   "metadata": {},
   "outputs": [
    {
     "name": "stderr",
     "output_type": "stream",
     "text": [
      "/home/om18/anaconda3/envs/pytorchv1/lib/python3.6/site-packages/torch/nn/functional.py:54: UserWarning: size_average and reduce args will be deprecated, please use reduction='elementwise_mean' instead.\n",
      "  warnings.warn(warning.format(ret))\n"
     ]
    }
   ],
   "source": [
    "lr=1e-4\n",
    "opt = optim.Adam(model.parameters(), lr=lr)\n",
    "criterion = BCELoss2d().cuda()"
   ]
  },
  {
   "cell_type": "code",
   "execution_count": null,
   "metadata": {},
   "outputs": [],
   "source": []
  },
  {
   "cell_type": "code",
   "execution_count": 30,
   "metadata": {
    "scrolled": true
   },
   "outputs": [
    {
     "name": "stdout",
     "output_type": "stream",
     "text": [
      "0\n"
     ]
    },
    {
     "data": {
      "application/vnd.jupyter.widget-view+json": {
       "model_id": "4a73e1930c2240c78127f1692cdb40f3",
       "version_major": 2,
       "version_minor": 0
      },
      "text/plain": [
       "HBox(children=(IntProgress(value=0, description='train batch', max=2826), HTML(value='')))"
      ]
     },
     "metadata": {},
     "output_type": "display_data"
    },
    {
     "name": "stdout",
     "output_type": "stream",
     "text": [
      "\n"
     ]
    },
    {
     "data": {
      "application/vnd.jupyter.widget-view+json": {
       "model_id": "cbb9eded974742069701711a10398c1e",
       "version_major": 2,
       "version_minor": 0
      },
      "text/plain": [
       "HBox(children=(IntProgress(value=0, description='val batch', max=714), HTML(value='')))"
      ]
     },
     "metadata": {},
     "output_type": "display_data"
    },
    {
     "name": "stdout",
     "output_type": "stream",
     "text": [
      "\n",
      "epoch 0, minibatch 2788 in 275.17s\n"
     ]
    },
    {
     "data": {
      "application/vnd.jupyter.widget-view+json": {
       "model_id": "914006501c12498ebb67a2e1b4625727",
       "version_major": 2,
       "version_minor": 0
      },
      "text/plain": [
       "HBox(children=(IntProgress(value=0, description='train batch', max=2826), HTML(value='')))"
      ]
     },
     "metadata": {},
     "output_type": "display_data"
    },
    {
     "name": "stdout",
     "output_type": "stream",
     "text": [
      "\n"
     ]
    },
    {
     "data": {
      "application/vnd.jupyter.widget-view+json": {
       "model_id": "1859c994444f4ef8b71912d0b4a16179",
       "version_major": 2,
       "version_minor": 0
      },
      "text/plain": [
       "HBox(children=(IntProgress(value=0, description='val batch', max=714), HTML(value='')))"
      ]
     },
     "metadata": {},
     "output_type": "display_data"
    },
    {
     "name": "stdout",
     "output_type": "stream",
     "text": [
      "\n",
      "epoch 1, minibatch 2788 in 274.40s\n"
     ]
    },
    {
     "data": {
      "application/vnd.jupyter.widget-view+json": {
       "model_id": "b9b6b7bd402e4560b5bfde2a8e6d95dd",
       "version_major": 2,
       "version_minor": 0
      },
      "text/plain": [
       "HBox(children=(IntProgress(value=0, description='train batch', max=2826), HTML(value='')))"
      ]
     },
     "metadata": {},
     "output_type": "display_data"
    },
    {
     "name": "stdout",
     "output_type": "stream",
     "text": [
      "\n"
     ]
    },
    {
     "data": {
      "application/vnd.jupyter.widget-view+json": {
       "model_id": "70348c93381d4f9285006475c8798506",
       "version_major": 2,
       "version_minor": 0
      },
      "text/plain": [
       "HBox(children=(IntProgress(value=0, description='val batch', max=714), HTML(value='')))"
      ]
     },
     "metadata": {},
     "output_type": "display_data"
    },
    {
     "name": "stdout",
     "output_type": "stream",
     "text": [
      "\n",
      "epoch 2, minibatch 2788 in 272.89s\n"
     ]
    },
    {
     "data": {
      "application/vnd.jupyter.widget-view+json": {
       "model_id": "978b1bd70da146d79e0781b63174e9c1",
       "version_major": 2,
       "version_minor": 0
      },
      "text/plain": [
       "HBox(children=(IntProgress(value=0, description='train batch', max=2826), HTML(value='')))"
      ]
     },
     "metadata": {},
     "output_type": "display_data"
    },
    {
     "name": "stdout",
     "output_type": "stream",
     "text": [
      "\n"
     ]
    },
    {
     "data": {
      "application/vnd.jupyter.widget-view+json": {
       "model_id": "fd536353e50f458c9b959038c44889a0",
       "version_major": 2,
       "version_minor": 0
      },
      "text/plain": [
       "HBox(children=(IntProgress(value=0, description='val batch', max=714), HTML(value='')))"
      ]
     },
     "metadata": {},
     "output_type": "display_data"
    },
    {
     "name": "stdout",
     "output_type": "stream",
     "text": [
      "\n",
      "epoch 3, minibatch 2788 in 275.35s\n"
     ]
    },
    {
     "data": {
      "application/vnd.jupyter.widget-view+json": {
       "model_id": "3f1f100af78b45eb864ce76d169cbea9",
       "version_major": 2,
       "version_minor": 0
      },
      "text/plain": [
       "HBox(children=(IntProgress(value=0, description='train batch', max=2826), HTML(value='')))"
      ]
     },
     "metadata": {},
     "output_type": "display_data"
    },
    {
     "name": "stdout",
     "output_type": "stream",
     "text": [
      "\n"
     ]
    },
    {
     "data": {
      "application/vnd.jupyter.widget-view+json": {
       "model_id": "caa79ca844cd402d81e35442569e035d",
       "version_major": 2,
       "version_minor": 0
      },
      "text/plain": [
       "HBox(children=(IntProgress(value=0, description='val batch', max=714), HTML(value='')))"
      ]
     },
     "metadata": {},
     "output_type": "display_data"
    },
    {
     "name": "stdout",
     "output_type": "stream",
     "text": [
      "\n",
      "epoch 4, minibatch 2788 in 272.86s\n"
     ]
    },
    {
     "data": {
      "application/vnd.jupyter.widget-view+json": {
       "model_id": "0026ff48912241d9b004e70e0fba0519",
       "version_major": 2,
       "version_minor": 0
      },
      "text/plain": [
       "HBox(children=(IntProgress(value=0, description='train batch', max=2826), HTML(value='')))"
      ]
     },
     "metadata": {},
     "output_type": "display_data"
    },
    {
     "name": "stdout",
     "output_type": "stream",
     "text": [
      "\n"
     ]
    },
    {
     "data": {
      "application/vnd.jupyter.widget-view+json": {
       "model_id": "e33f83cb6f024be6be8404295ba7e1ff",
       "version_major": 2,
       "version_minor": 0
      },
      "text/plain": [
       "HBox(children=(IntProgress(value=0, description='val batch', max=714), HTML(value='')))"
      ]
     },
     "metadata": {},
     "output_type": "display_data"
    },
    {
     "name": "stdout",
     "output_type": "stream",
     "text": [
      "\n",
      "epoch 5, minibatch 2788 in 274.85s\n"
     ]
    },
    {
     "data": {
      "application/vnd.jupyter.widget-view+json": {
       "model_id": "cd0a813304414694b4f9387c1f7172f9",
       "version_major": 2,
       "version_minor": 0
      },
      "text/plain": [
       "HBox(children=(IntProgress(value=0, description='train batch', max=2826), HTML(value='')))"
      ]
     },
     "metadata": {},
     "output_type": "display_data"
    },
    {
     "name": "stdout",
     "output_type": "stream",
     "text": [
      "\n"
     ]
    },
    {
     "data": {
      "application/vnd.jupyter.widget-view+json": {
       "model_id": "7f5bed9f241c4aa9bee6f258dcdf3546",
       "version_major": 2,
       "version_minor": 0
      },
      "text/plain": [
       "HBox(children=(IntProgress(value=0, description='val batch', max=714), HTML(value='')))"
      ]
     },
     "metadata": {},
     "output_type": "display_data"
    },
    {
     "name": "stdout",
     "output_type": "stream",
     "text": [
      "\n",
      "epoch 6, minibatch 2788 in 274.33s\n"
     ]
    },
    {
     "data": {
      "application/vnd.jupyter.widget-view+json": {
       "model_id": "1994d3b1a51844a1aae295e0873cb36e",
       "version_major": 2,
       "version_minor": 0
      },
      "text/plain": [
       "HBox(children=(IntProgress(value=0, description='train batch', max=2826), HTML(value='')))"
      ]
     },
     "metadata": {},
     "output_type": "display_data"
    },
    {
     "name": "stdout",
     "output_type": "stream",
     "text": [
      "\n"
     ]
    },
    {
     "data": {
      "application/vnd.jupyter.widget-view+json": {
       "model_id": "836e08cfbd96470ba9da99d5ee940586",
       "version_major": 2,
       "version_minor": 0
      },
      "text/plain": [
       "HBox(children=(IntProgress(value=0, description='val batch', max=714), HTML(value='')))"
      ]
     },
     "metadata": {},
     "output_type": "display_data"
    },
    {
     "name": "stdout",
     "output_type": "stream",
     "text": [
      "\n",
      "epoch 7, minibatch 2788 in 274.00s\n"
     ]
    },
    {
     "data": {
      "application/vnd.jupyter.widget-view+json": {
       "model_id": "34f6e1c007a5409295ad6e47abfb01f7",
       "version_major": 2,
       "version_minor": 0
      },
      "text/plain": [
       "HBox(children=(IntProgress(value=0, description='train batch', max=2826), HTML(value='')))"
      ]
     },
     "metadata": {},
     "output_type": "display_data"
    },
    {
     "name": "stdout",
     "output_type": "stream",
     "text": [
      "\n"
     ]
    },
    {
     "data": {
      "application/vnd.jupyter.widget-view+json": {
       "model_id": "087202803010460d8cc2b05e55281ae4",
       "version_major": 2,
       "version_minor": 0
      },
      "text/plain": [
       "HBox(children=(IntProgress(value=0, description='val batch', max=714), HTML(value='')))"
      ]
     },
     "metadata": {},
     "output_type": "display_data"
    },
    {
     "name": "stdout",
     "output_type": "stream",
     "text": [
      "\n",
      "epoch 8, minibatch 2788 in 273.43s\n"
     ]
    },
    {
     "data": {
      "application/vnd.jupyter.widget-view+json": {
       "model_id": "39eed203f50e4631a9ad7a312b1a4989",
       "version_major": 2,
       "version_minor": 0
      },
      "text/plain": [
       "HBox(children=(IntProgress(value=0, description='train batch', max=2826), HTML(value='')))"
      ]
     },
     "metadata": {},
     "output_type": "display_data"
    },
    {
     "name": "stdout",
     "output_type": "stream",
     "text": [
      "\n"
     ]
    },
    {
     "data": {
      "application/vnd.jupyter.widget-view+json": {
       "model_id": "d7aebedce9d64700a0f2c916b5401330",
       "version_major": 2,
       "version_minor": 0
      },
      "text/plain": [
       "HBox(children=(IntProgress(value=0, description='val batch', max=714), HTML(value='')))"
      ]
     },
     "metadata": {},
     "output_type": "display_data"
    },
    {
     "name": "stdout",
     "output_type": "stream",
     "text": [
      "\n",
      "epoch 9, minibatch 2788 in 274.85s\n"
     ]
    },
    {
     "data": {
      "application/vnd.jupyter.widget-view+json": {
       "model_id": "e566fe8e9b2c4d35944a7427595abfda",
       "version_major": 2,
       "version_minor": 0
      },
      "text/plain": [
       "HBox(children=(IntProgress(value=0, description='train batch', max=2826), HTML(value='')))"
      ]
     },
     "metadata": {},
     "output_type": "display_data"
    },
    {
     "name": "stdout",
     "output_type": "stream",
     "text": [
      "\n"
     ]
    },
    {
     "data": {
      "application/vnd.jupyter.widget-view+json": {
       "model_id": "b8ef33e86fb34143acf049640d78427d",
       "version_major": 2,
       "version_minor": 0
      },
      "text/plain": [
       "HBox(children=(IntProgress(value=0, description='val batch', max=714), HTML(value='')))"
      ]
     },
     "metadata": {},
     "output_type": "display_data"
    },
    {
     "name": "stdout",
     "output_type": "stream",
     "text": [
      "\n",
      "epoch 10, minibatch 2788 in 275.12s\n"
     ]
    },
    {
     "data": {
      "application/vnd.jupyter.widget-view+json": {
       "model_id": "bc38a35adfe1424fb623fe262259d35a",
       "version_major": 2,
       "version_minor": 0
      },
      "text/plain": [
       "HBox(children=(IntProgress(value=0, description='train batch', max=2826), HTML(value='')))"
      ]
     },
     "metadata": {},
     "output_type": "display_data"
    },
    {
     "name": "stdout",
     "output_type": "stream",
     "text": [
      "\n"
     ]
    },
    {
     "data": {
      "application/vnd.jupyter.widget-view+json": {
       "model_id": "2c5a043f6d6a49e384745ac5f447235a",
       "version_major": 2,
       "version_minor": 0
      },
      "text/plain": [
       "HBox(children=(IntProgress(value=0, description='val batch', max=714), HTML(value='')))"
      ]
     },
     "metadata": {},
     "output_type": "display_data"
    },
    {
     "name": "stdout",
     "output_type": "stream",
     "text": [
      "\n",
      "epoch 11, minibatch 2788 in 274.83s\n"
     ]
    },
    {
     "data": {
      "application/vnd.jupyter.widget-view+json": {
       "model_id": "381e1e509e304f90a1973f9b71c53f6a",
       "version_major": 2,
       "version_minor": 0
      },
      "text/plain": [
       "HBox(children=(IntProgress(value=0, description='train batch', max=2826), HTML(value='')))"
      ]
     },
     "metadata": {},
     "output_type": "display_data"
    },
    {
     "name": "stdout",
     "output_type": "stream",
     "text": [
      "\n"
     ]
    },
    {
     "data": {
      "application/vnd.jupyter.widget-view+json": {
       "model_id": "3149994fc5634659bf1acb0f5b8ba6d6",
       "version_major": 2,
       "version_minor": 0
      },
      "text/plain": [
       "HBox(children=(IntProgress(value=0, description='val batch', max=714), HTML(value='')))"
      ]
     },
     "metadata": {},
     "output_type": "display_data"
    },
    {
     "name": "stdout",
     "output_type": "stream",
     "text": [
      "\n",
      "epoch 12, minibatch 2788 in 273.64s\n"
     ]
    },
    {
     "data": {
      "application/vnd.jupyter.widget-view+json": {
       "model_id": "e28c3238f7fc4b5db7198f83f79d8083",
       "version_major": 2,
       "version_minor": 0
      },
      "text/plain": [
       "HBox(children=(IntProgress(value=0, description='train batch', max=2826), HTML(value='')))"
      ]
     },
     "metadata": {},
     "output_type": "display_data"
    },
    {
     "name": "stdout",
     "output_type": "stream",
     "text": [
      "\n"
     ]
    },
    {
     "data": {
      "application/vnd.jupyter.widget-view+json": {
       "model_id": "0efd34ac37b5449fa7b241a99ba19749",
       "version_major": 2,
       "version_minor": 0
      },
      "text/plain": [
       "HBox(children=(IntProgress(value=0, description='val batch', max=714), HTML(value='')))"
      ]
     },
     "metadata": {},
     "output_type": "display_data"
    },
    {
     "name": "stdout",
     "output_type": "stream",
     "text": [
      "\n",
      "epoch 13, minibatch 2788 in 273.09s\n"
     ]
    },
    {
     "data": {
      "application/vnd.jupyter.widget-view+json": {
       "model_id": "711bbed81d554c97b8eabfd0279a1bd1",
       "version_major": 2,
       "version_minor": 0
      },
      "text/plain": [
       "HBox(children=(IntProgress(value=0, description='train batch', max=2826), HTML(value='')))"
      ]
     },
     "metadata": {},
     "output_type": "display_data"
    },
    {
     "name": "stdout",
     "output_type": "stream",
     "text": [
      "\n"
     ]
    },
    {
     "data": {
      "application/vnd.jupyter.widget-view+json": {
       "model_id": "3be81d99b9164c0fb986b50aaf99074e",
       "version_major": 2,
       "version_minor": 0
      },
      "text/plain": [
       "HBox(children=(IntProgress(value=0, description='val batch', max=714), HTML(value='')))"
      ]
     },
     "metadata": {},
     "output_type": "display_data"
    },
    {
     "name": "stdout",
     "output_type": "stream",
     "text": [
      "\n",
      "epoch 14, minibatch 2788 in 273.43s\n"
     ]
    },
    {
     "data": {
      "application/vnd.jupyter.widget-view+json": {
       "model_id": "c9bdab1bfa5f4cba98fe3f011908ad02",
       "version_major": 2,
       "version_minor": 0
      },
      "text/plain": [
       "HBox(children=(IntProgress(value=0, description='train batch', max=2826), HTML(value='')))"
      ]
     },
     "metadata": {},
     "output_type": "display_data"
    },
    {
     "name": "stdout",
     "output_type": "stream",
     "text": [
      "\n"
     ]
    },
    {
     "data": {
      "application/vnd.jupyter.widget-view+json": {
       "model_id": "af56394ba7fc47279388ec58454a1b07",
       "version_major": 2,
       "version_minor": 0
      },
      "text/plain": [
       "HBox(children=(IntProgress(value=0, description='val batch', max=714), HTML(value='')))"
      ]
     },
     "metadata": {},
     "output_type": "display_data"
    },
    {
     "name": "stdout",
     "output_type": "stream",
     "text": [
      "\n",
      "epoch 15, minibatch 2788 in 273.52s\n"
     ]
    },
    {
     "data": {
      "application/vnd.jupyter.widget-view+json": {
       "model_id": "4d36df9728ca46208b625f8320fad951",
       "version_major": 2,
       "version_minor": 0
      },
      "text/plain": [
       "HBox(children=(IntProgress(value=0, description='train batch', max=2826), HTML(value='')))"
      ]
     },
     "metadata": {},
     "output_type": "display_data"
    },
    {
     "name": "stdout",
     "output_type": "stream",
     "text": [
      "\n"
     ]
    },
    {
     "data": {
      "application/vnd.jupyter.widget-view+json": {
       "model_id": "fc02b503fad147a38e4a5be71b057026",
       "version_major": 2,
       "version_minor": 0
      },
      "text/plain": [
       "HBox(children=(IntProgress(value=0, description='val batch', max=714), HTML(value='')))"
      ]
     },
     "metadata": {},
     "output_type": "display_data"
    },
    {
     "name": "stdout",
     "output_type": "stream",
     "text": [
      "\n",
      "epoch 16, minibatch 2788 in 275.29s\n"
     ]
    },
    {
     "data": {
      "application/vnd.jupyter.widget-view+json": {
       "model_id": "0feea8223a8744e0a37acf5c0bdab961",
       "version_major": 2,
       "version_minor": 0
      },
      "text/plain": [
       "HBox(children=(IntProgress(value=0, description='train batch', max=2826), HTML(value='')))"
      ]
     },
     "metadata": {},
     "output_type": "display_data"
    },
    {
     "name": "stdout",
     "output_type": "stream",
     "text": [
      "\n"
     ]
    },
    {
     "data": {
      "application/vnd.jupyter.widget-view+json": {
       "model_id": "7744aaff0bc6496885f54d7455ecb553",
       "version_major": 2,
       "version_minor": 0
      },
      "text/plain": [
       "HBox(children=(IntProgress(value=0, description='val batch', max=714), HTML(value='')))"
      ]
     },
     "metadata": {},
     "output_type": "display_data"
    },
    {
     "name": "stdout",
     "output_type": "stream",
     "text": [
      "\n",
      "epoch 17, minibatch 2788 in 275.01s\n"
     ]
    },
    {
     "data": {
      "application/vnd.jupyter.widget-view+json": {
       "model_id": "04bee7b4c648493da590739e21fc838e",
       "version_major": 2,
       "version_minor": 0
      },
      "text/plain": [
       "HBox(children=(IntProgress(value=0, description='train batch', max=2826), HTML(value='')))"
      ]
     },
     "metadata": {},
     "output_type": "display_data"
    },
    {
     "name": "stdout",
     "output_type": "stream",
     "text": [
      "\n"
     ]
    },
    {
     "data": {
      "application/vnd.jupyter.widget-view+json": {
       "model_id": "3bd7fff936a14562a6e33eb918dd2cf7",
       "version_major": 2,
       "version_minor": 0
      },
      "text/plain": [
       "HBox(children=(IntProgress(value=0, description='val batch', max=714), HTML(value='')))"
      ]
     },
     "metadata": {},
     "output_type": "display_data"
    },
    {
     "name": "stdout",
     "output_type": "stream",
     "text": [
      "\n",
      "epoch 18, minibatch 2788 in 275.63s\n"
     ]
    },
    {
     "data": {
      "application/vnd.jupyter.widget-view+json": {
       "model_id": "264d1e95b00c4e14b5c89d05a6191825",
       "version_major": 2,
       "version_minor": 0
      },
      "text/plain": [
       "HBox(children=(IntProgress(value=0, description='train batch', max=2826), HTML(value='')))"
      ]
     },
     "metadata": {},
     "output_type": "display_data"
    },
    {
     "name": "stdout",
     "output_type": "stream",
     "text": [
      "\n"
     ]
    },
    {
     "data": {
      "application/vnd.jupyter.widget-view+json": {
       "model_id": "b347a13a30924f44971c3a6a9cf889aa",
       "version_major": 2,
       "version_minor": 0
      },
      "text/plain": [
       "HBox(children=(IntProgress(value=0, description='val batch', max=714), HTML(value='')))"
      ]
     },
     "metadata": {},
     "output_type": "display_data"
    },
    {
     "name": "stdout",
     "output_type": "stream",
     "text": [
      "\n",
      "epoch 19, minibatch 2788 in 273.52s\n"
     ]
    },
    {
     "data": {
      "application/vnd.jupyter.widget-view+json": {
       "model_id": "9d8542d4cd8449a3a164a3aeaad24ef3",
       "version_major": 2,
       "version_minor": 0
      },
      "text/plain": [
       "HBox(children=(IntProgress(value=0, description='train batch', max=2826), HTML(value='')))"
      ]
     },
     "metadata": {},
     "output_type": "display_data"
    },
    {
     "name": "stdout",
     "output_type": "stream",
     "text": [
      "\n"
     ]
    },
    {
     "data": {
      "application/vnd.jupyter.widget-view+json": {
       "model_id": "f8ea195d6a044ca2a31c38c22d39094d",
       "version_major": 2,
       "version_minor": 0
      },
      "text/plain": [
       "HBox(children=(IntProgress(value=0, description='val batch', max=714), HTML(value='')))"
      ]
     },
     "metadata": {},
     "output_type": "display_data"
    },
    {
     "name": "stdout",
     "output_type": "stream",
     "text": [
      "\n",
      "epoch 20, minibatch 2788 in 274.96s\n"
     ]
    },
    {
     "data": {
      "application/vnd.jupyter.widget-view+json": {
       "model_id": "ddd788730458412bb16a23384f920136",
       "version_major": 2,
       "version_minor": 0
      },
      "text/plain": [
       "HBox(children=(IntProgress(value=0, description='train batch', max=2826), HTML(value='')))"
      ]
     },
     "metadata": {},
     "output_type": "display_data"
    },
    {
     "name": "stdout",
     "output_type": "stream",
     "text": [
      "\n"
     ]
    },
    {
     "data": {
      "application/vnd.jupyter.widget-view+json": {
       "model_id": "9914549304d84cc1970971b3f5ffaa99",
       "version_major": 2,
       "version_minor": 0
      },
      "text/plain": [
       "HBox(children=(IntProgress(value=0, description='val batch', max=714), HTML(value='')))"
      ]
     },
     "metadata": {},
     "output_type": "display_data"
    },
    {
     "name": "stdout",
     "output_type": "stream",
     "text": [
      "\n",
      "epoch 21, minibatch 2788 in 275.32s\n"
     ]
    },
    {
     "data": {
      "application/vnd.jupyter.widget-view+json": {
       "model_id": "a5a35d639cf541fa9de064da93a1f1dd",
       "version_major": 2,
       "version_minor": 0
      },
      "text/plain": [
       "HBox(children=(IntProgress(value=0, description='train batch', max=2826), HTML(value='')))"
      ]
     },
     "metadata": {},
     "output_type": "display_data"
    },
    {
     "name": "stdout",
     "output_type": "stream",
     "text": [
      "\n"
     ]
    },
    {
     "data": {
      "application/vnd.jupyter.widget-view+json": {
       "model_id": "7a1138b4f0454721b9165c5ad74e7f4d",
       "version_major": 2,
       "version_minor": 0
      },
      "text/plain": [
       "HBox(children=(IntProgress(value=0, description='val batch', max=714), HTML(value='')))"
      ]
     },
     "metadata": {},
     "output_type": "display_data"
    },
    {
     "name": "stdout",
     "output_type": "stream",
     "text": [
      "\n",
      "epoch 22, minibatch 2788 in 274.76s\n"
     ]
    },
    {
     "data": {
      "application/vnd.jupyter.widget-view+json": {
       "model_id": "71aab6725aa24e1698c5fb85a1d87fa1",
       "version_major": 2,
       "version_minor": 0
      },
      "text/plain": [
       "HBox(children=(IntProgress(value=0, description='train batch', max=2826), HTML(value='')))"
      ]
     },
     "metadata": {},
     "output_type": "display_data"
    },
    {
     "name": "stdout",
     "output_type": "stream",
     "text": [
      "\n"
     ]
    },
    {
     "data": {
      "application/vnd.jupyter.widget-view+json": {
       "model_id": "9eaa4588c7044edf9d157c3a38b117be",
       "version_major": 2,
       "version_minor": 0
      },
      "text/plain": [
       "HBox(children=(IntProgress(value=0, description='val batch', max=714), HTML(value='')))"
      ]
     },
     "metadata": {},
     "output_type": "display_data"
    },
    {
     "name": "stdout",
     "output_type": "stream",
     "text": [
      "\n",
      "epoch 23, minibatch 2788 in 274.12s\n"
     ]
    },
    {
     "data": {
      "application/vnd.jupyter.widget-view+json": {
       "model_id": "592ba91183e04afd8f99d5d14d2c15fe",
       "version_major": 2,
       "version_minor": 0
      },
      "text/plain": [
       "HBox(children=(IntProgress(value=0, description='train batch', max=2826), HTML(value='')))"
      ]
     },
     "metadata": {},
     "output_type": "display_data"
    },
    {
     "name": "stdout",
     "output_type": "stream",
     "text": [
      "\n"
     ]
    },
    {
     "data": {
      "application/vnd.jupyter.widget-view+json": {
       "model_id": "667831b8cd5d4211a62ada398f225624",
       "version_major": 2,
       "version_minor": 0
      },
      "text/plain": [
       "HBox(children=(IntProgress(value=0, description='val batch', max=714), HTML(value='')))"
      ]
     },
     "metadata": {},
     "output_type": "display_data"
    },
    {
     "name": "stdout",
     "output_type": "stream",
     "text": [
      "\n",
      "epoch 24, minibatch 2788 in 274.76s\n"
     ]
    }
   ],
   "source": [
    "epochs = 25\n",
    "loss_test = []\n",
    "loss_train = []\n",
    "TP_percs_batch = []\n",
    "precisions_batch = []\n",
    "TPs, total_1_voxels, TP_and_FN = [],[], []\n",
    "TPs_train, total_1_voxels_train, TP_and_FN_train = [],[], []\n",
    "\n",
    "for epoch in range(epochs):\n",
    "    if epoch==0:print(epoch)\n",
    "    epoch_loss = 0\n",
    "    epoch_loss_val = 0\n",
    "\n",
    "    for idx, (imgs, msks) in tqdm(enumerate(dataloader_train), desc='train batch', total = len(dataloader_train.dataset)//dataloader_train.batch_size):\n",
    "#         if idx >= 1: continue                                # !!! REMOVE !!!\n",
    "        start = time.time()\n",
    "        model.train()\n",
    "        \n",
    "        TPs_batch_train, total_1_voxels_batch_train, TP_and_FN_batch_train = 0, 0, 0\n",
    "#         print(f' inputs = {np.shape(imgs)}, {np.shape(msks)}')\n",
    "\n",
    "        opt.zero_grad()    # Clear gradients w.r.t. parameters\n",
    "        if torch.cuda.is_available():\n",
    "            imgs = Variable(imgs.cuda(GPU))\n",
    "            msks = Variable(msks.cuda(GPU))\n",
    "        else:\n",
    "            imgs = Variable(imgs)\n",
    "            msks = Variable(msks)\n",
    "\n",
    "        pred = model(imgs)\n",
    "        # Check !!! if to use the dice coeff loss we round up the predictions\n",
    "        #pred_class= torch.round(pred)\n",
    "#         loss = dice_loss(pred, msks)\n",
    "        loss = criterion(pred, msks.float())\n",
    "#         loss = lossCE(pred, msks.float())\n",
    "\n",
    "        loss.backward()     # Getting gradients w.r.t. parameters\n",
    "        opt.step()    # Updating parameters\n",
    "        \n",
    "        \n",
    "        pred_arr_train = pred.detach().cpu().numpy()\n",
    "        msks_arr_train = msks.detach().cpu().numpy()\n",
    "        pred_arr_class_train = pred_arr_train > .5\n",
    "        TP_train = np.sum(pred_arr_class_train * msks_arr_train)\n",
    "        total_1s_train = np.sum(msks_arr_train)\n",
    "        TPs_batch_train += TP_train\n",
    "        total_1_voxels_batch_train += total_1s_train\n",
    "        TP_and_FN_batch_train += np.sum(pred_arr_class_train)\n",
    "\n",
    "        epoch_loss+=loss.item()\n",
    "        \n",
    "    # TEST\n",
    "    model.eval()\n",
    "    with torch.no_grad():\n",
    "                \n",
    "        TPs_batch, total_1_voxels_batch, TP_and_FN_batch = 0, 0, 0\n",
    "        loss_val_epoch = 0\n",
    "        for idx_val, (imgs_val, msks_val) in tqdm(enumerate(dataloader_test), desc='val batch',total = len(dataloader_test.dataset)//dataloader_test.batch_size):\n",
    "            #if idx_val>=2:continue # !!!! REMOVE\n",
    "            #print(idx, idx_val)\n",
    "\n",
    "            if torch.cuda.is_available():\n",
    "                imgs_val = Variable(imgs_val.cuda(GPU))\n",
    "                msks_val = Variable(msks_val.cuda(GPU))\n",
    "            else:\n",
    "                imgs_val = Variable(imgs_val)\n",
    "                msks_val = Variable(msks_val)\n",
    "\n",
    "            pred_val = model(imgs_val)\n",
    "            assert(np.shape(pred_val) == np.shape(msks_val))\n",
    "            # Check !!! if to use the dice coeff loss we round up the predictions\n",
    "            #pred_class_val= torch.round(pred_val)\n",
    "#             loss_val = dice_loss(pred_val, msks_val)\n",
    "            loss_val = criterion(pred_val, msks_val.float())\n",
    "#             loss_val = lossCE(pred_val, msks_val.float())\n",
    "                    \n",
    "            pred_arr = pred_val.detach().cpu().numpy()\n",
    "            msks_arr = msks_val.detach().cpu().numpy()\n",
    "            pred_arr_class = pred_arr > .5\n",
    "            TP = np.sum(pred_arr_class * msks_arr)\n",
    "            total_1s = np.sum(msks_arr)\n",
    "            TPs_batch += TP\n",
    "            total_1_voxels_batch += total_1s\n",
    "                    \n",
    "            #TP_perc = TP / total_1s\n",
    "            TP_and_FN_batch += np.sum(pred_arr_class)\n",
    "            #precision = TP/TP_and_FN\n",
    "                    \n",
    "            #TP_percs_batch.append(TP_perc)\n",
    "            #precisions_batch.append(precision)\n",
    "\n",
    "            epoch_loss_val+=loss_val.item()\n",
    "                    \n",
    "            #if idx_val ==1:break\n",
    "\n",
    "    TPs.append(TPs_batch)\n",
    "    TPs_train.append(TPs_batch_train)\n",
    "    \n",
    "    total_1_voxels.append(total_1_voxels_batch)\n",
    "    total_1_voxels_train.append(total_1_voxels_batch_train)\n",
    "    \n",
    "    TP_and_FN.append(TP_and_FN_batch)\n",
    "    TP_and_FN_train.append(TP_and_FN_batch_train)\n",
    "    \n",
    "    loss_test.append(epoch_loss_val/len(dataloader_test.dataset))\n",
    "        \n",
    "    loss_train.append(epoch_loss/len(dataloader_train.dataset))\n",
    "    stop = time.time()\n",
    "\n",
    "    print(f'epoch {epoch}, minibatch {idx} in {stop-start:.2f}s')"
   ]
  },
  {
   "cell_type": "code",
   "execution_count": 41,
   "metadata": {},
   "outputs": [
    {
     "data": {
      "text/plain": [
       "(torch.Size([6, 1, 80, 80, 80]), torch.Size([6, 1, 80, 80, 80]))"
      ]
     },
     "execution_count": 41,
     "metadata": {},
     "output_type": "execute_result"
    }
   ],
   "source": [
    "pred.shape, msks.shape"
   ]
  },
  {
   "cell_type": "code",
   "execution_count": 32,
   "metadata": {},
   "outputs": [],
   "source": [
    "loss_train_p = [np.round(i,5) for i in loss_train]\n",
    "loss_test_p = [np.round(i,5) for i in loss_test]"
   ]
  },
  {
   "cell_type": "code",
   "execution_count": 33,
   "metadata": {},
   "outputs": [
    {
     "name": "stdout",
     "output_type": "stream",
     "text": [
      "loss_train: [0.03222, 0.00209, 0.00037, 0.00016, 0.00012, 0.00012, 0.00011, 0.0001, 0.0001, 0.0001, 0.0001, 9e-05, 8e-05, 8e-05, 8e-05, 8e-05, 8e-05, 8e-05, 8e-05, 7e-05, 7e-05, 7e-05, 7e-05, 6e-05, 7e-05]\n",
      "loss_test: [0.00537, 0.00068, 0.00023, 0.00015, 0.00014, 0.00014, 0.00013, 0.00012, 0.00012, 0.00013, 0.00012, 0.00011, 0.00011, 0.00012, 0.00011, 0.00013, 0.0001, 0.0001, 0.0001, 0.0001, 0.00011, 0.00013, 9e-05, 0.0001, 9e-05]\n",
      "TPs: [0, 0, 0, 0, 10, 48, 6167, 2770, 4275, 28546, 5334, 22168, 17952, 35308, 47828, 79308, 60334, 58265, 49847, 72743, 29445, 29861, 86613, 101913, 75518]\n",
      "total_1_voxels: [454836, 454836, 454836, 454836, 454836, 454836, 454836, 454836, 454836, 454836, 454836, 454836, 454836, 454836, 454836, 454836, 454836, 454836, 454836, 454836, 454836, 454836, 454836, 454836, 454836]\n",
      "TP_and_FN: [1, 0, 0, 0, 10, 48, 11318, 4216, 7700, 91756, 7391, 38178, 22831, 107038, 74887, 203221, 96207, 84931, 66570, 109070, 41595, 40702, 120495, 172793, 100397]\n",
      "TPs_train: [0, 0, 0, 0, 0, 0, 0, 0, 999, 0, 0, 4, 0, 0, 0, 0, 0, 0, 0, 127, 74, 0, 0, 0, 226]\n",
      "total_1_voxels_train: [135, 34, 312, 277, 162, 0, 753, 0, 8007, 0, 7869, 79, 362, 0, 0, 0, 414, 0, 0, 336, 9456, 0, 836, 219, 1409]\n",
      "TP_and_FN_train: [0, 0, 0, 0, 0, 0, 0, 0, 999, 0, 0, 6, 0, 0, 0, 1, 0, 0, 0, 151, 82, 0, 0, 0, 238]\n"
     ]
    }
   ],
   "source": [
    "print(f'loss_train: {loss_train_p}')\n",
    "print(f'loss_test: {loss_test_p}')\n",
    "print(f'TPs: {TPs}')\n",
    "print(f'total_1_voxels: {total_1_voxels}')\n",
    "print(f'TP_and_FN: {TP_and_FN}')\n",
    "print(f'TPs_train: {TPs_train}')\n",
    "print(f'total_1_voxels_train: {total_1_voxels_train}')\n",
    "print(f'TP_and_FN_train: {TP_and_FN_train}')"
   ]
  },
  {
   "cell_type": "code",
   "execution_count": 35,
   "metadata": {},
   "outputs": [],
   "source": [
    "# Save metrics\n",
    "results_dict = {'loss_train':loss_train,\n",
    "    'loss_test':loss_test,\n",
    "    'TPs':TPs,\n",
    "    'total_1_voxels':total_1_voxels,\n",
    "    'TP_and_FN':TP_and_FN,\n",
    "    'TPs_train':TPs_train,\n",
    "    'total_1_voxels_train':total_1_voxels_train,\n",
    "    'TP_and_FN_train':TP_and_FN_train}\n",
    "path_results_dict = f'CNN models/results_dict_{epochs}ep_{version}'\n",
    "\n",
    "with open(path_results_dict + '.pkl', 'wb') as f:\n",
    "    pickle.dump(results_dict, f, pickle.HIGHEST_PROTOCOL)"
   ]
  },
  {
   "cell_type": "code",
   "execution_count": 36,
   "metadata": {},
   "outputs": [],
   "source": [
    "path_trained_model = f'CNN models/UNet_4blocks_{epochs}ep_{version}.pt'\n",
    "torch.save(model.state_dict(), path_trained_model)"
   ]
  },
  {
   "cell_type": "code",
   "execution_count": 37,
   "metadata": {},
   "outputs": [
    {
     "name": "stderr",
     "output_type": "stream",
     "text": [
      "/home/om18/anaconda3/envs/pytorchv1/lib/python3.6/site-packages/torch/serialization.py:241: UserWarning: Couldn't retrieve source code for container of type UNet1. It won't be checked for correctness upon loading.\n",
      "  \"type \" + obj.__name__ + \". It won't be checked \"\n"
     ]
    }
   ],
   "source": [
    "path_trained_entire_model = path_trained_model[:-3] + '_entire_model.pt'\n",
    "torch.save(model, path_trained_entire_model)"
   ]
  },
  {
   "cell_type": "code",
   "execution_count": null,
   "metadata": {},
   "outputs": [],
   "source": []
  },
  {
   "cell_type": "code",
   "execution_count": null,
   "metadata": {},
   "outputs": [],
   "source": [
    "path_trained_model"
   ]
  },
  {
   "cell_type": "markdown",
   "metadata": {},
   "source": [
    "---"
   ]
  },
  {
   "cell_type": "markdown",
   "metadata": {},
   "source": [
    "# Continue training"
   ]
  },
  {
   "cell_type": "code",
   "execution_count": 38,
   "metadata": {},
   "outputs": [],
   "source": [
    "del model"
   ]
  },
  {
   "cell_type": "code",
   "execution_count": 30,
   "metadata": {},
   "outputs": [],
   "source": [
    "path_trained_model = f'CNN models/UNet_4blocks_25ep_v4.pt'\n",
    "path_part1 = path_trained_model.split('/')[0]\n",
    "path_part2 = path_trained_model.split('blocks_')[-1].split('.')[0]\n",
    "path_results_dict_to_recover = path_part1+'/results_dict_'+path_part2"
   ]
  },
  {
   "cell_type": "code",
   "execution_count": 31,
   "metadata": {},
   "outputs": [],
   "source": [
    "## Get metrics back\n",
    "#path_results_dict_to_recover = f'CNN models/results_dict_{epoch_previous}ep'\n",
    "\n",
    "with open(path_results_dict_to_recover + '.pkl', 'rb') as f:\n",
    "    results_dict_recovered = pickle.load(f)\n",
    "    \n",
    "loss_train = results_dict_recovered['loss_train']\n",
    "loss_test = results_dict_recovered['loss_test']\n",
    "TPs = results_dict_recovered['TPs']\n",
    "total_1_voxels = results_dict_recovered['total_1_voxels']\n",
    "TP_and_FN = results_dict_recovered['TP_and_FN']\n",
    "TPs_train = results_dict_recovered['TPs_train']\n",
    "total_1_voxels_train = results_dict_recovered['total_1_voxels_train']\n",
    "TP_and_FN_train = results_dict_recovered['TP_and_FN_train']"
   ]
  },
  {
   "cell_type": "code",
   "execution_count": 32,
   "metadata": {},
   "outputs": [
    {
     "data": {
      "text/plain": [
       "[<matplotlib.lines.Line2D at 0x7f60d0a58048>]"
      ]
     },
     "execution_count": 32,
     "metadata": {},
     "output_type": "execute_result"
    },
    {
     "data": {
      "image/png": "[encoded data removed]",
      "text/plain": [
       "<Figure size 432x288 with 1 Axes>"
      ]
     },
     "metadata": {
      "needs_background": "light"
     },
     "output_type": "display_data"
    }
   ],
   "source": [
    "plt.plot(TPs)"
   ]
  },
  {
   "cell_type": "code",
   "execution_count": 33,
   "metadata": {},
   "outputs": [],
   "source": [
    "# Load saved model\n",
    "model = UNet1(ch_in=1, num_classes=2, nf=32)\n",
    "model.load_state_dict(torch.load(path_trained_model))\n",
    "if torch.cuda.is_available():\n",
    "    model.cuda(GPU)"
   ]
  },
  {
   "cell_type": "code",
   "execution_count": 34,
   "metadata": {},
   "outputs": [],
   "source": [
    "# lr=1e-5\n",
    "opt = optim.Adam(model.parameters(), lr=lr)"
   ]
  },
  {
   "cell_type": "code",
   "execution_count": 35,
   "metadata": {},
   "outputs": [
    {
     "data": {
      "text/plain": [
       "array([26, 27, 28, 29, 30, 31, 32, 33, 34, 35, 36, 37, 38, 39, 40, 41, 42,\n",
       "       43, 44, 45, 46, 47, 48, 49, 50])"
      ]
     },
     "execution_count": 35,
     "metadata": {},
     "output_type": "execute_result"
    }
   ],
   "source": [
    "# Get epochs from previous training\n",
    "epoch_previous = int(path_trained_model.split('_')[-2].split('ep')[0])\n",
    "epochs_more=25\n",
    "range_new = np.arange(epoch_previous+1,epoch_previous+1+epochs_more)\n",
    "range_new"
   ]
  },
  {
   "cell_type": "code",
   "execution_count": null,
   "metadata": {
    "scrolled": true
   },
   "outputs": [
    {
     "data": {
      "application/vnd.jupyter.widget-view+json": {
       "model_id": "ac3d484bbd1a4d6aa452b16830fb89c1",
       "version_major": 2,
       "version_minor": 0
      },
      "text/plain": [
       "HBox(children=(IntProgress(value=0, description='train batch', max=2826), HTML(value='')))"
      ]
     },
     "metadata": {},
     "output_type": "display_data"
    }
   ],
   "source": [
    "for epoch in range_new:\n",
    "\n",
    "    epoch_loss = 0\n",
    "    epoch_loss_val = 0\n",
    "\n",
    "    for idx, (imgs, msks) in tqdm(enumerate(dataloader_train), desc='train batch', total = len(dataloader_train.dataset)//dataloader_train.batch_size):\n",
    "        #if idx >= 1: continue                                # !!! REMOVE !!!\n",
    "        start = time.time()\n",
    "        model.train()\n",
    "        \n",
    "        TPs_batch_train, total_1_voxels_batch_train, TP_and_FN_batch_train = 0, 0, 0\n",
    "#         print(f' inputs = {np.shape(imgs)}, {np.shape(msks)}')\n",
    "\n",
    "        opt.zero_grad()    # Clear gradients w.r.t. parameters\n",
    "        if torch.cuda.is_available():\n",
    "            imgs = Variable(imgs.cuda(GPU))\n",
    "            msks = Variable(msks.cuda(GPU))\n",
    "        else:\n",
    "            imgs = Variable(imgs)\n",
    "            msks = Variable(msks)\n",
    "\n",
    "        pred = model(imgs)\n",
    "        # Check !!! if to use the dice coeff loss we round up the predictions\n",
    "        #pred_class= torch.round(pred)\n",
    "        #loss = dice_loss(pred, msks)\n",
    "        loss = criterion(pred, msks.float())\n",
    "        loss.backward()     # Getting gradients w.r.t. parameters\n",
    "        opt.step()    # Updating parameters\n",
    "        \n",
    "        \n",
    "        pred_arr_train = pred.detach().cpu().numpy()\n",
    "        msks_arr_train = msks.detach().cpu().numpy()\n",
    "        pred_arr_class_train = pred_arr_train > .5\n",
    "        TP_train = np.sum(pred_arr_class_train * msks_arr_train)\n",
    "        total_1s_train = np.sum(msks_arr_train)\n",
    "        TPs_batch_train += TP_train\n",
    "        total_1_voxels_batch_train += total_1s_train\n",
    "        TP_and_FN_batch_train += np.sum(pred_arr_class_train)\n",
    "\n",
    "        epoch_loss+=loss.item()\n",
    "        \n",
    "    # TEST\n",
    "    model.eval()\n",
    "    with torch.no_grad():\n",
    "                \n",
    "        TPs_batch, total_1_voxels_batch, TP_and_FN_batch = 0, 0, 0\n",
    "        loss_val_epoch = 0\n",
    "        for idx_val, (imgs_val, msks_val) in tqdm(enumerate(dataloader_test), desc='val batch',total = len(dataloader_test.dataset)//dataloader_test.batch_size):\n",
    "            #if idx_val>=2:continue # !!!! REMOVE\n",
    "            #print(idx, idx_val)\n",
    "\n",
    "            if torch.cuda.is_available():\n",
    "                imgs_val = Variable(imgs_val.cuda(GPU))\n",
    "                msks_val = Variable(msks_val.cuda(GPU))\n",
    "            else:\n",
    "                imgs_val = Variable(imgs_val)\n",
    "                msks_val = Variable(msks_val)\n",
    "\n",
    "            pred_val = model(imgs_val)\n",
    "            assert(np.shape(pred_val) == np.shape(msks_val))\n",
    "            # Check !!! if to use the dice coeff loss we round up the predictions\n",
    "            #pred_class_val= torch.round(pred_val)\n",
    "            #loss_val = dice_loss(pred_val, msks_val)\n",
    "            loss_val = criterion(pred_val, msks_val.float())\n",
    "                    \n",
    "            pred_arr = pred_val.detach().cpu().numpy()\n",
    "            msks_arr = msks_val.detach().cpu().numpy()\n",
    "            pred_arr_class = pred_arr > .5\n",
    "            TP = np.sum(pred_arr_class * msks_arr)\n",
    "            total_1s = np.sum(msks_arr)\n",
    "            TPs_batch += TP\n",
    "            total_1_voxels_batch += total_1s\n",
    "                    \n",
    "            #TP_perc = TP / total_1s\n",
    "            TP_and_FN_batch += np.sum(pred_arr_class)\n",
    "            #precision = TP/TP_and_FN\n",
    "                    \n",
    "            #TP_percs_batch.append(TP_perc)\n",
    "            #precisions_batch.append(precision)\n",
    "\n",
    "            epoch_loss_val+=loss_val.item()\n",
    "                    \n",
    "            #if idx_val ==1:break\n",
    "\n",
    "    TPs.append(TPs_batch)\n",
    "    TPs_train.append(TPs_batch_train)\n",
    "    \n",
    "    total_1_voxels.append(total_1_voxels_batch)\n",
    "    total_1_voxels_train.append(total_1_voxels_batch_train)\n",
    "    \n",
    "    TP_and_FN.append(TP_and_FN_batch)\n",
    "    TP_and_FN_train.append(TP_and_FN_batch_train)\n",
    "    \n",
    "    loss_test.append(epoch_loss_val/len(dataloader_test.dataset))\n",
    "        \n",
    "    loss_train.append(epoch_loss/len(dataloader_train.dataset))\n",
    "    stop = time.time()\n",
    "    \n",
    "    if epoch % 5 == 0:\n",
    "        path_trained_model = f'CNN models/UNet_4blocks_{epoch}ep_{version}.pt'\n",
    "        torch.save(model.state_dict(), path_trained_model)\n",
    "\n",
    "    print(f'epoch {epoch}, minibatch {idx} in {stop-start:.2f}s')"
   ]
  },
  {
   "cell_type": "code",
   "execution_count": null,
   "metadata": {},
   "outputs": [],
   "source": [
    "# Save metrics\n",
    "results_dict = {'loss_train':loss_train,\n",
    "    'loss_test':loss_test,\n",
    "    'TPs':TPs,\n",
    "    'total_1_voxels':total_1_voxels,\n",
    "    'TP_and_FN':TP_and_FN,\n",
    "    'TPs_train':TPs_train,\n",
    "    'total_1_voxels_train':total_1_voxels_train,\n",
    "    'TP_and_FN_train':TP_and_FN_train}\n",
    "path_results_dict = f'CNN models/results_dict_{epoch}ep_{version}'\n",
    "\n",
    "with open(path_results_dict + '.pkl', 'wb') as f:\n",
    "    pickle.dump(results_dict, f, pickle.HIGHEST_PROTOCOL)"
   ]
  },
  {
   "cell_type": "code",
   "execution_count": null,
   "metadata": {},
   "outputs": [],
   "source": [
    "path_trained_model = f'CNN models/UNet_4blocks_{epoch}ep_{version}.pt'\n",
    "torch.save(model.state_dict(), path_trained_model)"
   ]
  },
  {
   "cell_type": "code",
   "execution_count": null,
   "metadata": {},
   "outputs": [],
   "source": [
    "path_trained_entire_model = path_trained_model[:-3] + '_entire_model.pt'\n",
    "torch.save(model, path_trained_entire_model)"
   ]
  },
  {
   "cell_type": "code",
   "execution_count": null,
   "metadata": {},
   "outputs": [],
   "source": [
    "plt.plot(TPs)\n",
    "plt.plot(TP_and_FN)"
   ]
  },
  {
   "cell_type": "markdown",
   "metadata": {},
   "source": [
    "# Evaluate"
   ]
  },
  {
   "cell_type": "code",
   "execution_count": null,
   "metadata": {},
   "outputs": [],
   "source": [
    "# Get one scan\n",
    "pred_sample = [f'{path_source}lungs/{i}' for i in files_test]\n",
    "idname = 'LIDC-IDRI-0390'\n",
    "pred_sample = [i for i in pred_sample if idname in i]\n",
    "pred_sample = np.sort(pred_sample)\n",
    "\n",
    "y_true = [f'{path_source}masks/{i}' for i in files_test]\n",
    "y_true = [i for i in y_true if idname in i]\n",
    "y_true = np.sort(y_true)\n",
    "    \n",
    "for i,j in zip(pred_sample, y_true): print(i.split('/')[-1],'   ', j.split('/')[-1])"
   ]
  },
  {
   "cell_type": "code",
   "execution_count": null,
   "metadata": {},
   "outputs": [],
   "source": [
    "# Check which cubes have the nodule\n",
    "for idx, i in enumerate(y_true):\n",
    "    msk = np.load(i)\n",
    "    msk = msk.f.arr_0\n",
    "    z, y, x = np.where(msk==1)\n",
    "    if len(z)>=1: print(idx, i)"
   ]
  },
  {
   "cell_type": "code",
   "execution_count": null,
   "metadata": {},
   "outputs": [],
   "source": [
    "img = np.load(pred_sample[2])\n",
    "img = img.f.arr_0\n",
    "mask_true = np.load(y_true[2])\n",
    "mask_true = mask_true.f.arr_0\n",
    "# Preprocess\n",
    "img = (img - MIN_BOUND) / (MAX_BOUND - MIN_BOUND)\n",
    "img[img>1] = 1.\n",
    "img[img<0] = 0.\n",
    "img = img - PIXEL_MEAN\n",
    "img = np.float32(img)"
   ]
  },
  {
   "cell_type": "code",
   "execution_count": null,
   "metadata": {},
   "outputs": [],
   "source": [
    "img = np.expand_dims(img, 0) # add channel dimension\n",
    "img = np.expand_dims(img, 0) # add batch dimension\n",
    "img = Variable(torch.from_numpy(img).cuda(GPU))"
   ]
  },
  {
   "cell_type": "code",
   "execution_count": null,
   "metadata": {},
   "outputs": [],
   "source": [
    "pred = model(img)\n",
    "pred_np = pred[0][0].detach().cpu().numpy()\n",
    "img_np = img[0][0].detach().cpu().numpy()\n",
    "mask_true_np = mask_true[0][0]"
   ]
  },
  {
   "cell_type": "code",
   "execution_count": null,
   "metadata": {},
   "outputs": [],
   "source": [
    "np.where(pred_np>.5)"
   ]
  },
  {
   "cell_type": "code",
   "execution_count": null,
   "metadata": {},
   "outputs": [],
   "source": [
    "fig, ax = plt.subplots(1,3,figsize=(14,5))\n",
    "ax[0].imshow(img_np[13])\n",
    "ax[1].imshow(pred_np[13]>.5)\n",
    "ax[2].imshow(mask_true[13])"
   ]
  },
  {
   "cell_type": "code",
   "execution_count": null,
   "metadata": {},
   "outputs": [],
   "source": []
  },
  {
   "cell_type": "code",
   "execution_count": null,
   "metadata": {},
   "outputs": [],
   "source": []
  },
  {
   "cell_type": "code",
   "execution_count": null,
   "metadata": {},
   "outputs": [],
   "source": []
  },
  {
   "cell_type": "code",
   "execution_count": null,
   "metadata": {},
   "outputs": [],
   "source": []
  },
  {
   "cell_type": "code",
   "execution_count": null,
   "metadata": {},
   "outputs": [],
   "source": []
  },
  {
   "cell_type": "code",
   "execution_count": null,
   "metadata": {},
   "outputs": [],
   "source": []
  },
  {
   "cell_type": "code",
   "execution_count": null,
   "metadata": {},
   "outputs": [],
   "source": [
    "## Get metrics back\n",
    "#path_results_dict_to_recover = f'CNN models/results_dict_{epoch_previous}ep'\n",
    "\n",
    "#with open(path_results_dict_to_recover + '.pkl', 'rb') as f:\n",
    "    #results_dict_recovered = pickle.load(f)\n",
    "    \n",
    "#loss_train_recovered = results_dict_recovered['loss_train']\n",
    "#loss_test_recovered = results_dict_recovered['loss_test']\n",
    "#TPs_recovered = results_dict_recovered['TPs']\n",
    "#total_1_voxels_recovered = results_dict_recovered['total_1_voxels']\n",
    "#TP_and_FN_recovered = results_dict_recovered['TP_and_FN']\n",
    "#TPs_train_recovered = results_dict_recovered['TPs_train']\n",
    "#total_1_voxels_train_recovered = results_dict_recovered['total_1_voxels_train']\n",
    "#TP_and_FN_train_recovered = results_dict_recovered['TP_and_FN_train']"
   ]
  },
  {
   "cell_type": "code",
   "execution_count": null,
   "metadata": {},
   "outputs": [],
   "source": [
    "#loss_train_recovered.append(loss_train)\n",
    "#loss_test_recovered.append(loss_test)\n",
    "#TPs_recovered.append(TPs)\n",
    "#total_1_voxels_recovered.append(total_1_voxels)\n",
    "#TP_and_FN_recovered.append(TP_and_FN)\n",
    "#TPs_train_recovered.append(TPs_train)\n",
    "#total_1_voxels_train_recovered.append(total_1_voxels_train)\n",
    "#TP_and_FN_train_recovered.append(TP_and_FN_train)"
   ]
  },
  {
   "cell_type": "code",
   "execution_count": null,
   "metadata": {},
   "outputs": [],
   "source": []
  },
  {
   "cell_type": "code",
   "execution_count": null,
   "metadata": {},
   "outputs": [],
   "source": [
    "plt.figure()\n",
    "plt.plot(TPs)\n",
    "plt.plot(total_1_voxels)\n",
    "plt.figure()\n",
    "plt.plot(TP_and_FN)"
   ]
  },
  {
   "cell_type": "code",
   "execution_count": null,
   "metadata": {},
   "outputs": [],
   "source": [
    "(pred_arr==1).all()"
   ]
  },
  {
   "cell_type": "code",
   "execution_count": null,
   "metadata": {},
   "outputs": [],
   "source": []
  },
  {
   "cell_type": "code",
   "execution_count": null,
   "metadata": {},
   "outputs": [],
   "source": []
  },
  {
   "cell_type": "code",
   "execution_count": null,
   "metadata": {},
   "outputs": [],
   "source": []
  },
  {
   "cell_type": "markdown",
   "metadata": {},
   "source": [
    "---"
   ]
  }
 ],
 "metadata": {
  "kernelspec": {
   "display_name": "Python 3",
   "language": "python",
   "name": "python3"
  },
  "language_info": {
   "codemirror_mode": {
    "name": "ipython",
    "version": 3
   },
   "file_extension": ".py",
   "mimetype": "text/x-python",
   "name": "python",
   "nbconvert_exporter": "python",
   "pygments_lexer": "ipython3",
   "version": "3.6.8"
  },
  "varInspector": {
   "cols": {
    "lenName": 16,
    "lenType": 16,
    "lenVar": 40
   },
   "kernels_config": {
    "python": {
     "delete_cmd_postfix": "",
     "delete_cmd_prefix": "del ",
     "library": "var_list.py",
     "varRefreshCmd": "print(var_dic_list())"
    },
    "r": {
     "delete_cmd_postfix": ") ",
     "delete_cmd_prefix": "rm(",
     "library": "var_list.r",
     "varRefreshCmd": "cat(var_dic_list()) "
    }
   },
   "types_to_exclude": [
    "module",
    "function",
    "builtin_function_or_method",
    "instance",
    "_Feature"
   ],
   "window_display": false
  }
 },
 "nbformat": 4,
 "nbformat_minor": 2
}
