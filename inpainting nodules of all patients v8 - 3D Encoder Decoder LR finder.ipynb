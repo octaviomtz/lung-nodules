{
 "cells": [
  {
   "cell_type": "markdown",
   "metadata": {},
   "source": [
    "# Introduction"
   ]
  },
  {
   "cell_type": "markdown",
   "metadata": {},
   "source": [
    "Code adapted from: https://github.com/DmitryUlyanov/deep-image-prior/blob/master/inpainting.ipynb   \n",
    "\n",
    "\n",
    "**v7**     \n",
    "1. LR finder with Encoder-Decoder\n",
    "\n",
    "**v6**     \n",
    "1. LR finder with UNet\n",
    "1. The conv definitin in common.py was modified to apply Xavier initialization to ONLY to the weights (not biases)\n",
    "\n",
    "**v5**     \n",
    "1. UNet   \n",
    "\n",
    "**v4**     \n",
    "1. Cyclic learning rate   \n",
    "\n",
    "**v3**     \n",
    "1. Include learning rate annealing every 300 epochs (set annealing=**True** in optimize2).    \n",
    "\n",
    "**v2**     \n",
    "1. We save the output for each epoch only if the loss is lower   \n",
    "    1. This required a modification in **optimize2** (previously named optimize)   \n",
    "1. We optionally save the output if the loss is lower, and only after the 500th iteration   \n",
    "    1. We moved the **plot_for_gif** function inside the **optimize2** function \n",
    "\n",
    "**v1**     \n",
    "1. The following files in the deep image prior library are modified:\n",
    "    1. utils.common_utils.py: **optimize** now returns loss   \n",
    "    1. utils.common_utils.py: **plot_image_grid** plots viridis without interpolation\n",
    "1. **To do:** Save the output with the lowest loss not the one at the k-iteration"
   ]
  },
  {
   "cell_type": "markdown",
   "metadata": {},
   "source": [
    "# Import libs"
   ]
  },
  {
   "cell_type": "code",
   "execution_count": 1,
   "metadata": {},
   "outputs": [],
   "source": [
    "from __future__ import print_function\n",
    "import matplotlib.pyplot as plt\n",
    "# %matplotlib inline\n",
    "\n",
    "import os\n",
    "import numpy as np\n",
    "import scipy.sparse as sparse\n",
    "from models.resnet import ResNet\n",
    "from models.unet import UNet\n",
    "from models.skip3D import skip\n",
    "import torch\n",
    "import torch.optim\n",
    "\n",
    "from utils.inpainting_utils3D import *\n",
    "\n",
    "torch.backends.cudnn.enabled = True\n",
    "torch.backends.cudnn.benchmark =True\n",
    "dtype = torch.cuda.FloatTensor\n",
    "\n",
    "PLOT = True\n",
    "imsize = -1\n",
    "dim_div_by = 64"
   ]
  },
  {
   "cell_type": "code",
   "execution_count": 2,
   "metadata": {},
   "outputs": [],
   "source": [
    "torch.cuda.set_device(0)"
   ]
  },
  {
   "cell_type": "code",
   "execution_count": 3,
   "metadata": {},
   "outputs": [],
   "source": [
    "import imageio\n",
    "from matplotlib import rcParams\n",
    "from copy import copy\n",
    "from scipy import ndimage\n",
    "import time\n",
    "from scipy import ndimage as ndi\n",
    "from mpl_toolkits.mplot3d.art3d import Poly3DCollection\n",
    "import pandas as pd\n",
    "from tqdm import tqdm_notebook\n",
    "from skimage import measure, morphology\n",
    "from itertools import groupby, count"
   ]
  },
  {
   "cell_type": "code",
   "execution_count": 4,
   "metadata": {},
   "outputs": [],
   "source": [
    "from skimage.morphology import watershed\n",
    "from skimage.feature import peak_local_max"
   ]
  },
  {
   "cell_type": "markdown",
   "metadata": {},
   "source": [
    "# Functions"
   ]
  },
  {
   "cell_type": "code",
   "execution_count": 5,
   "metadata": {},
   "outputs": [],
   "source": [
    "def set_all_rcParams(true_or_false):\n",
    "    rcParams['ytick.left']=true_or_false\n",
    "    rcParams['ytick.right']=true_or_false\n",
    "    rcParams['xtick.top']=true_or_false\n",
    "    rcParams['xtick.bottom']=true_or_false\n",
    "    rcParams['ytick.labelleft'] = true_or_false\n",
    "    rcParams['ytick.labelright'] = true_or_false\n",
    "    rcParams['xtick.labeltop'] = true_or_false\n",
    "    rcParams['xtick.labelbottom'] = true_or_false"
   ]
  },
  {
   "cell_type": "code",
   "execution_count": 6,
   "metadata": {},
   "outputs": [],
   "source": [
    "def plot_for_gif(image_to_save,num_iter, i):\n",
    "    fig, ax = plt.subplots(1,2, gridspec_kw = {'width_ratios':[8, 1]}, figsize=(14,10))\n",
    "    ax[0].imshow(image_to_save, cmap='viridis')\n",
    "    ax[0].axis('off')\n",
    "    ax[1].axvline(x=.5, c='k')\n",
    "    ax[1].scatter(.5, i, c='k')\n",
    "    ax[1].set_ylim([num_iter, 0])\n",
    "    ax[1].yaxis.tick_right()\n",
    "    ax[1].tick_params(axis='x', which='both', bottom=False, top=False, labelbottom=False) \n",
    "    # ax[1].xticks([], [])\n",
    "    ax[1].spines[\"top\"].set_visible(False)\n",
    "    ax[1].spines[\"bottom\"].set_visible(False)\n",
    "    ax[1].spines[\"left\"].set_visible(False)\n",
    "    ax[1].spines[\"right\"].set_visible(False)\n",
    "    plt.subplots_adjust(wspace=.04, hspace=0)\n",
    "    plt.savefig(f'{path_img_dest}images before gifs/iter {i:5d}.jpeg',\n",
    "                bbox_inches = 'tight',pad_inches = 0)\n",
    "    plt.close(fig)\n",
    "    #return fig"
   ]
  },
  {
   "cell_type": "code",
   "execution_count": 7,
   "metadata": {},
   "outputs": [],
   "source": [
    "# # # # To create folders for new experiment version\n",
    "# os.chdir('dip results all 8')\n",
    "# for i in ['arrays', 'differences', 'gifs', 'images before gifs']:\n",
    "#     os.makedirs(i)\n",
    "# os.chdir('arrays')\n",
    "# for i in ['last', 'orig']:\n",
    "#     os.makedirs(i)\n",
    "# os.chdir('../..')"
   ]
  },
  {
   "cell_type": "code",
   "execution_count": 8,
   "metadata": {},
   "outputs": [],
   "source": [
    "nsh=np.shape"
   ]
  },
  {
   "cell_type": "code",
   "execution_count": 9,
   "metadata": {},
   "outputs": [],
   "source": [
    "def save_original(image_to_save, id_name, name_extension, error_final=-1):\n",
    "    name_extension = str(name_extension)\n",
    "    fig, ax = plt.subplots(1,2, gridspec_kw = {'width_ratios':[8, 1]}, figsize=(14,10))\n",
    "    ax[0].imshow(image_to_save, cmap='viridis')\n",
    "    ax[0].axis('off')\n",
    "    ax[1].axvline(x=.5, c='k')\n",
    "    ax[1].set_ylim([num_iter, 0])\n",
    "    ax[1].yaxis.tick_right()\n",
    "    ax[1].tick_params(axis='x', which='both', bottom=False, top=False, labelbottom=False) \n",
    "    ax[1].spines[\"top\"].set_visible(False)\n",
    "    ax[1].spines[\"bottom\"].set_visible(False)\n",
    "    ax[1].spines[\"left\"].set_visible(False)\n",
    "    ax[1].spines[\"right\"].set_visible(False)\n",
    "    plt.subplots_adjust(wspace=.04, hspace=0)\n",
    "    if error_final==-1: # for original\n",
    "        fig.savefig(f'{path_img_dest}gifs/dip {id_name} {name_extension}.jpeg',\n",
    "                    bbox_inches = 'tight',pad_inches = 0)\n",
    "    else:\n",
    "        fig.savefig(f'{path_img_dest}gifs/dip {id_name} {name_extension} {error_final:05d}.jpeg',\n",
    "                    bbox_inches = 'tight',pad_inches = 0)\n",
    "    plt.close(fig)"
   ]
  },
  {
   "cell_type": "code",
   "execution_count": 10,
   "metadata": {},
   "outputs": [],
   "source": [
    "def plot_3d(image, threshold=-300, alpha=.70, fig_size=10):\n",
    "    \n",
    "    # Position the scan upright, \n",
    "    # so the head of the patient would be at the top facing the camera\n",
    "    p = image.transpose(2,1,0)\n",
    "    \n",
    "    verts, faces, x,y = measure.marching_cubes(p, threshold)\n",
    "\n",
    "    fig = plt.figure(figsize=(fig_size, fig_size))\n",
    "    ax = fig.add_subplot(111, projection='3d')\n",
    "\n",
    "    # Fancy indexing: `verts[faces]` to generate a collection of triangles\n",
    "    mesh = Poly3DCollection(verts[faces], alpha=alpha)\n",
    "    face_color = [0.45, 0.45, 0.75]\n",
    "    mesh.set_facecolor(face_color)\n",
    "    ax.add_collection3d(mesh)\n",
    "\n",
    "    ax.set_xlim(0, p.shape[0])\n",
    "    ax.set_ylim(0, p.shape[1])\n",
    "    ax.set_zlim(0, p.shape[2])\n",
    "\n",
    "    plt.show()"
   ]
  },
  {
   "cell_type": "code",
   "execution_count": 11,
   "metadata": {},
   "outputs": [],
   "source": [
    "def read_slices(new_name):\n",
    "    \"\"\"Read slices of lung, mask outside lungs and nodule, mask nodule, mask outside\"\"\"\n",
    "    idname = new_name.split('_')[0]\n",
    "    file_lung = np.load(f'{path_data}lungs/{new_name}')\n",
    "    file_mask = np.load(f'{path_data}masks/{new_name}')\n",
    "    file_nodule = np.load(f'{path_data}nodule to focus on/{new_name}')\n",
    "    file_outside  = np.load(f'{path_data}outside lungs mask/{new_name}')\n",
    "    lungs_slice = file_lung.f.arr_0\n",
    "    mask_slice = file_mask.f.arr_0\n",
    "    nodule = file_nodule.f.arr_0\n",
    "    outside_lungs = file_outside.f.arr_0\n",
    "    return lungs_slice, mask_slice, nodule, outside_lungs"
   ]
  },
  {
   "cell_type": "code",
   "execution_count": 12,
   "metadata": {},
   "outputs": [],
   "source": [
    "def make3d_from_sparse(path):\n",
    "    slices_all = os.listdir(path)\n",
    "    slices_all = np.sort(slices_all)\n",
    "    for idx, i in enumerate(slices_all):\n",
    "        sparse_matrix = sparse.load_npz(f'{path}{i}')\n",
    "        array2d = np.asarray(sparse_matrix.todense())\n",
    "        if idx == 0: \n",
    "            scan3d = array2d\n",
    "            continue\n",
    "        scan3d = np.dstack([scan3d,array2d])\n",
    "    return scan3d"
   ]
  },
  {
   "cell_type": "code",
   "execution_count": 13,
   "metadata": {},
   "outputs": [],
   "source": [
    "def make_images_right_size3D(lungs_slice, mask_slice, mask_maxvol_and_lungs_small, outside_lungs):\n",
    "    \"\"\"Make the images the right size \n",
    "    The encoder-decoder has five blocks (the one initially evalluated), \n",
    "    therefore, each side has to be divisible by a factor of 32 (2^5)\"\"\"\n",
    "    print('formating shape')\n",
    "    factor = 32\n",
    "    pad_dim_0 = factor - np.shape(lungs_slice)[0] % factor\n",
    "    pad_dim_1 = factor - np.shape(lungs_slice)[1] % factor\n",
    "    pad_dim_2 = factor - np.shape(lungs_slice)[2] % factor\n",
    "\n",
    "    #mask_slice = 1 - mask_slice\n",
    "\n",
    "    lungs_slice = np.pad(lungs_slice, ((0,pad_dim_0), (0,pad_dim_1), (0, pad_dim_2)), mode='constant')\n",
    "    mask_slice = np.pad(mask_slice, ((0,pad_dim_0), (0,pad_dim_1), (0, pad_dim_2)), mode='constant')\n",
    "    mask_max =  np.pad(mask_maxvol_and_lungs_small, ((0,pad_dim_0), (0,pad_dim_1), (0, pad_dim_2)), mode='constant')\n",
    "    outside_lungs = np.pad(outside_lungs, ((0,pad_dim_0), (0,pad_dim_1), (0, pad_dim_2)), mode='constant', constant_values=0)\n",
    "\n",
    "    # Normalize\n",
    "    lungs_slice = (lungs_slice - np.min(lungs_slice))/(np.max(lungs_slice)-np.min(lungs_slice))\n",
    "    \n",
    "    # Add dimensions\n",
    "    lungs_slice = np.expand_dims(lungs_slice, 0)\n",
    "    mask_slice = np.expand_dims(mask_slice, 0)\n",
    "    outside_lungs = np.expand_dims(outside_lungs, 0)\n",
    "    mask_max = np.expand_dims(mask_max, 0)\n",
    "    \n",
    "\n",
    "    img_np = lungs_slice\n",
    "    img_mask_np = mask_max\n",
    "    return img_np, img_mask_np, outside_lungs"
   ]
  },
  {
   "cell_type": "code",
   "execution_count": 14,
   "metadata": {},
   "outputs": [],
   "source": [
    "def read_slices3D(idnumber):\n",
    "    ii_ids = f'LIDC-IDRI-{idnumber:04d}'\n",
    "    print(f'reading scan {ii_ids}')\n",
    "    vol = make3d_from_sparse(f'{path_data}{ii_ids}/scans/')\n",
    "    mask = make3d_from_sparse(f'{path_data}{ii_ids}/consensus_masks/')\n",
    "    mask_maxvol = make3d_from_sparse(f'{path_data}{ii_ids}/maxvol_masks/')\n",
    "    mask_lungs = make3d_from_sparse(f'{path_data}{ii_ids}/lung_masks/')  \n",
    "    # rearrange axes to slices first\n",
    "    vol = np.swapaxes(vol,1,2)\n",
    "    vol = np.swapaxes(vol,0,1)\n",
    "    mask = np.swapaxes(mask,1,2)\n",
    "    mask = np.swapaxes(mask,0,1)\n",
    "    mask_maxvol = np.swapaxes(mask_maxvol,1,2)\n",
    "    mask_maxvol = np.swapaxes(mask_maxvol,0,1)\n",
    "    mask_lungs = np.swapaxes(mask_lungs,1,2)\n",
    "    mask_lungs = np.swapaxes(mask_lungs,0,1)\n",
    "    # Find the minimum box that contain the lungs \n",
    "    min_box = np.where(vol!=0)\n",
    "    min_box_c = min_box[0]\n",
    "    min_box_x = min_box[1]\n",
    "    min_box_y = min_box[2]\n",
    "    # Apply the minimum box to the vol and masks\n",
    "    vol_small = vol[np.min(min_box_c):np.max(min_box_c),np.min(min_box_x):np.max(min_box_x),np.min(min_box_y):np.max(min_box_y)]\n",
    "    mask_small = mask[np.min(min_box_c):np.max(min_box_c),np.min(min_box_x):np.max(min_box_x),np.min(min_box_y):np.max(min_box_y)]\n",
    "    mask_maxvol_small = mask_maxvol[np.min(min_box_c):np.max(min_box_c),np.min(min_box_x):np.max(min_box_x),np.min(min_box_y):np.max(min_box_y)]\n",
    "    mask_lungs_small = mask_lungs[np.min(min_box_c):np.max(min_box_c),np.min(min_box_x):np.max(min_box_x),np.min(min_box_y):np.max(min_box_y)] \n",
    "    # Get the mask_maxvol_small and the mask_lungs_small together\n",
    "    mask_maxvol_and_lungs = mask_lungs_small - mask_maxvol_small\n",
    "    return vol_small, mask_maxvol_small, mask_maxvol_and_lungs, mask_lungs_small"
   ]
  },
  {
   "cell_type": "code",
   "execution_count": 15,
   "metadata": {},
   "outputs": [],
   "source": [
    "path_data = f'/data/OMM/Datasets/LIDC_other_formats/LIDC_preprocessed_3D v2/'\n",
    "ids = os.listdir(path_data)\n",
    "ids = np.sort(ids)"
   ]
  },
  {
   "cell_type": "code",
   "execution_count": 16,
   "metadata": {},
   "outputs": [
    {
     "name": "stdout",
     "output_type": "stream",
     "text": [
      "reading scan LIDC-IDRI-0012\n",
      "formating shape\n"
     ]
    }
   ],
   "source": [
    "vol_small, mask_maxvol_small, mask_maxvol_and_lungs_small, mask_lungs_small = read_slices3D(12)\n",
    "img_np, img_mask_np, outside_lungs = make_images_right_size3D(vol_small, mask_maxvol_small, mask_maxvol_and_lungs_small, mask_lungs_small)"
   ]
  },
  {
   "cell_type": "code",
   "execution_count": 17,
   "metadata": {},
   "outputs": [
    {
     "data": {
      "text/plain": [
       "((1, 320, 224, 288), (1, 320, 224, 288), (1, 320, 224, 288))"
      ]
     },
     "execution_count": 17,
     "metadata": {},
     "output_type": "execute_result"
    }
   ],
   "source": [
    "nsh(img_np), nsh(img_mask_np), nsh(outside_lungs)"
   ]
  },
  {
   "cell_type": "code",
   "execution_count": 18,
   "metadata": {},
   "outputs": [
    {
     "data": {
      "text/plain": [
       "<matplotlib.image.AxesImage at 0x7f4dc2fc85c0>"
      ]
     },
     "execution_count": 18,
     "metadata": {},
     "output_type": "execute_result"
    },
    {
     "data": {
      "image/png": "[encoded data removed]",
      "text/plain": [
       "<Figure size 1008x360 with 2 Axes>"
      ]
     },
     "metadata": {},
     "output_type": "display_data"
    }
   ],
   "source": [
    "one_slice = 160\n",
    "fig, ax = plt.subplots(1,2,figsize=(14,5))\n",
    "ax[0].imshow(vol_small[one_slice])\n",
    "ax[0].imshow(mask_maxvol_small[one_slice], alpha=.3)\n",
    "ax[1].imshow(mask_maxvol_small[one_slice])"
   ]
  },
  {
   "cell_type": "code",
   "execution_count": 19,
   "metadata": {},
   "outputs": [
    {
     "data": {
      "text/plain": [
       "<matplotlib.image.AxesImage at 0x7f4dc165bf28>"
      ]
     },
     "execution_count": 19,
     "metadata": {},
     "output_type": "execute_result"
    },
    {
     "data": {
      "image/png": "[encoded data removed]",
      "text/plain": [
       "<Figure size 1008x360 with 3 Axes>"
      ]
     },
     "metadata": {},
     "output_type": "display_data"
    }
   ],
   "source": [
    "fig, ax = plt.subplots(1,3,figsize=(14,5))\n",
    "ax[0].imshow(vol_small[one_slice])\n",
    "ax[1].imshow(mask_maxvol_small[one_slice])\n",
    "ax[2].imshow(mask_lungs_small[one_slice])"
   ]
  },
  {
   "cell_type": "code",
   "execution_count": 20,
   "metadata": {},
   "outputs": [
    {
     "data": {
      "text/plain": [
       "<matplotlib.image.AxesImage at 0x7f4dc155d7b8>"
      ]
     },
     "execution_count": 20,
     "metadata": {},
     "output_type": "execute_result"
    },
    {
     "data": {
      "image/png": "[encoded data removed]",
      "text/plain": [
       "<Figure size 1008x360 with 3 Axes>"
      ]
     },
     "metadata": {},
     "output_type": "display_data"
    }
   ],
   "source": [
    "fig, ax = plt.subplots(1,3,figsize=(14,5))\n",
    "ax[0].imshow(img_np[0][one_slice])\n",
    "ax[1].imshow(img_mask_np[0][one_slice])\n",
    "ax[2].imshow(outside_lungs[0][one_slice])"
   ]
  },
  {
   "cell_type": "code",
   "execution_count": 21,
   "metadata": {},
   "outputs": [],
   "source": [
    "red32 = 32*5\n",
    "_, s1, s2, s3 = nsh(img_np)\n",
    "img_np = img_np[:,:s1-red32, :s2-red32, :s3-red32]\n",
    "img_mask_np = img_mask_np[:,:s1-red32, :s2-red32, :s3-red32]\n",
    "outside_lungs = outside_lungs[:,:s1-red32, :s2-red32, :s3-red32]"
   ]
  },
  {
   "cell_type": "code",
   "execution_count": 22,
   "metadata": {},
   "outputs": [
    {
     "data": {
      "text/plain": [
       "((1, 160, 64, 128), (1, 160, 64, 128), (1, 160, 64, 128))"
      ]
     },
     "execution_count": 22,
     "metadata": {},
     "output_type": "execute_result"
    }
   ],
   "source": [
    "nsh(img_np), nsh(img_mask_np), nsh(outside_lungs)"
   ]
  },
  {
   "cell_type": "code",
   "execution_count": 23,
   "metadata": {},
   "outputs": [
    {
     "data": {
      "text/plain": [
       "<matplotlib.image.AxesImage at 0x7f4dc14d1438>"
      ]
     },
     "execution_count": 23,
     "metadata": {},
     "output_type": "execute_result"
    },
    {
     "data": {
      "image/png": "[encoded data removed]",
      "text/plain": [
       "<Figure size 1008x360 with 3 Axes>"
      ]
     },
     "metadata": {},
     "output_type": "display_data"
    }
   ],
   "source": [
    "fig, ax = plt.subplots(1,3,figsize=(14,5))\n",
    "ax[0].imshow(img_np[0][80])\n",
    "ax[1].imshow(img_mask_np[0][80])\n",
    "ax[2].imshow(outside_lungs[0][80])"
   ]
  },
  {
   "cell_type": "code",
   "execution_count": null,
   "metadata": {},
   "outputs": [],
   "source": []
  },
  {
   "cell_type": "code",
   "execution_count": null,
   "metadata": {},
   "outputs": [],
   "source": []
  },
  {
   "cell_type": "code",
   "execution_count": null,
   "metadata": {},
   "outputs": [],
   "source": []
  },
  {
   "cell_type": "code",
   "execution_count": 24,
   "metadata": {},
   "outputs": [],
   "source": [
    "def closure():\n",
    "    \n",
    "    global i\n",
    "    \n",
    "    images_all = []\n",
    "#     image_to_save= [] \n",
    "    \n",
    "    if param_noise:\n",
    "        for n in [x for x in net.parameters() if len(x.size()) == 4]:\n",
    "            n = n + n.detach().clone().normal_() * n.std() / 50\n",
    "    \n",
    "    net_input = net_input_saved\n",
    "    if reg_noise_std > 0:\n",
    "        net_input = net_input_saved + (noise.normal_() * reg_noise_std)\n",
    "        \n",
    "        \n",
    "    out = net(net_input)\n",
    "#     print(np.shape(out))\n",
    "    total_loss = mse(out * mask_var, img_var * mask_var)\n",
    "    total_loss.backward()\n",
    "        \n",
    "    print ('Iteration %05d    Loss %f' % (i, total_loss.item()), '\\r', end='')\n",
    "    #if  PLOT and i % show_every == 0:\n",
    "    if  PLOT:\n",
    "        out_np = torch_to_np(out)\n",
    "        if np.shape(out_np)[0] == 1:\n",
    "            image_to_save = out_np[0]\n",
    "        #plot_image_grid([np.clip(out_np, 0, 1)], factor=figsize, nrow=1) # DEL original fun\n",
    "        #plot_for_gif(image_to_save, num_iter, i) # DEL save images to make gif\n",
    "        images_all.append(image_to_save)\n",
    "        \n",
    "    i += 1\n",
    "    \n",
    "#     if  PLOT and i % show_every == 0: image_generated = image_to_save\n",
    "#     else: image_generated = []\n",
    "    \n",
    "    return total_loss, images_all"
   ]
  },
  {
   "cell_type": "code",
   "execution_count": null,
   "metadata": {},
   "outputs": [],
   "source": []
  },
  {
   "cell_type": "code",
   "execution_count": 25,
   "metadata": {},
   "outputs": [],
   "source": [
    "# path_data = f'/data/OMM/Datasets/LIDC_other_formats/LIDC slices inpainting/'\n",
    "path_img_dest = 'dip results all 8/'"
   ]
  },
  {
   "cell_type": "code",
   "execution_count": 26,
   "metadata": {},
   "outputs": [],
   "source": [
    "# NET_TYPE = 'skip_depth6' # one of skip_depth4|skip_depth2|UNET|ResNet\n",
    "pad = 'zero' # 'zero' OMM it was reflection\n",
    "OPT_OVER = 'net'\n",
    "OPTIMIZER = 'adam'\n",
    "INPUT = 'noise'\n",
    "input_depth = 1\n",
    "LR = 0.000001 \n",
    "num_iter = 10001\n",
    "param_noise = False\n",
    "show_every = 500\n",
    "figsize = 5\n",
    "reg_noise_std = 0.00"
   ]
  },
  {
   "cell_type": "code",
   "execution_count": 27,
   "metadata": {},
   "outputs": [],
   "source": [
    "LR = 1e-8\n",
    "LRs = []\n",
    "for i in range(1000):\n",
    "    LR *= 1.1\n",
    "    if LR >= 1: break\n",
    "    LRs.append(LR)"
   ]
  },
  {
   "cell_type": "code",
   "execution_count": 28,
   "metadata": {},
   "outputs": [
    {
     "name": "stdout",
     "output_type": "stream",
     "text": [
      "193\n"
     ]
    },
    {
     "data": {
      "text/plain": [
       "[<matplotlib.lines.Line2D at 0x7f4dc13e9da0>]"
      ]
     },
     "execution_count": 28,
     "metadata": {},
     "output_type": "execute_result"
    },
    {
     "data": {
      "image/png": "[encoded data removed]",
      "text/plain": [
       "<Figure size 432x288 with 1 Axes>"
      ]
     },
     "metadata": {},
     "output_type": "display_data"
    }
   ],
   "source": [
    "print(len(LRs))\n",
    "plt.plot(LRs)"
   ]
  },
  {
   "cell_type": "code",
   "execution_count": null,
   "metadata": {},
   "outputs": [],
   "source": []
  },
  {
   "cell_type": "code",
   "execution_count": null,
   "metadata": {
    "scrolled": true
   },
   "outputs": [
    {
     "data": {
      "application/vnd.jupyter.widget-view+json": {
       "model_id": "2ed72a47bf9b4acc856c4bae0ed319f9",
       "version_major": 2,
       "version_minor": 0
      },
      "text/plain": [
       "HBox(children=(IntProgress(value=0, max=1), HTML(value='')))"
      ]
     },
     "metadata": {},
     "output_type": "display_data"
    },
    {
     "name": "stdout",
     "output_type": "stream",
     "text": [
      "sample = 0\n",
      "reading scan LIDC-IDRI-0012\n",
      "formating shape\n",
      "Finding LR\n"
     ]
    },
    {
     "name": "stderr",
     "output_type": "stream",
     "text": [
      "/home/om18/anaconda3/envs/pytorch/lib/python3.6/site-packages/torch/nn/modules/upsampling.py:122: UserWarning: nn.Upsampling is deprecated. Use nn.functional.interpolate instead.\n",
      "  warnings.warn(\"nn.Upsampling is deprecated. Use nn.functional.interpolate instead.\")\n"
     ]
    },
    {
     "name": "stdout",
     "output_type": "stream",
     "text": [
      "training initialization 0 with LR = 0.00000\n",
      "Iteration 00532    Loss 0.000895 \r"
     ]
    }
   ],
   "source": [
    "LR = 1e-8\n",
    "files=[12]\n",
    "#for idx, new_name in tqdm_notebook(enumerate(files), total=len(files)):\n",
    "for idx, new_name in tqdm_notebook(enumerate(files), total=len(files)):\n",
    "    start = time.time()\n",
    "#     if idx<878: continue\n",
    "    print(f'sample = {idx}')\n",
    "#     idname=new_name[:-4]\n",
    "    \n",
    "    restart = True\n",
    "    restart_i = 0\n",
    "    \n",
    "    lungs_slice, mask_slice, nodule, outside_lungs = read_slices3D(new_name)\n",
    "    \n",
    "    img_np, img_mask_np, outside_lungs = make_images_right_size3D(lungs_slice, mask_slice, nodule, outside_lungs)\n",
    "    \n",
    "    red32 = 32*5\n",
    "    _, s1, s2, s3 = nsh(img_np)\n",
    "    img_np = img_np[:,:s1-red32, :s2-red32, :s3-red32]\n",
    "    img_mask_np = img_mask_np[:,:s1-red32, :s2-red32, :s3-red32]\n",
    "    outside_lungs = outside_lungs[:,:s1-red32, :s2-red32, :s3-red32]\n",
    "    \n",
    "    # Loss\n",
    "    mse = torch.nn.MSELoss().type(dtype)\n",
    "    \n",
    "    img_var = np_to_torch(img_np).type(dtype)\n",
    "    mask_var = np_to_torch(img_mask_np).type(dtype)\n",
    "    \n",
    "    # LR finder\n",
    "\n",
    "    net = skip(input_depth, img_np.shape[0], \n",
    "           num_channels_down = [128] * 5,\n",
    "           num_channels_up   = [128] * 5,\n",
    "           num_channels_skip = [0] * 5,\n",
    "           upsample_mode='nearest', filter_skip_size=1, filter_size_up=3, filter_size_down=3,\n",
    "           need_sigmoid=True, need_bias=True, pad=pad, act_fun='LeakyReLU').type(dtype)\n",
    "\n",
    "    net = net.type(dtype)\n",
    "    \n",
    "    net_input = get_noise(input_depth, INPUT, img_np.shape[1:]).type(dtype)\n",
    "    \n",
    "    \n",
    "    mse_error = []\n",
    "    start = time.time()\n",
    "    i = 0\n",
    "    \n",
    "    net_input_saved = net_input.detach().clone()\n",
    "    noise = net_input.detach().clone()\n",
    "\n",
    "    p = get_params(OPT_OVER, net, net_input)\n",
    "\n",
    "    mse_error, images_generated_all, best_iter = optimize3(OPTIMIZER, p, closure, LR, num_iter, show_every, path_img_dest, restart, annealing=False, lr_finder_flag=True)\n",
    "    mse_error_lr = [i.detach().cpu().numpy() for i in mse_error]\n",
    "    \n",
    "    del net\n",
    "    \n",
    "    # Find the longest sequence of slope < -1e-4\n",
    "    loss_going_down = np.where(np.diff(mse_error) < -1e-4)\n",
    "    loss_going_down = list(loss_going_down[0] + 1) \n",
    "    c = count()\n",
    "    val = max((list(g) for _, g in groupby(loss_going_down, lambda x: x-next(c))), key=len)\n",
    "    val = list(val)\n",
    "    LR = LRs[val[-3]] # this is the new LR\n",
    "    \n",
    "    # Training\n",
    "    while restart == True:\n",
    "        \n",
    "        print(f'training initialization {restart_i} with LR = {LR:.5f}')\n",
    "        restart_i += 1\n",
    "        \n",
    "        #lungs_slice, mask_slice, nodule, outside_lungs = read_slices(new_name)\n",
    "        #img_np, img_mask_np, outside_lungs = make_images_right_size(lungs_slice, mask_slice, nodule, outside_lungs)\n",
    "\n",
    "        # Loss\n",
    "        mse = torch.nn.MSELoss().type(dtype)\n",
    "        img_var = np_to_torch(img_np).type(dtype)\n",
    "        mask_var = np_to_torch(img_mask_np).type(dtype)\n",
    "\n",
    "        net = skip(input_depth, img_np.shape[0], num_channels_down = [128] * 5,\n",
    "                   num_channels_up   = [128] * 5, num_channels_skip = [0] * 5, \n",
    "                   upsample_mode='nearest', filter_skip_size=1, filter_size_up=3, \n",
    "                   filter_size_down=3, need_sigmoid=True, need_bias=True, pad=pad, \n",
    "                   act_fun='LeakyReLU').type(dtype)\n",
    "        net = net.type(dtype)        \n",
    "        net_input = get_noise(input_depth, INPUT, img_np.shape[1:]).type(dtype)\n",
    "        \n",
    "        path_trained_model = f'{path_img_dest}models/v6_Unet_init_sample_{idx}.pt'\n",
    "        #torch.save(net.state_dict(), path_trained_model)\n",
    "\n",
    "        mse_error = []\n",
    "        start = time.time()\n",
    "        i = 0\n",
    "        net_input_saved = net_input.detach().clone()\n",
    "        noise = net_input.detach().clone()\n",
    "        p = get_params(OPT_OVER, net, net_input)\n",
    "        mse_error, images_generated_all, best_iter, restart = optimize4(OPTIMIZER, p, closure, LR, num_iter, show_every, path_img_dest, restart, annealing=True, lr_finder_flag=False)\n",
    "    \n",
    "#     factor = 1e11\n",
    "#     mse_error_last = mse_error[-1].detach().cpu().numpy()\n",
    "#     error_final = int((mse_error_last * factor) / np.sum(img_mask_np[0]))\n",
    "\n",
    "        if restart_i % 10 == 0: # reduce lr if the network is not learning with the initializations\n",
    "            LR /= 1.1\n",
    "        if restart_i == 30: # if the network cannot be trained continue (might not act on for loop!!)\n",
    "            continue\n",
    "    del net      \n",
    "    #save_original(img_np[0],idname, 'orig')\n",
    "    image_last = images_generated_all[-1][0] * (1-outside_lungs[0])\n",
    "    image_orig = img_np[0] * (1-outside_lungs[0])\n",
    "    best_iter = f'{best_iter:4d}'\n",
    "    #save_original(image_last,idname, best_iter)\n",
    "    \n",
    "    np.save(f'{path_img_dest}arrays/last/last {idname}',image_last)\n",
    "    np.save(f'{path_img_dest}arrays/orig/orig {idname}',img_np[0])\n",
    "    stop = time.time()\n",
    "    print(f'{start-stop:.3f} s')\n",
    "    print('')"
   ]
  },
  {
   "cell_type": "code",
   "execution_count": null,
   "metadata": {},
   "outputs": [],
   "source": [
    "plt.plot(mse_error_lr)"
   ]
  },
  {
   "cell_type": "code",
   "execution_count": null,
   "metadata": {},
   "outputs": [],
   "source": [
    "mse_error_7 = mse_error\n",
    "plt.semilogy(mse_error_1, label='1')\n",
    "plt.semilogy(mse_error_2, label='2')\n",
    "plt.semilogy(mse_error_3, label='3')\n",
    "plt.semilogy(mse_error_4, label='4')\n",
    "plt.semilogy(mse_error_5, label='5')\n",
    "plt.semilogy(mse_error_6, label='6')\n",
    "plt.semilogy(mse_error_7, label='7')\n",
    "plt.ylim([1e-6, 1e-1])\n",
    "plt.legend()"
   ]
  },
  {
   "cell_type": "code",
   "execution_count": null,
   "metadata": {},
   "outputs": [],
   "source": [
    "mse_error_3 = mse_error\n",
    "plt.semilogy(mse_error_1)\n",
    "plt.semilogy(mse_error_2)\n",
    "plt.semilogy(mse_error_3)\n",
    "plt.ylim([1e-6, 1e-1])"
   ]
  },
  {
   "cell_type": "code",
   "execution_count": null,
   "metadata": {},
   "outputs": [],
   "source": [
    "mse_error_np = [float(i.detach().cpu().numpy()) for i in mse_error]"
   ]
  },
  {
   "cell_type": "code",
   "execution_count": null,
   "metadata": {},
   "outputs": [],
   "source": [
    "plt.figure(figsize=(14,10))\n",
    "plt.imshow(images_generated_all[-1][0])"
   ]
  },
  {
   "cell_type": "code",
   "execution_count": null,
   "metadata": {},
   "outputs": [],
   "source": []
  },
  {
   "cell_type": "code",
   "execution_count": null,
   "metadata": {},
   "outputs": [],
   "source": []
  },
  {
   "cell_type": "code",
   "execution_count": null,
   "metadata": {},
   "outputs": [],
   "source": [
    "mse_error_1 = mse_error_np\n",
    "plt.semilogy(mse_error_1)\n",
    "plt.ylim([1e-5, 1e-1])"
   ]
  },
  {
   "cell_type": "code",
   "execution_count": null,
   "metadata": {},
   "outputs": [],
   "source": [
    "# mse_3_2 = mse_error\n",
    "plt.semilogy(mse_3_2)\n",
    "plt.semilogy(mse_3, alpha=.3)"
   ]
  },
  {
   "cell_type": "code",
   "execution_count": null,
   "metadata": {},
   "outputs": [],
   "source": []
  },
  {
   "cell_type": "code",
   "execution_count": null,
   "metadata": {},
   "outputs": [],
   "source": [
    "# using LR = LRs[val[-3]]\n",
    "# 0.00058, 0.00004\n",
    "# using LR = LRs[val[-2]]\n",
    "# 0.00071, 0.00002"
   ]
  },
  {
   "cell_type": "code",
   "execution_count": null,
   "metadata": {},
   "outputs": [],
   "source": [
    "print(f'{LR:.5f}, {mse_error[-1].detach().cpu().numpy():.5f}')"
   ]
  },
  {
   "cell_type": "code",
   "execution_count": null,
   "metadata": {},
   "outputs": [],
   "source": [
    "print(len(LRs))\n",
    "plt.semilogx(LRs, mse_error)"
   ]
  },
  {
   "cell_type": "code",
   "execution_count": null,
   "metadata": {},
   "outputs": [],
   "source": [
    "loss_going_down = np.where(np.diff(mse_error) < -1e-4)\n",
    "loss_going_down = list(loss_going_down[0] + 1) \n",
    "print(loss_going_down)\n",
    "c = count()\n",
    "val = max((list(g) for _, g in groupby(loss_going_down, lambda x: x-next(c))), key=len)\n",
    "val = list(val)\n",
    "print('')\n",
    "print(val)"
   ]
  },
  {
   "cell_type": "code",
   "execution_count": null,
   "metadata": {},
   "outputs": [],
   "source": [
    "mse_error_np = [float(i.detach().cpu().numpy()) for i in mse_error]"
   ]
  },
  {
   "cell_type": "code",
   "execution_count": null,
   "metadata": {},
   "outputs": [],
   "source": [
    "offset = 0\n",
    "plt.semilogx(LRs, mse_error_np)\n",
    "plt.semilogx(LRs[val[0] + offset:val[-1] + offset], \n",
    "             mse_error_np[val[0] + offset:val[-1] + offset],'r')\n",
    "plt.scatter(LRs[val[-2]],mse_error_np[val[-2]], facecolor = 'r')"
   ]
  },
  {
   "cell_type": "code",
   "execution_count": null,
   "metadata": {},
   "outputs": [],
   "source": [
    "print(len(LRs))\n",
    "print(len(np.diff(mse_error)))"
   ]
  },
  {
   "cell_type": "code",
   "execution_count": null,
   "metadata": {},
   "outputs": [],
   "source": [
    "mse_error_np = [float(i.detach().cpu().numpy()) for i in mse_error]"
   ]
  },
  {
   "cell_type": "code",
   "execution_count": null,
   "metadata": {},
   "outputs": [],
   "source": []
  },
  {
   "cell_type": "code",
   "execution_count": null,
   "metadata": {},
   "outputs": [],
   "source": [
    "offset = 0\n",
    "loss_median = len(val)//2 \n",
    "plt.semilogx(LRs, mse_error)\n",
    "plt.semilogx(LRs[val[0] + offset:val[-1] + offset], \n",
    "             mse_error[val[0] + offset:val[-1] + offset], 'r')\n",
    "# plt.scatter(LRs[val[loss_median]], mse_error_np[val[loss_median]])\n",
    "plt.scatter(LRs[val[-2]], mse_error_np[val[-2]])\n",
    "plt.xlim([LRs[30], LRs[130]])\n",
    "LR_new = LRs[val[-2]]\n",
    "print(LR_new)"
   ]
  },
  {
   "cell_type": "code",
   "execution_count": null,
   "metadata": {},
   "outputs": [],
   "source": [
    "0.0007778796406007117 * 1.1"
   ]
  },
  {
   "cell_type": "code",
   "execution_count": null,
   "metadata": {},
   "outputs": [],
   "source": [
    "plt.semilogx(LRs[90:100], mse_error[90:100])"
   ]
  },
  {
   "cell_type": "code",
   "execution_count": null,
   "metadata": {},
   "outputs": [],
   "source": [
    "np.shape(outside_lungs[0])"
   ]
  },
  {
   "cell_type": "code",
   "execution_count": null,
   "metadata": {},
   "outputs": [],
   "source": [
    "np.shape(images_generated_all)"
   ]
  },
  {
   "cell_type": "code",
   "execution_count": null,
   "metadata": {},
   "outputs": [],
   "source": [
    "mse_errors = [i.detach().cpu().numpy() for i in mse_error]\n",
    "plt.plot(mse_errors[50:])"
   ]
  },
  {
   "cell_type": "code",
   "execution_count": null,
   "metadata": {},
   "outputs": [],
   "source": [
    "idname=new_name[:-4]\n",
    "name_extension = best_iter\n",
    "f'{path_img_dest}gifs/dip {idname} {name_extension:4d}.jpeg'"
   ]
  },
  {
   "cell_type": "code",
   "execution_count": null,
   "metadata": {},
   "outputs": [],
   "source": [
    "plt.imshow(1-img_mask_np[0][60:80,20:60])"
   ]
  },
  {
   "cell_type": "code",
   "execution_count": null,
   "metadata": {},
   "outputs": [],
   "source": [
    "idx"
   ]
  },
  {
   "cell_type": "code",
   "execution_count": null,
   "metadata": {},
   "outputs": [],
   "source": [
    "LR = .001\n",
    "for i in range(200):\n",
    "    LR = LR * (0.1**(i//10))\n",
    "    print(LR)"
   ]
  },
  {
   "cell_type": "code",
   "execution_count": null,
   "metadata": {},
   "outputs": [],
   "source": [
    "plt.imshow(images_generated_all[-1][0] * (1-outside_lungs[0]))"
   ]
  },
  {
   "cell_type": "code",
   "execution_count": null,
   "metadata": {},
   "outputs": [],
   "source": [
    "plt.imshow(images_generated_all[-1][0])"
   ]
  },
  {
   "cell_type": "code",
   "execution_count": null,
   "metadata": {},
   "outputs": [],
   "source": [
    "plt.plot(mse_error[1000:])"
   ]
  },
  {
   "cell_type": "code",
   "execution_count": null,
   "metadata": {},
   "outputs": [],
   "source": []
  },
  {
   "cell_type": "code",
   "execution_count": null,
   "metadata": {},
   "outputs": [],
   "source": [
    "# mse4=mse_error"
   ]
  },
  {
   "cell_type": "code",
   "execution_count": null,
   "metadata": {},
   "outputs": [],
   "source": [
    "plt.plot(mse3[3000:])\n",
    "plt.plot(mse4[3000:],'k')\n",
    "plt.plot(mse_error[3000:], 'r')"
   ]
  },
  {
   "cell_type": "code",
   "execution_count": null,
   "metadata": {},
   "outputs": [],
   "source": []
  },
  {
   "cell_type": "markdown",
   "metadata": {},
   "source": [
    "# Get results"
   ]
  },
  {
   "cell_type": "code",
   "execution_count": null,
   "metadata": {},
   "outputs": [],
   "source": [
    "lng_orig = np.load(f'{path_img_dest}arrays/orig/orig {idname}.npy')\n",
    "lng_last = np.load(f'{path_img_dest}arrays/last/last {idname}.npy')\n",
    "\n",
    "msk_out_lng = np.load(f'{path_data}outside lungs mask/{idname}.npz')\n",
    "msk_out_lng = msk_out_lng.f.arr_0\n",
    "factor = 32\n",
    "pad_dim_0 = factor - nsh(msk_out_lng)[0] % factor\n",
    "pad_dim_1 = factor - nsh(msk_out_lng)[1] % factor\n",
    "msk_out_lng = np.pad(msk_out_lng, ((0,pad_dim_0), (0,0)), mode='constant', constant_values=1)\n",
    "msk_out_lng = np.pad(msk_out_lng, ((0,0), (0,pad_dim_1)), mode='constant', constant_values=1)"
   ]
  },
  {
   "cell_type": "code",
   "execution_count": null,
   "metadata": {},
   "outputs": [],
   "source": [
    "fig, ax = plt.subplots(1,3,figsize=(10,6))\n",
    "ax[0].imshow(a * (1-msk_out_lng))\n",
    "ax[1].imshow(b)\n",
    "ax[2].imshow(b - a * (1-msk_out_lng))"
   ]
  },
  {
   "cell_type": "code",
   "execution_count": null,
   "metadata": {},
   "outputs": [],
   "source": [
    "plt.imshow(msk_out_lng)"
   ]
  },
  {
   "cell_type": "code",
   "execution_count": null,
   "metadata": {},
   "outputs": [],
   "source": []
  },
  {
   "cell_type": "code",
   "execution_count": null,
   "metadata": {},
   "outputs": [],
   "source": []
  },
  {
   "cell_type": "code",
   "execution_count": null,
   "metadata": {},
   "outputs": [],
   "source": [
    "# Remove all images\n",
    "images_all = os.listdir(f'{path_img_dest}images before gifs/')\n",
    "images_all = np.sort(images_all)\n",
    "_ =[os.remove(f'{path_img_dest}images before gifs/{i}') for i in images_all]"
   ]
  },
  {
   "cell_type": "code",
   "execution_count": null,
   "metadata": {},
   "outputs": [],
   "source": []
  },
  {
   "cell_type": "code",
   "execution_count": null,
   "metadata": {},
   "outputs": [],
   "source": [
    "plt.imshow(images_generated_all[0][0])"
   ]
  },
  {
   "cell_type": "code",
   "execution_count": null,
   "metadata": {},
   "outputs": [],
   "source": []
  },
  {
   "cell_type": "code",
   "execution_count": null,
   "metadata": {},
   "outputs": [],
   "source": []
  },
  {
   "cell_type": "code",
   "execution_count": null,
   "metadata": {},
   "outputs": [],
   "source": []
  },
  {
   "cell_type": "code",
   "execution_count": null,
   "metadata": {},
   "outputs": [],
   "source": []
  },
  {
   "cell_type": "code",
   "execution_count": null,
   "metadata": {},
   "outputs": [],
   "source": []
  },
  {
   "cell_type": "code",
   "execution_count": null,
   "metadata": {},
   "outputs": [],
   "source": [
    "LR = 1e-7\n",
    "for idx, new_name in tqdm_notebook(enumerate(files), total=len(files)):\n",
    "#     LR *= 1.1\n",
    "#     if LR >= 1: break\n",
    "    if idx==1: break\n",
    "    print(idx)\n",
    "    idname=new_name[:-4]\n",
    "\n",
    "    lungs_slice, mask_slice, nodule, outside_lungs = read_slices(new_name)\n",
    "    img_np, img_mask_np, outside_lungs = make_images_right_size(lungs_slice, mask_slice, nodule, outside_lungs)\n",
    "    \n",
    "#     net = skip(input_depth, img_np.shape[0], \n",
    "#            num_channels_down = [128] * 5,\n",
    "#            num_channels_up   = [128] * 5,\n",
    "#            num_channels_skip = [0] * 5,  \n",
    "#            upsample_mode='nearest', filter_skip_size=1, filter_size_up=3, filter_size_down=3,\n",
    "#            need_sigmoid=True, need_bias=True, pad=pad, act_fun='LeakyReLU').type(dtype)\n",
    "\n",
    "    # Loss\n",
    "    mse = torch.nn.MSELoss().type(dtype)\n",
    "\n",
    "    img_var = np_to_torch(img_np).type(dtype)\n",
    "    mask_var = np_to_torch(img_mask_np).type(dtype)\n",
    "\n",
    "    # LR finder\n",
    "    \n",
    "    net = UNet(num_input_channels=input_depth, num_output_channels=1, \n",
    "                   feature_scale=8, more_layers=1, \n",
    "                   concat_x=True, upsample_mode='deconv', \n",
    "                   pad='zero', norm_layer=torch.nn.InstanceNorm2d, need_sigmoid=True, need_bias=True)\n",
    "        \n",
    "    net = net.type(dtype)\n",
    "    net_input = get_noise(input_depth, INPUT, img_np.shape[1:]).type(dtype)\n",
    "    \n",
    "    mse_error = []\n",
    "    start = time.time()\n",
    "    i = 0\n",
    "    \n",
    "    net_input_saved = net_input.detach().clone()\n",
    "    noise = net_input.detach().clone()\n",
    "\n",
    "    p = get_params(OPT_OVER, net, net_input)\n",
    "\n",
    "    mse_error, images_generated_all, best_iter = optimize2(OPTIMIZER, p, closure, LR, num_iter, show_every, path_img_dest, annealing=False, lr_finder_flag=True)\n",
    "    \n",
    "    # Find the longest sequence of slope < -1e-4\n",
    "    loss_going_down = np.where(np.diff(mse_error) < -1e-4)\n",
    "    loss_going_down = list(loss_going_down[0] + 1) \n",
    "    c = count()\n",
    "    val = max((list(g) for _, g in groupby(loss_going_down, lambda x: x-next(c))), key=len)\n",
    "    val = list(val)\n",
    "    LR = LRs[val[-3]] # this is the new LR\n",
    "    \n",
    "    # Training\n",
    "    print(f'training with LR = {LR:0.5f}\\n')\n",
    "    \n",
    "    lungs_slice, mask_slice, nodule, outside_lungs = read_slices(new_name)\n",
    "    img_np, img_mask_np, outside_lungs = make_images_right_size(lungs_slice, mask_slice, nodule, outside_lungs)\n",
    "    \n",
    "    # Loss\n",
    "    mse = torch.nn.MSELoss().type(dtype)\n",
    "    img_var = np_to_torch(img_np).type(dtype)\n",
    "    mask_var = np_to_torch(img_mask_np).type(dtype)\n",
    "    \n",
    "    net = UNet(num_input_channels=input_depth, num_output_channels=1, \n",
    "                   feature_scale=8, more_layers=1, \n",
    "                   concat_x=True, upsample_mode='deconv', \n",
    "                   pad='zero', norm_layer=torch.nn.InstanceNorm2d, need_sigmoid=True, need_bias=True)\n",
    "    net = net.type(dtype)\n",
    "    net_input = get_noise(input_depth, INPUT, img_np.shape[1:]).type(dtype)\n",
    "    mse_error = []\n",
    "    start = time.time()\n",
    "    i = 0\n",
    "    net_input_saved = net_input.detach().clone()\n",
    "    noise = net_input.detach().clone()\n",
    "    p = get_params(OPT_OVER, net, net_input)\n",
    "    mse_error, images_generated_all, best_iter = optimize2(OPTIMIZER, p, closure, LR, num_iter, show_every, path_img_dest, annealing=False, lr_finder_flag=False)\n",
    "    \n",
    "#     factor = 1e11\n",
    "#     mse_error_last = mse_error[-1].detach().cpu().numpy()\n",
    "#     error_final = int((mse_error_last * factor) / np.sum(img_mask_np[0]))\n",
    "    \n",
    "    save_original(img_np[0],idname, 'orig')\n",
    "    image_last = images_generated_all[-1][0] * (1-outside_lungs[0])\n",
    "    image_orig = img_np[0] * (1-outside_lungs[0])\n",
    "    best_iter = f'{best_iter:4d}'\n",
    "    save_original(image_last,idname, best_iter)\n",
    "    \n",
    "    np.save(f'{path_img_dest}arrays/last/last {idname}',image_last)\n",
    "    np.save(f'{path_img_dest}arrays/orig/orig {idname}',img_np[0])"
   ]
  },
  {
   "cell_type": "code",
   "execution_count": null,
   "metadata": {},
   "outputs": [],
   "source": []
  },
  {
   "cell_type": "code",
   "execution_count": null,
   "metadata": {},
   "outputs": [],
   "source": []
  },
  {
   "cell_type": "code",
   "execution_count": null,
   "metadata": {},
   "outputs": [],
   "source": []
  },
  {
   "cell_type": "code",
   "execution_count": null,
   "metadata": {},
   "outputs": [],
   "source": []
  },
  {
   "cell_type": "code",
   "execution_count": null,
   "metadata": {},
   "outputs": [],
   "source": []
  },
  {
   "cell_type": "code",
   "execution_count": null,
   "metadata": {},
   "outputs": [],
   "source": []
  },
  {
   "cell_type": "code",
   "execution_count": null,
   "metadata": {},
   "outputs": [],
   "source": []
  },
  {
   "cell_type": "code",
   "execution_count": null,
   "metadata": {},
   "outputs": [],
   "source": []
  }
 ],
 "metadata": {
  "kernelspec": {
   "display_name": "Python 3",
   "language": "python",
   "name": "python3"
  },
  "language_info": {
   "codemirror_mode": {
    "name": "ipython",
    "version": 3
   },
   "file_extension": ".py",
   "mimetype": "text/x-python",
   "name": "python",
   "nbconvert_exporter": "python",
   "pygments_lexer": "ipython3",
   "version": "3.6.8"
  },
  "varInspector": {
   "cols": {
    "lenName": 16,
    "lenType": 16,
    "lenVar": 40
   },
   "kernels_config": {
    "python": {
     "delete_cmd_postfix": "",
     "delete_cmd_prefix": "del ",
     "library": "var_list.py",
     "varRefreshCmd": "print(var_dic_list())"
    },
    "r": {
     "delete_cmd_postfix": ") ",
     "delete_cmd_prefix": "rm(",
     "library": "var_list.r",
     "varRefreshCmd": "cat(var_dic_list()) "
    }
   },
   "position": {
    "height": "267.5px",
    "left": "813.988px",
    "right": "20px",
    "top": "118.988px",
    "width": "350px"
   },
   "types_to_exclude": [
    "module",
    "function",
    "builtin_function_or_method",
    "instance",
    "_Feature"
   ],
   "window_display": false
  }
 },
 "nbformat": 4,
 "nbformat_minor": 2
}
