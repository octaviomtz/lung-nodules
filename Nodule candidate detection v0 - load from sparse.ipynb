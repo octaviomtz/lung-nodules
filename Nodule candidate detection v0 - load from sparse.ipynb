{
 "cells": [
  {
   "cell_type": "markdown",
   "metadata": {},
   "source": [
    "# Overview"
   ]
  },
  {
   "cell_type": "markdown",
   "metadata": {},
   "source": [
    "## Nodule candidate detection \n",
    "According to *Cheng et al* **Deep Convolution Neural Networks for Pulmonary Nodule Detection in CT imaging**   \n",
    "Prerequisites   \n",
    "\n",
    "The notebook **dicom full-preprocessing (misc1) - all patients.ipynb** preprocess the LIDC dataset into 3D volumes   \n",
    "The notebook **build volume reconstructions from dicom full-preprocessing.ipynb** process the 3D volumes and creates 80x80x80 cubes and masks \n",
    "\n",
    "1. V0 Loading the cubes from a sparse representation\n"
   ]
  },
  {
   "cell_type": "markdown",
   "metadata": {},
   "source": [
    "## Points to check"
   ]
  },
  {
   "cell_type": "markdown",
   "metadata": {},
   "source": [
    "<div class=new>\n",
    "    \n",
    "- Check that the skip connections are in the correct layer   \n",
    "    \n",
    "- The diagram has 4 blocks going down that reduces the input (80 /(2^4)=5). If we want to concatenate the skip3 with the first block going up we have to upsample times 4   \n",
    "\n",
    "- Maybe Add Gaussian filter and random cropping\n",
    "<div>"
   ]
  },
  {
   "cell_type": "code",
   "execution_count": null,
   "metadata": {},
   "outputs": [],
   "source": []
  },
  {
   "cell_type": "code",
   "execution_count": null,
   "metadata": {},
   "outputs": [],
   "source": []
  },
  {
   "cell_type": "markdown",
   "metadata": {},
   "source": [
    "# Imports"
   ]
  },
  {
   "cell_type": "code",
   "execution_count": 67,
   "metadata": {},
   "outputs": [],
   "source": [
    "import numpy as np\n",
    "import pandas as pd\n",
    "from tqdm import tqdm_notebook as tqdm\n",
    "import matplotlib.pyplot as plt\n",
    "import os\n",
    "import sys\n",
    "import time\n",
    "from scipy.stats import mode\n",
    "from scipy.stats import entropy\n",
    "import pickle\n",
    "import matplotlib.patches as mpatches\n",
    "%matplotlib inline"
   ]
  },
  {
   "cell_type": "code",
   "execution_count": 2,
   "metadata": {},
   "outputs": [
    {
     "data": {
      "text/plain": [
       "<torch._C.Generator at 0x7f4616a29db0>"
      ]
     },
     "execution_count": 2,
     "metadata": {},
     "output_type": "execute_result"
    }
   ],
   "source": [
    "import itertools\n",
    "from sklearn.model_selection import train_test_split\n",
    "from sklearn.metrics import confusion_matrix\n",
    "from sklearn.metrics import accuracy_score\n",
    "import torch.nn as nn\n",
    "import torch.nn.functional as F\n",
    "from torch.utils.data import TensorDataset\n",
    "from torch.utils.data import Dataset, DataLoader\n",
    "from torch import Tensor\n",
    "# from torchvision import transforms \n",
    "import torch\n",
    "from torch.autograd import Variable\n",
    "from torch import optim\n",
    "# from torchvision import models\n",
    "from torch import utils\n",
    "from torchsummary import summary\n",
    "torch.manual_seed(1)"
   ]
  },
  {
   "cell_type": "code",
   "execution_count": 3,
   "metadata": {},
   "outputs": [],
   "source": [
    "# from torchsample.samplers import StratifiedSampler\n",
    "from torch.utils.data import Sampler, WeightedRandomSampler"
   ]
  },
  {
   "cell_type": "code",
   "execution_count": 4,
   "metadata": {},
   "outputs": [],
   "source": [
    "from sklearn.model_selection import train_test_split\n",
    "from skimage import measure, morphology\n",
    "from mpl_toolkits.mplot3d.art3d import Poly3DCollection"
   ]
  },
  {
   "cell_type": "code",
   "execution_count": 5,
   "metadata": {},
   "outputs": [
    {
     "data": {
      "text/html": [
       "<style>\n",
       "div.warn {    \n",
       "    background-color: #fcf2f2;\n",
       "    border-color: #dFb5b4;\n",
       "    border-left: 5px solid #dfb5b4;\n",
       "    padding: 0.5em;\n",
       "    }\n",
       "\n",
       "div.new {    \n",
       "    background-color: #b8dbd3;\n",
       "    border-color: #68c4af;\n",
       "    border-left: 5px solid #68c4af;\n",
       "    padding: 0.5em;\n",
       "    }\n",
       " </style>"
      ],
      "text/plain": [
       "<IPython.core.display.HTML object>"
      ]
     },
     "execution_count": 5,
     "metadata": {},
     "output_type": "execute_result"
    }
   ],
   "source": [
    "from IPython.core.display import HTML\n",
    "def css_styling():\n",
    "    styles = open(\"../css_styles/jupyter_css_styles_1.css\", \"r\").read()\n",
    "    return HTML(styles)\n",
    "css_styling()"
   ]
  },
  {
   "cell_type": "markdown",
   "metadata": {},
   "source": [
    "# Functions"
   ]
  },
  {
   "cell_type": "code",
   "execution_count": 6,
   "metadata": {},
   "outputs": [],
   "source": [
    "def plot_3d(image, threshold=-300, alpha=.70, fig_size=10):\n",
    "    \n",
    "    # Position the scan upright, \n",
    "    # so the head of the patient would be at the top facing the camera\n",
    "    p = image.transpose(2,1,0)\n",
    "    \n",
    "    verts, faces, x,y = measure.marching_cubes(p, threshold)\n",
    "\n",
    "    fig = plt.figure(figsize=(fig_size, fig_size))\n",
    "    ax = fig.add_subplot(111, projection='3d')\n",
    "\n",
    "    # Fancy indexing: `verts[faces]` to generate a collection of triangles\n",
    "    mesh = Poly3DCollection(verts[faces], alpha=alpha)\n",
    "    face_color = [0.45, 0.45, 0.75]\n",
    "    mesh.set_facecolor(face_color)\n",
    "    ax.add_collection3d(mesh)\n",
    "\n",
    "    ax.set_xlim(0, p.shape[0])\n",
    "    ax.set_ylim(0, p.shape[1])\n",
    "    ax.set_zlim(0, p.shape[2])\n",
    "\n",
    "    plt.show()"
   ]
  },
  {
   "cell_type": "markdown",
   "metadata": {},
   "source": [
    "# Data loading"
   ]
  },
  {
   "cell_type": "code",
   "execution_count": 7,
   "metadata": {},
   "outputs": [],
   "source": [
    "path_source=f'/media/om18/TOSHIBA EXT/KCL/Data/LIDC 3D reconstruction 80px v2/'\n",
    "GPU=0"
   ]
  },
  {
   "cell_type": "code",
   "execution_count": 8,
   "metadata": {},
   "outputs": [
    {
     "data": {
      "text/plain": [
       "27888"
      ]
     },
     "execution_count": 8,
     "metadata": {},
     "output_type": "execute_result"
    }
   ],
   "source": [
    "files = os.listdir(f'{path_source}lungs')\n",
    "files = np.sort(files)\n",
    "len(files)"
   ]
  },
  {
   "cell_type": "code",
   "execution_count": 9,
   "metadata": {},
   "outputs": [],
   "source": [
    "fold = 1\n",
    "batchsize = 8\n",
    "files_train, files_test = train_test_split(files, test_size=0.2, random_state=fold)"
   ]
  },
  {
   "cell_type": "code",
   "execution_count": 10,
   "metadata": {},
   "outputs": [],
   "source": [
    "# FOR DEBUGGING !!! DELETE !!!\n",
    "#files_train = files_train[:500]\n",
    "#files_test = files_test[:200]"
   ]
  },
  {
   "cell_type": "code",
   "execution_count": 11,
   "metadata": {},
   "outputs": [],
   "source": [
    "MIN_BOUND = -1000.0\n",
    "MAX_BOUND = 400.0\n",
    "PIXEL_MEAN = 0.25\n",
    "class LIDCDataset(Dataset):\n",
    "    def __init__(self, files_train, transform = False):\n",
    "        self.X = [f'{path_source}lungs/{i}' for i in files_train]\n",
    "        self.y = [f'{path_source}masks/{i}' for i in files_train]\n",
    "        self.transform = transform\n",
    "        \n",
    "    def __len__(self):\n",
    "        return len(self.X)\n",
    "    \n",
    "    def rotate_axis(self, img, mask, axes):\n",
    "        \"\"\"Rotate around the three axes maximum three times per axis\"\"\"\n",
    "        num_rot = np.random.randint(1,4)\n",
    "        img = np.rot90(img, num_rot, axes)\n",
    "        mask = np.rot90(mask, num_rot, axes)\n",
    "        return img, mask\n",
    "\n",
    "    def __getitem__(self, idx):\n",
    "        \n",
    "        img = np.load(self.X[idx])\n",
    "        mask = np.load(self.y[idx])\n",
    "        \n",
    "        img = img.f.arr_0\n",
    "        mask = mask.f.arr_0\n",
    "        \n",
    "        # img = img.items()[0][1] # this was working on pytorch0.4 (?)\n",
    "        # mask = mask.items()[0][1] # this was working on pytorch0.4 (?)\n",
    "        \n",
    "        if self.transform:\n",
    "            if np.random.rand() > 0.5:\n",
    "                img, mask = self.rotate_axis(img, mask, (0,1))\n",
    "            if np.random.rand() > 0.5:\n",
    "                img, mask = self.rotate_axis(img, mask, (0,2))\n",
    "            if np.random.rand() > 0.5:\n",
    "                img, mask = self.rotate_axis(img, mask, (1,2))\n",
    "                \n",
    "            # Maybe Add Gaussian filter !!!\n",
    "            # Maybe Add random cropping !!!\n",
    "            \n",
    "        # Normalize https://www.kaggle.com/gzuidhof/full-preprocessing-tutorial\n",
    "        img = (img - MIN_BOUND) / (MAX_BOUND - MIN_BOUND)\n",
    "        img[img>1] = 1.\n",
    "        img[img<0] = 0.\n",
    "        \n",
    "        # Zero center https://www.kaggle.com/gzuidhof/full-preprocessing-tutorial\n",
    "        # The mean was obtained using curate the 3D reconstructed 80px data.ipynb\n",
    "        img = img - PIXEL_MEAN\n",
    "        \n",
    "        # Add channels dimension\n",
    "        img = np.expand_dims(img,0)\n",
    "        mask = np.expand_dims(mask,0)\n",
    "        \n",
    "        mask = np.float32(mask)\n",
    "        img = np.float32(img)\n",
    "        \n",
    "        img = torch.from_numpy(img)\n",
    "        mask = torch.from_numpy(mask)\n",
    "        #target = torch.from_numpy(np.expand_dims(target,-1)).float()       \n",
    "        \n",
    "        img = Tensor(img)\n",
    "        mask = Tensor(mask).long()\n",
    "        \n",
    "        return img, mask"
   ]
  },
  {
   "cell_type": "markdown",
   "metadata": {},
   "source": [
    "## Random sampler"
   ]
  },
  {
   "cell_type": "code",
   "execution_count": 12,
   "metadata": {
    "scrolled": true
   },
   "outputs": [],
   "source": [
    "# # To use the WeightedRandomSampler we first need to determine the class imbalance\n",
    "# # Then assign to *each sample* their weight\n",
    "# check_classes_array=[]\n",
    "# check_classes_files = [f'{path_source}masks/{i}' for i in files_train]\n",
    "# for idx, i in enumerate(check_classes_files):\n",
    "#     print(idx)\n",
    "# #     if idx==2:break\n",
    "#     _ = np.load(i)\n",
    "#     check_classes_mask = _.f.arr_0\n",
    "#     check_classes_sum = np.sum(check_classes_mask)\n",
    "#     check_classes_array.append(check_classes_sum>0)\n",
    "# check_classes_array = torch.from_numpy(np.asarray(check_classes_array)*1)\n",
    "# print(f'classes_array total = {len(check_classes_array)}, 1s = {sum(check_classes_array)}')\n",
    "\n",
    "# check_classes_array_name = f'CNN models/weight_array.npy'\n",
    "# np.save(check_classes_array_name, check_classes_array)"
   ]
  },
  {
   "cell_type": "code",
   "execution_count": 13,
   "metadata": {},
   "outputs": [],
   "source": [
    "# If weight_array is already there, there is no need to calculated\n",
    "check_classes_array_name = f'CNN models/weight_array.npy'\n",
    "check_classes_array = np.load(check_classes_array_name)"
   ]
  },
  {
   "cell_type": "code",
   "execution_count": 14,
   "metadata": {},
   "outputs": [],
   "source": [
    "# Get the weight of each class and assign the corresponding weight to each element to the\n",
    "weight_class1 = (len(check_classes_array)/sum(check_classes_array)).item() \n",
    "weight_class0 = (len(check_classes_array)/(len(check_classes_array)-sum(check_classes_array))).item()\n",
    "\n",
    "weights_array = []\n",
    "for i in check_classes_array:\n",
    "    if i==1: weights_array.append(weight_class1)\n",
    "    else: weights_array.append(weight_class0)\n",
    "        \n",
    "sampler = WeightedRandomSampler(weights_array, len(weights_array))"
   ]
  },
  {
   "cell_type": "code",
   "execution_count": 15,
   "metadata": {},
   "outputs": [],
   "source": [
    "dataset_train = LIDCDataset(files_train ,transform=True)\n",
    "dataset_test = LIDCDataset(files_test ,transform=False)"
   ]
  },
  {
   "cell_type": "code",
   "execution_count": 16,
   "metadata": {},
   "outputs": [],
   "source": [
    "#sampler.weights"
   ]
  },
  {
   "cell_type": "code",
   "execution_count": 17,
   "metadata": {},
   "outputs": [],
   "source": [
    "dataloader_train = DataLoader(dataset_train, batch_size=batchsize, sampler=sampler)\n",
    "dataloader_test = DataLoader(dataset_test, batch_size=batchsize, shuffle=False)"
   ]
  },
  {
   "cell_type": "code",
   "execution_count": 18,
   "metadata": {},
   "outputs": [],
   "source": [
    "# #Check if the dataloader is loading the samples with right amount of classes \n",
    "all_msks1, all_msks0 = [], []\n",
    "# for i in range(53):\n",
    "#     batch_images = next(iter(dataloader_train))\n",
    "#     imgs = batch_images[0].detach().cpu().numpy()\n",
    "#     msks = batch_images[1].detach().cpu().numpy()\n",
    "#     pixels_sum = [np.sum(i) for i in msks]\n",
    "#     pixels_sum = [np.sum(i) for i in msks]\n",
    "#     msks1 = np.sum(np.asarray(pixels_sum) > 0)\n",
    "#     msks0 = np.sum(np.asarray(pixels_sum) == 0)\n",
    "#     print(f'batch {i}, with_nodule = {msks1}, without = {msks0}')\n",
    "#     # print(f'imgs shape =  {np.shape(imgs)},msks shape =  {np.shape(msks)}')\n",
    "#     all_msks1.append(msks1)\n",
    "#     all_msks0.append(msks0)\n",
    "# #     plot_3d(imgs[0], threshold=0, fig_size=7)\n",
    "# print(f'{np.round(np.mean(all_msks0),2)}, {np.round(np.mean(all_msks1),2)}')"
   ]
  },
  {
   "cell_type": "code",
   "execution_count": 19,
   "metadata": {
    "scrolled": true
   },
   "outputs": [
    {
     "name": "stdout",
     "output_type": "stream",
     "text": [
      "batch 0, with_nodule = 0, without = 8\n",
      "imgs shape =  (8, 1, 80, 80, 80),msks shape =  (8, 1, 80, 80, 80)\n",
      "batch 1, with_nodule = 0, without = 8\n",
      "imgs shape =  (8, 1, 80, 80, 80),msks shape =  (8, 1, 80, 80, 80)\n",
      "batch 2, with_nodule = 0, without = 8\n",
      "imgs shape =  (8, 1, 80, 80, 80),msks shape =  (8, 1, 80, 80, 80)\n",
      "batch 3, with_nodule = 0, without = 8\n",
      "imgs shape =  (8, 1, 80, 80, 80),msks shape =  (8, 1, 80, 80, 80)\n",
      "batch 4, with_nodule = 0, without = 8\n",
      "imgs shape =  (8, 1, 80, 80, 80),msks shape =  (8, 1, 80, 80, 80)\n",
      "batch 5, with_nodule = 0, without = 8\n",
      "imgs shape =  (8, 1, 80, 80, 80),msks shape =  (8, 1, 80, 80, 80)\n",
      "batch 6, with_nodule = 0, without = 8\n",
      "imgs shape =  (8, 1, 80, 80, 80),msks shape =  (8, 1, 80, 80, 80)\n",
      "batch 7, with_nodule = 0, without = 8\n",
      "imgs shape =  (8, 1, 80, 80, 80),msks shape =  (8, 1, 80, 80, 80)\n",
      "batch 8, with_nodule = 0, without = 8\n",
      "imgs shape =  (8, 1, 80, 80, 80),msks shape =  (8, 1, 80, 80, 80)\n",
      "batch 9, with_nodule = 0, without = 8\n",
      "imgs shape =  (8, 1, 80, 80, 80),msks shape =  (8, 1, 80, 80, 80)\n",
      "batch 10, with_nodule = 0, without = 8\n",
      "imgs shape =  (8, 1, 80, 80, 80),msks shape =  (8, 1, 80, 80, 80)\n",
      "batch 11, with_nodule = 0, without = 8\n",
      "imgs shape =  (8, 1, 80, 80, 80),msks shape =  (8, 1, 80, 80, 80)\n",
      "batch 12, with_nodule = 0, without = 8\n",
      "imgs shape =  (8, 1, 80, 80, 80),msks shape =  (8, 1, 80, 80, 80)\n",
      "batch 13, with_nodule = 0, without = 8\n",
      "imgs shape =  (8, 1, 80, 80, 80),msks shape =  (8, 1, 80, 80, 80)\n",
      "batch 14, with_nodule = 0, without = 8\n",
      "imgs shape =  (8, 1, 80, 80, 80),msks shape =  (8, 1, 80, 80, 80)\n",
      "batch 15, with_nodule = 0, without = 8\n",
      "imgs shape =  (8, 1, 80, 80, 80),msks shape =  (8, 1, 80, 80, 80)\n",
      "batch 16, with_nodule = 0, without = 8\n",
      "imgs shape =  (8, 1, 80, 80, 80),msks shape =  (8, 1, 80, 80, 80)\n",
      "batch 17, with_nodule = 0, without = 8\n",
      "imgs shape =  (8, 1, 80, 80, 80),msks shape =  (8, 1, 80, 80, 80)\n",
      "batch 18, with_nodule = 0, without = 8\n",
      "imgs shape =  (8, 1, 80, 80, 80),msks shape =  (8, 1, 80, 80, 80)\n",
      "batch 19, with_nodule = 0, without = 8\n",
      "imgs shape =  (8, 1, 80, 80, 80),msks shape =  (8, 1, 80, 80, 80)\n",
      "batch 20, with_nodule = 0, without = 8\n",
      "imgs shape =  (8, 1, 80, 80, 80),msks shape =  (8, 1, 80, 80, 80)\n",
      "batch 21, with_nodule = 0, without = 8\n",
      "imgs shape =  (8, 1, 80, 80, 80),msks shape =  (8, 1, 80, 80, 80)\n",
      "batch 22, with_nodule = 0, without = 8\n",
      "imgs shape =  (8, 1, 80, 80, 80),msks shape =  (8, 1, 80, 80, 80)\n",
      "batch 23, with_nodule = 0, without = 8\n",
      "imgs shape =  (8, 1, 80, 80, 80),msks shape =  (8, 1, 80, 80, 80)\n",
      "batch 24, with_nodule = 0, without = 8\n",
      "imgs shape =  (8, 1, 80, 80, 80),msks shape =  (8, 1, 80, 80, 80)\n",
      "batch 25, with_nodule = 0, without = 8\n",
      "imgs shape =  (8, 1, 80, 80, 80),msks shape =  (8, 1, 80, 80, 80)\n",
      "batch 26, with_nodule = 0, without = 8\n",
      "imgs shape =  (8, 1, 80, 80, 80),msks shape =  (8, 1, 80, 80, 80)\n",
      "batch 27, with_nodule = 0, without = 8\n",
      "imgs shape =  (8, 1, 80, 80, 80),msks shape =  (8, 1, 80, 80, 80)\n",
      "batch 28, with_nodule = 0, without = 8\n",
      "imgs shape =  (8, 1, 80, 80, 80),msks shape =  (8, 1, 80, 80, 80)\n",
      "batch 29, with_nodule = 0, without = 8\n",
      "imgs shape =  (8, 1, 80, 80, 80),msks shape =  (8, 1, 80, 80, 80)\n",
      "batch 30, with_nodule = 0, without = 8\n",
      "imgs shape =  (8, 1, 80, 80, 80),msks shape =  (8, 1, 80, 80, 80)\n",
      "batch 31, with_nodule = 0, without = 8\n",
      "imgs shape =  (8, 1, 80, 80, 80),msks shape =  (8, 1, 80, 80, 80)\n",
      "batch 32, with_nodule = 0, without = 8\n",
      "imgs shape =  (8, 1, 80, 80, 80),msks shape =  (8, 1, 80, 80, 80)\n",
      "batch 33, with_nodule = 0, without = 8\n",
      "imgs shape =  (8, 1, 80, 80, 80),msks shape =  (8, 1, 80, 80, 80)\n",
      "batch 34, with_nodule = 0, without = 8\n",
      "imgs shape =  (8, 1, 80, 80, 80),msks shape =  (8, 1, 80, 80, 80)\n",
      "batch 35, with_nodule = 0, without = 8\n",
      "imgs shape =  (8, 1, 80, 80, 80),msks shape =  (8, 1, 80, 80, 80)\n",
      "batch 36, with_nodule = 0, without = 8\n",
      "imgs shape =  (8, 1, 80, 80, 80),msks shape =  (8, 1, 80, 80, 80)\n",
      "batch 37, with_nodule = 0, without = 8\n",
      "imgs shape =  (8, 1, 80, 80, 80),msks shape =  (8, 1, 80, 80, 80)\n",
      "batch 38, with_nodule = 0, without = 8\n",
      "imgs shape =  (8, 1, 80, 80, 80),msks shape =  (8, 1, 80, 80, 80)\n",
      "batch 39, with_nodule = 0, without = 8\n",
      "imgs shape =  (8, 1, 80, 80, 80),msks shape =  (8, 1, 80, 80, 80)\n",
      "batch 40, with_nodule = 0, without = 8\n",
      "imgs shape =  (8, 1, 80, 80, 80),msks shape =  (8, 1, 80, 80, 80)\n",
      "batch 41, with_nodule = 0, without = 8\n",
      "imgs shape =  (8, 1, 80, 80, 80),msks shape =  (8, 1, 80, 80, 80)\n",
      "batch 42, with_nodule = 0, without = 8\n",
      "imgs shape =  (8, 1, 80, 80, 80),msks shape =  (8, 1, 80, 80, 80)\n",
      "batch 43, with_nodule = 0, without = 8\n",
      "imgs shape =  (8, 1, 80, 80, 80),msks shape =  (8, 1, 80, 80, 80)\n",
      "batch 44, with_nodule = 0, without = 8\n",
      "imgs shape =  (8, 1, 80, 80, 80),msks shape =  (8, 1, 80, 80, 80)\n",
      "batch 45, with_nodule = 0, without = 8\n",
      "imgs shape =  (8, 1, 80, 80, 80),msks shape =  (8, 1, 80, 80, 80)\n",
      "batch 46, with_nodule = 0, without = 8\n",
      "imgs shape =  (8, 1, 80, 80, 80),msks shape =  (8, 1, 80, 80, 80)\n",
      "batch 47, with_nodule = 0, without = 8\n",
      "imgs shape =  (8, 1, 80, 80, 80),msks shape =  (8, 1, 80, 80, 80)\n",
      "batch 48, with_nodule = 0, without = 8\n",
      "imgs shape =  (8, 1, 80, 80, 80),msks shape =  (8, 1, 80, 80, 80)\n",
      "batch 49, with_nodule = 0, without = 8\n",
      "imgs shape =  (8, 1, 80, 80, 80),msks shape =  (8, 1, 80, 80, 80)\n",
      "batch 50, with_nodule = 0, without = 8\n",
      "imgs shape =  (8, 1, 80, 80, 80),msks shape =  (8, 1, 80, 80, 80)\n",
      "batch 51, with_nodule = 0, without = 8\n",
      "imgs shape =  (8, 1, 80, 80, 80),msks shape =  (8, 1, 80, 80, 80)\n",
      "batch 52, with_nodule = 0, without = 8\n",
      "imgs shape =  (8, 1, 80, 80, 80),msks shape =  (8, 1, 80, 80, 80)\n",
      "8.0, 0.0\n"
     ]
    }
   ],
   "source": [
    "#Check if the dataloader is loading the samples with right amount of classes \n",
    "all_msks1, all_msks0 = [], []\n",
    "for i in range(53):\n",
    "    batch_images = next(iter(dataloader_test))\n",
    "    imgs = batch_images[0].detach().cpu().numpy()\n",
    "    msks = batch_images[1].detach().cpu().numpy()\n",
    "    pixels_sum = [np.sum(i) for i in msks]\n",
    "    pixels_sum = [np.sum(i) for i in msks]\n",
    "    msks1 = np.sum(np.asarray(pixels_sum) > 0)\n",
    "    msks0 = np.sum(np.asarray(pixels_sum) == 0)\n",
    "    print(f'batch {i}, with_nodule = {msks1}, without = {msks0}')\n",
    "    print(f'imgs shape =  {np.shape(imgs)},msks shape =  {np.shape(msks)}')\n",
    "    all_msks1.append(msks1)\n",
    "    all_msks0.append(msks0)\n",
    "#     plot_3d(imgs[0], threshold=0, fig_size=7)\n",
    "print(f'{np.round(np.mean(all_msks0),2)}, {np.round(np.mean(all_msks1),2)}')"
   ]
  },
  {
   "cell_type": "markdown",
   "metadata": {},
   "source": [
    "# Architecture"
   ]
  },
  {
   "cell_type": "code",
   "execution_count": 20,
   "metadata": {},
   "outputs": [],
   "source": [
    "def conv_block(ni, nf, ks=3, stride=1):\n",
    "    return nn.Sequential(\n",
    "        nn.Conv3d(ni, nf, kernel_size = (ks, ks, ks), bias = False, stride = stride, padding = 1),\n",
    "        nn.LeakyReLU(negative_slope=0.1, inplace=True),\n",
    "        nn.Conv3d(nf, nf, kernel_size = (ks, ks, ks), bias = False, stride = stride, padding = 1),\n",
    "        nn.LeakyReLU(negative_slope=0.1, inplace=True),\n",
    "        nn.BatchNorm3d(nf))"
   ]
  },
  {
   "cell_type": "code",
   "execution_count": 21,
   "metadata": {},
   "outputs": [],
   "source": [
    "def dice_loss(pred, target):\n",
    "    \"\"\"This definition generalize to real valued pred and target vector.\n",
    "This should be differentiable.\n",
    "    pred: tensor with first dimension as batch\n",
    "    target: tensor with first dimension as batch\n",
    "    \"\"\"\n",
    "\n",
    "    smooth = 1.\n",
    "\n",
    "    # have to use contiguous since they may from a torch.view op\n",
    "    iflat = pred.contiguous().view(-1).float()\n",
    "    tflat = target.contiguous().view(-1).float()\n",
    "    intersection = (iflat * tflat).sum()\n",
    "\n",
    "    A_sum = torch.sum(tflat * iflat)\n",
    "    B_sum = torch.sum(tflat * tflat)\n",
    "    \n",
    "    return 1 - ((2. * intersection + smooth) / (A_sum + B_sum + smooth) )"
   ]
  },
  {
   "cell_type": "code",
   "execution_count": 112,
   "metadata": {},
   "outputs": [
    {
     "data": {
      "text/plain": [
       "(torch.Size([6, 1, 80, 80, 80]), torch.Size([6, 1, 80, 80, 80]))"
      ]
     },
     "execution_count": 112,
     "metadata": {},
     "output_type": "execute_result"
    }
   ],
   "source": [
    "np.shape(pred), np.shape(msks)"
   ]
  },
  {
   "cell_type": "code",
   "execution_count": 124,
   "metadata": {},
   "outputs": [],
   "source": [
    "iflat = pred.contiguous().view(-1).float().detach().cpu().numpy()\n",
    "tflat = msks.contiguous().view(-1).float().detach().cpu().numpy()"
   ]
  },
  {
   "cell_type": "code",
   "execution_count": 126,
   "metadata": {},
   "outputs": [
    {
     "data": {
      "text/plain": [
       "(3970.0, 3970.0)"
      ]
     },
     "execution_count": 126,
     "metadata": {},
     "output_type": "execute_result"
    }
   ],
   "source": [
    "A_sum = np.sum(tflat * iflat)\n",
    "B_sum = np.sum(tflat * tflat)\n",
    "A_sum, B_sum"
   ]
  },
  {
   "cell_type": "code",
   "execution_count": 123,
   "metadata": {},
   "outputs": [
    {
     "data": {
      "text/plain": [
       "torch.Size([6, 1, 80, 80, 80])"
      ]
     },
     "execution_count": 123,
     "metadata": {},
     "output_type": "execute_result"
    }
   ],
   "source": [
    "pred.shape"
   ]
  },
  {
   "cell_type": "code",
   "execution_count": 131,
   "metadata": {},
   "outputs": [
    {
     "data": {
      "text/plain": [
       "tensor([[[1., 1., 1.,  ..., 1., 1., 1.],\n",
       "         [1., 1., 1.,  ..., 1., 1., 1.],\n",
       "         [1., 1., 1.,  ..., 1., 1., 1.],\n",
       "         ...,\n",
       "         [1., 1., 1.,  ..., 1., 1., 1.],\n",
       "         [1., 1., 1.,  ..., 1., 1., 1.],\n",
       "         [1., 1., 1.,  ..., 1., 1., 1.]],\n",
       "\n",
       "        [[1., 1., 1.,  ..., 1., 1., 1.],\n",
       "         [1., 1., 1.,  ..., 1., 1., 1.],\n",
       "         [1., 1., 1.,  ..., 1., 1., 1.],\n",
       "         ...,\n",
       "         [1., 1., 1.,  ..., 1., 1., 1.],\n",
       "         [1., 1., 1.,  ..., 1., 1., 1.],\n",
       "         [1., 1., 1.,  ..., 1., 1., 1.]],\n",
       "\n",
       "        [[1., 1., 1.,  ..., 1., 1., 1.],\n",
       "         [1., 1., 1.,  ..., 1., 1., 1.],\n",
       "         [1., 1., 1.,  ..., 1., 1., 1.],\n",
       "         ...,\n",
       "         [1., 1., 1.,  ..., 1., 1., 1.],\n",
       "         [1., 1., 1.,  ..., 1., 1., 1.],\n",
       "         [1., 1., 1.,  ..., 1., 1., 1.]],\n",
       "\n",
       "        ...,\n",
       "\n",
       "        [[1., 1., 1.,  ..., 1., 1., 1.],\n",
       "         [1., 1., 1.,  ..., 1., 1., 1.],\n",
       "         [1., 1., 1.,  ..., 1., 1., 1.],\n",
       "         ...,\n",
       "         [1., 1., 1.,  ..., 1., 1., 1.],\n",
       "         [1., 1., 1.,  ..., 1., 1., 1.],\n",
       "         [1., 1., 1.,  ..., 1., 1., 1.]],\n",
       "\n",
       "        [[1., 1., 1.,  ..., 1., 1., 1.],\n",
       "         [1., 1., 1.,  ..., 1., 1., 1.],\n",
       "         [1., 1., 1.,  ..., 1., 1., 1.],\n",
       "         ...,\n",
       "         [1., 1., 1.,  ..., 1., 1., 1.],\n",
       "         [1., 1., 1.,  ..., 1., 1., 1.],\n",
       "         [1., 1., 1.,  ..., 1., 1., 1.]],\n",
       "\n",
       "        [[1., 1., 1.,  ..., 1., 1., 1.],\n",
       "         [1., 1., 1.,  ..., 1., 1., 1.],\n",
       "         [1., 1., 1.,  ..., 1., 1., 1.],\n",
       "         ...,\n",
       "         [1., 1., 1.,  ..., 1., 1., 1.],\n",
       "         [1., 1., 1.,  ..., 1., 1., 1.],\n",
       "         [1., 1., 1.,  ..., 1., 1., 1.]]], device='cuda:0',\n",
       "       grad_fn=<SelectBackward>)"
      ]
     },
     "execution_count": 131,
     "metadata": {},
     "output_type": "execute_result"
    }
   ],
   "source": [
    "pred[0][0]"
   ]
  },
  {
   "cell_type": "code",
   "execution_count": null,
   "metadata": {},
   "outputs": [],
   "source": []
  },
  {
   "cell_type": "code",
   "execution_count": null,
   "metadata": {},
   "outputs": [],
   "source": []
  },
  {
   "cell_type": "code",
   "execution_count": 22,
   "metadata": {},
   "outputs": [],
   "source": [
    "dbp = False # debug printouts\n",
    "class UNet1(nn.Module):\n",
    "    def __init__(self, ch_in, num_classes, nf = 32):\n",
    "        super().__init__()\n",
    "        self.conv1 = conv_block(ch_in, nf, ks=3, stride=1)\n",
    "        self.conv2 = conv_block(nf, nf*2, ks=3, stride=1)\n",
    "        self.conv3 = conv_block(nf*2, nf*4, ks=3, stride=1)\n",
    "        self.conv4 = conv_block(nf*4, nf*4, ks=3, stride=1)\n",
    "        \n",
    "        self.conv5 = conv_block(nf*8, nf*2, ks=3, stride=1)\n",
    "        self.conv6 = conv_block(nf*4, nf*1, ks=3, stride=1)\n",
    "        self.conv7 = conv_block(nf*2, nf, ks=3, stride=1)\n",
    "        \n",
    "        self.conv8 = nn.Conv3d(nf, ch_in, kernel_size=1, stride=1)\n",
    "        \n",
    "    def forward(self, x):\n",
    "        x = self.conv1(x)\n",
    "        skip1 = x\n",
    "        if dbp: print(f'x (conv1)= {x.shape}, skip1 = {skip1.shape}')\n",
    "        x = F.max_pool3d(x, kernel_size=2)\n",
    "        \n",
    "        x = self.conv2(x)\n",
    "        skip2 = x\n",
    "        if dbp: print(f'x (conv2)= {x.shape}, skip2 = {skip2.shape}')\n",
    "        x = F.max_pool3d(x, kernel_size=2)\n",
    "        \n",
    "        x = self.conv3(x)\n",
    "        skip3 = x\n",
    "        if dbp: print(f'x (conv3)= {x.shape}, skip3 = {skip3.shape}')\n",
    "        x = F.max_pool3d(x, kernel_size=2)\n",
    "        \n",
    "        x = self.conv4(x)\n",
    "        if dbp: print(f'x (conv4)= {np.shape(x)}')\n",
    "        x = F.max_pool3d(x, kernel_size=2)\n",
    "        x = F.dropout3d(x, p=0.25) \n",
    "        if dbp: print(f'x (bottom) = {np.shape(x)}')\n",
    "        if dbp: print('')\n",
    "        \n",
    "        x = F.interpolate(x, scale_factor=4)\n",
    "        if dbp: print(f'x (to concat with skip3) = {np.shape(x)}')\n",
    "        x = torch.cat((x, skip3), dim=1)\n",
    "        x = self.conv5(x)\n",
    "        if dbp: print(f'x (conv5)= {np.shape(x)}')\n",
    "        \n",
    "        x = F.interpolate(x, scale_factor=2)\n",
    "        if dbp: print(f'x (to concat with skip2) = {np.shape(x)}')\n",
    "        x = torch.cat((x, skip2), dim=1)\n",
    "        x = self.conv6(x)\n",
    "        if dbp: print(f'x (conv6)= {np.shape(x)}')\n",
    "        \n",
    "        x = F.interpolate(x, scale_factor=2)\n",
    "        if dbp: print(f'x (to concat with skip1) = {np.shape(x)}')\n",
    "        x = torch.cat((x, skip1), dim=1)\n",
    "        x = self.conv7(x)\n",
    "        if dbp: print(f'x (conv7)= {np.shape(x)}')\n",
    "        \n",
    "        x = self.conv8(x)\n",
    "        if dbp: print(f'x (conv8)= {np.shape(x)}')\n",
    "        x = torch.sigmoid(x)\n",
    "        \n",
    "        return x"
   ]
  },
  {
   "cell_type": "code",
   "execution_count": 23,
   "metadata": {},
   "outputs": [],
   "source": [
    "device = torch.device(\"cuda:0\" if torch.cuda.is_available() else \"cpu\")"
   ]
  },
  {
   "cell_type": "code",
   "execution_count": 24,
   "metadata": {},
   "outputs": [],
   "source": [
    "model = UNet1(ch_in=1, num_classes=2, nf=32)\n",
    "if torch.cuda.is_available():\n",
    "    model.cuda(GPU)"
   ]
  },
  {
   "cell_type": "code",
   "execution_count": 25,
   "metadata": {},
   "outputs": [],
   "source": [
    "# if torch.cuda.device_count() > 1:\n",
    "#     print(\"Let's use\", torch.cuda.device_count(), \"GPUs!\")\n",
    "#     # dim = 0 [30, xxx] -> [10, ...], [10, ...], [10, ...] on 3 GPUs\n",
    "#     model = nn.DataParallel(model)\n",
    "\n",
    "# model.to(device)"
   ]
  },
  {
   "cell_type": "code",
   "execution_count": 26,
   "metadata": {},
   "outputs": [],
   "source": [
    "lr=1e-4\n",
    "opt = optim.Adam(model.parameters(), lr=lr)"
   ]
  },
  {
   "cell_type": "code",
   "execution_count": 27,
   "metadata": {
    "scrolled": true
   },
   "outputs": [
    {
     "data": {
      "application/vnd.jupyter.widget-view+json": {
       "model_id": "1e57780f77a94caaa4442ae08707ceba",
       "version_major": 2,
       "version_minor": 0
      },
      "text/plain": [
       "HBox(children=(IntProgress(value=0, description='train batch', max=2788), HTML(value='')))"
      ]
     },
     "metadata": {},
     "output_type": "display_data"
    },
    {
     "name": "stdout",
     "output_type": "stream",
     "text": [
      "\n"
     ]
    },
    {
     "data": {
      "application/vnd.jupyter.widget-view+json": {
       "model_id": "1d61e9f5c0134ae9b572495b2be56549",
       "version_major": 2,
       "version_minor": 0
      },
      "text/plain": [
       "HBox(children=(IntProgress(value=0, description='val batch', max=697), HTML(value='')))"
      ]
     },
     "metadata": {},
     "output_type": "display_data"
    },
    {
     "name": "stdout",
     "output_type": "stream",
     "text": [
      "\n",
      "epoch 0, minibatch 2788 in 265.99s\n"
     ]
    },
    {
     "data": {
      "application/vnd.jupyter.widget-view+json": {
       "model_id": "b5e3c52b64704ece89e39c5a7e5c6721",
       "version_major": 2,
       "version_minor": 0
      },
      "text/plain": [
       "HBox(children=(IntProgress(value=0, description='train batch', max=2788), HTML(value='')))"
      ]
     },
     "metadata": {},
     "output_type": "display_data"
    },
    {
     "name": "stdout",
     "output_type": "stream",
     "text": [
      "\n"
     ]
    },
    {
     "data": {
      "application/vnd.jupyter.widget-view+json": {
       "model_id": "8b908e0cb33949aeb4005cfacf593824",
       "version_major": 2,
       "version_minor": 0
      },
      "text/plain": [
       "HBox(children=(IntProgress(value=0, description='val batch', max=697), HTML(value='')))"
      ]
     },
     "metadata": {},
     "output_type": "display_data"
    },
    {
     "name": "stdout",
     "output_type": "stream",
     "text": [
      "\n",
      "epoch 1, minibatch 2788 in 269.36s\n"
     ]
    },
    {
     "data": {
      "application/vnd.jupyter.widget-view+json": {
       "model_id": "dc1b9746b30144a7942637074415bc05",
       "version_major": 2,
       "version_minor": 0
      },
      "text/plain": [
       "HBox(children=(IntProgress(value=0, description='train batch', max=2788), HTML(value='')))"
      ]
     },
     "metadata": {},
     "output_type": "display_data"
    },
    {
     "name": "stdout",
     "output_type": "stream",
     "text": [
      "\n"
     ]
    },
    {
     "data": {
      "application/vnd.jupyter.widget-view+json": {
       "model_id": "cfe39819734a4eb2b8792bdeb334c51c",
       "version_major": 2,
       "version_minor": 0
      },
      "text/plain": [
       "HBox(children=(IntProgress(value=0, description='val batch', max=697), HTML(value='')))"
      ]
     },
     "metadata": {},
     "output_type": "display_data"
    },
    {
     "name": "stdout",
     "output_type": "stream",
     "text": [
      "\n",
      "epoch 2, minibatch 2788 in 267.02s\n"
     ]
    },
    {
     "data": {
      "application/vnd.jupyter.widget-view+json": {
       "model_id": "a29dc55bd0194b74af7ccc4b08a1b938",
       "version_major": 2,
       "version_minor": 0
      },
      "text/plain": [
       "HBox(children=(IntProgress(value=0, description='train batch', max=2788), HTML(value='')))"
      ]
     },
     "metadata": {},
     "output_type": "display_data"
    },
    {
     "name": "stdout",
     "output_type": "stream",
     "text": [
      "\n"
     ]
    },
    {
     "data": {
      "application/vnd.jupyter.widget-view+json": {
       "model_id": "b9f50efc69144884973af7fff64ddb97",
       "version_major": 2,
       "version_minor": 0
      },
      "text/plain": [
       "HBox(children=(IntProgress(value=0, description='val batch', max=697), HTML(value='')))"
      ]
     },
     "metadata": {},
     "output_type": "display_data"
    },
    {
     "name": "stdout",
     "output_type": "stream",
     "text": [
      "\n",
      "epoch 3, minibatch 2788 in 267.41s\n"
     ]
    },
    {
     "data": {
      "application/vnd.jupyter.widget-view+json": {
       "model_id": "7c109e57ad6e4ccab82bfcce0bb1ac27",
       "version_major": 2,
       "version_minor": 0
      },
      "text/plain": [
       "HBox(children=(IntProgress(value=0, description='train batch', max=2788), HTML(value='')))"
      ]
     },
     "metadata": {},
     "output_type": "display_data"
    },
    {
     "name": "stdout",
     "output_type": "stream",
     "text": [
      "\n"
     ]
    },
    {
     "data": {
      "application/vnd.jupyter.widget-view+json": {
       "model_id": "321ca14901d74d37acc4f2ff9f16b75b",
       "version_major": 2,
       "version_minor": 0
      },
      "text/plain": [
       "HBox(children=(IntProgress(value=0, description='val batch', max=697), HTML(value='')))"
      ]
     },
     "metadata": {},
     "output_type": "display_data"
    },
    {
     "name": "stdout",
     "output_type": "stream",
     "text": [
      "\n",
      "epoch 4, minibatch 2788 in 268.13s\n"
     ]
    },
    {
     "data": {
      "application/vnd.jupyter.widget-view+json": {
       "model_id": "8367859aec584e1da667be1f99923aab",
       "version_major": 2,
       "version_minor": 0
      },
      "text/plain": [
       "HBox(children=(IntProgress(value=0, description='train batch', max=2788), HTML(value='')))"
      ]
     },
     "metadata": {},
     "output_type": "display_data"
    },
    {
     "name": "stdout",
     "output_type": "stream",
     "text": [
      "\n"
     ]
    },
    {
     "data": {
      "application/vnd.jupyter.widget-view+json": {
       "model_id": "0d09dc069b014ac49bd4684aa6bc7d38",
       "version_major": 2,
       "version_minor": 0
      },
      "text/plain": [
       "HBox(children=(IntProgress(value=0, description='val batch', max=697), HTML(value='')))"
      ]
     },
     "metadata": {},
     "output_type": "display_data"
    },
    {
     "name": "stdout",
     "output_type": "stream",
     "text": [
      "\n",
      "epoch 5, minibatch 2788 in 268.95s\n"
     ]
    },
    {
     "data": {
      "application/vnd.jupyter.widget-view+json": {
       "model_id": "cde5075e95b047348db920f8bba9dc69",
       "version_major": 2,
       "version_minor": 0
      },
      "text/plain": [
       "HBox(children=(IntProgress(value=0, description='train batch', max=2788), HTML(value='')))"
      ]
     },
     "metadata": {},
     "output_type": "display_data"
    },
    {
     "name": "stdout",
     "output_type": "stream",
     "text": [
      "\n"
     ]
    },
    {
     "data": {
      "application/vnd.jupyter.widget-view+json": {
       "model_id": "1c5e9ef9272b4a39be47283e4f32db7b",
       "version_major": 2,
       "version_minor": 0
      },
      "text/plain": [
       "HBox(children=(IntProgress(value=0, description='val batch', max=697), HTML(value='')))"
      ]
     },
     "metadata": {},
     "output_type": "display_data"
    },
    {
     "name": "stdout",
     "output_type": "stream",
     "text": [
      "\n",
      "epoch 6, minibatch 2788 in 268.14s\n"
     ]
    },
    {
     "data": {
      "application/vnd.jupyter.widget-view+json": {
       "model_id": "88f64ff70c45410580c49cac19685c3f",
       "version_major": 2,
       "version_minor": 0
      },
      "text/plain": [
       "HBox(children=(IntProgress(value=0, description='train batch', max=2788), HTML(value='')))"
      ]
     },
     "metadata": {},
     "output_type": "display_data"
    },
    {
     "name": "stdout",
     "output_type": "stream",
     "text": [
      "\n"
     ]
    },
    {
     "data": {
      "application/vnd.jupyter.widget-view+json": {
       "model_id": "16421c1fa81a457a93112f730c4e35f1",
       "version_major": 2,
       "version_minor": 0
      },
      "text/plain": [
       "HBox(children=(IntProgress(value=0, description='val batch', max=697), HTML(value='')))"
      ]
     },
     "metadata": {},
     "output_type": "display_data"
    },
    {
     "name": "stdout",
     "output_type": "stream",
     "text": [
      "\n",
      "epoch 7, minibatch 2788 in 268.03s\n"
     ]
    },
    {
     "data": {
      "application/vnd.jupyter.widget-view+json": {
       "model_id": "cbf550f113964ed684230543a40a1d15",
       "version_major": 2,
       "version_minor": 0
      },
      "text/plain": [
       "HBox(children=(IntProgress(value=0, description='train batch', max=2788), HTML(value='')))"
      ]
     },
     "metadata": {},
     "output_type": "display_data"
    },
    {
     "name": "stdout",
     "output_type": "stream",
     "text": [
      "\n"
     ]
    },
    {
     "data": {
      "application/vnd.jupyter.widget-view+json": {
       "model_id": "e1d218b9513c4b218404cd2418f9ac37",
       "version_major": 2,
       "version_minor": 0
      },
      "text/plain": [
       "HBox(children=(IntProgress(value=0, description='val batch', max=697), HTML(value='')))"
      ]
     },
     "metadata": {},
     "output_type": "display_data"
    },
    {
     "name": "stdout",
     "output_type": "stream",
     "text": [
      "\n",
      "epoch 8, minibatch 2788 in 267.08s\n"
     ]
    },
    {
     "data": {
      "application/vnd.jupyter.widget-view+json": {
       "model_id": "0cc7f714ff684768a961b88706a50f6d",
       "version_major": 2,
       "version_minor": 0
      },
      "text/plain": [
       "HBox(children=(IntProgress(value=0, description='train batch', max=2788), HTML(value='')))"
      ]
     },
     "metadata": {},
     "output_type": "display_data"
    },
    {
     "name": "stdout",
     "output_type": "stream",
     "text": [
      "\n"
     ]
    },
    {
     "data": {
      "application/vnd.jupyter.widget-view+json": {
       "model_id": "95efdc58888b4819aacee6b72be1f744",
       "version_major": 2,
       "version_minor": 0
      },
      "text/plain": [
       "HBox(children=(IntProgress(value=0, description='val batch', max=697), HTML(value='')))"
      ]
     },
     "metadata": {},
     "output_type": "display_data"
    },
    {
     "name": "stdout",
     "output_type": "stream",
     "text": [
      "\n",
      "epoch 9, minibatch 2788 in 267.26s\n"
     ]
    }
   ],
   "source": [
    "epochs = 10\n",
    "loss_test = []\n",
    "loss_train = []\n",
    "TP_percs_batch = []\n",
    "precisions_batch = []\n",
    "TPs, total_1_voxels, TP_and_FN = [],[], []\n",
    "TPs_train, total_1_voxels_train, TP_and_FN_train = [],[], []\n",
    "\n",
    "for epoch in range(epochs):\n",
    "\n",
    "    epoch_loss = 0\n",
    "    epoch_loss_val = 0\n",
    "\n",
    "    for idx, (imgs, msks) in tqdm(enumerate(dataloader_train), desc='train batch', total = len(dataloader_train.dataset)//dataloader_train.batch_size):\n",
    "#         if idx >= 1: continue                                # !!! REMOVE !!!\n",
    "        start = time.time()\n",
    "        model.train()\n",
    "        \n",
    "        TPs_batch_train, total_1_voxels_batch_train, TP_and_FN_batch_train = 0, 0, 0\n",
    "#         print(f' inputs = {np.shape(imgs)}, {np.shape(msks)}')\n",
    "\n",
    "        opt.zero_grad()    # Clear gradients w.r.t. parameters\n",
    "        if torch.cuda.is_available():\n",
    "    #         imgs = Variable(imgs.to(device))\n",
    "    #         msks = Variable(msks.to(device))\n",
    "            imgs = Variable(imgs.cuda(GPU))\n",
    "            msks = Variable(msks.cuda(GPU))\n",
    "        else:\n",
    "            imgs = Variable(imgs)\n",
    "            msks = Variable(msks)\n",
    "\n",
    "        pred = model(imgs)\n",
    "        # Check !!! if to use the dice coeff loss we round up the predictions\n",
    "        #pred_class= torch.round(pred)\n",
    "        loss = dice_loss(pred, msks)\n",
    "\n",
    "        loss.backward()     # Getting gradients w.r.t. parameters\n",
    "        opt.step()    # Updating parameters\n",
    "        \n",
    "        \n",
    "        pred_arr_train = pred.detach().cpu().numpy()\n",
    "        msks_arr_train = msks.detach().cpu().numpy()\n",
    "        pred_arr_class_train = pred_arr_train > .5\n",
    "        TP_train = np.sum(pred_arr_class_train * msks_arr_train)\n",
    "        total_1s_train = np.sum(msks_arr_train)\n",
    "        TPs_batch_train += TP_train\n",
    "        total_1_voxels_batch_train += total_1s_train\n",
    "        TP_and_FN_batch_train += np.sum(pred_arr_class_train)\n",
    "\n",
    "        epoch_loss+=loss.item()\n",
    "        \n",
    "    # TEST\n",
    "    model.eval()\n",
    "    with torch.no_grad():\n",
    "                \n",
    "        TPs_batch, total_1_voxels_batch, TP_and_FN_batch = 0, 0, 0\n",
    "        loss_val_epoch = 0\n",
    "        for idx_val, (imgs_val, msks_val) in tqdm(enumerate(dataloader_test), desc='val batch',total = len(dataloader_test.dataset)//dataloader_test.batch_size):\n",
    "            #if idx_val>=2:continue # !!!! REMOVE\n",
    "            #print(idx, idx_val)\n",
    "\n",
    "            if torch.cuda.is_available():\n",
    "    #           imgs_val = Variable(imgs_val.to(device))\n",
    "    #           msks_val = Variable(msks_val.to(device))\n",
    "                imgs_val = Variable(imgs_val.cuda(GPU))\n",
    "                msks_val = Variable(msks_val.cuda(GPU))\n",
    "            else:\n",
    "                imgs_val = Variable(imgs_val)\n",
    "                msks_val = Variable(msks_val)\n",
    "\n",
    "            pred_val = model(imgs_val)\n",
    "            assert(np.shape(pred_val) == np.shape(msks_val))\n",
    "            # Check !!! if to use the dice coeff loss we round up the predictions\n",
    "            #pred_class_val= torch.round(pred_val)\n",
    "            loss_val = dice_loss(pred_val, msks_val)\n",
    "                    \n",
    "            pred_arr = pred_val.detach().cpu().numpy()\n",
    "            msks_arr = msks_val.detach().cpu().numpy()\n",
    "            pred_arr_class = pred_arr > .5\n",
    "            TP = np.sum(pred_arr_class * msks_arr)\n",
    "            total_1s = np.sum(msks_arr)\n",
    "            TPs_batch += TP\n",
    "            total_1_voxels_batch += total_1s\n",
    "                    \n",
    "            #TP_perc = TP / total_1s\n",
    "            TP_and_FN_batch += np.sum(pred_arr_class)\n",
    "            #precision = TP/TP_and_FN\n",
    "                    \n",
    "            #TP_percs_batch.append(TP_perc)\n",
    "            #precisions_batch.append(precision)\n",
    "\n",
    "            epoch_loss_val+=loss_val.item()\n",
    "                    \n",
    "            #if idx_val ==1:break\n",
    "\n",
    "    TPs.append(TPs_batch)\n",
    "    total_1_voxels.append(total_1_voxels_batch)\n",
    "    TP_and_FN.append(TP_and_FN_batch)\n",
    "    \n",
    "    loss_test.append(epoch_loss_val/len(dataloader_test.dataset))\n",
    "        \n",
    "    loss_train.append(epoch_loss/len(dataloader_train.dataset))\n",
    "    stop = time.time()\n",
    "\n",
    "    print(f'epoch {epoch}, minibatch {idx} in {stop-start:.2f}s')"
   ]
  },
  {
   "cell_type": "code",
   "execution_count": 28,
   "metadata": {},
   "outputs": [
    {
     "name": "stdout",
     "output_type": "stream",
     "text": [
      "[0.0027941854958681714, 0.0011822618427216767, 0.0004067483583088682, 0.00011322465727330323, 3.912573916556214e-05, 1.716178823938716e-05, 4.242250386079509e-06, 1.3245482553766747e-06, 4.556242097711841e-07, 1.2814597878312914e-07]\n",
      "[0.001365440267523201, 0.0007789661462010342, 0.0001247325927478603, 0.00010603754996569535, 3.962033365139529e-05, 4.796752710845061e-06, 1.2184010051236268e-06, 4.3934115631770986e-07, 1.0589494975333831e-07, 2.781478851745102e-08]\n",
      "[342428, 349933, 355534, 353469, 355074, 356314, 356314, 356314, 356314, 356314]\n",
      "[356314, 356314, 356314, 356314, 356314, 356314, 356314, 356314, 356314, 356314]\n",
      "[1458825762, 2247891380, 2699945012, 2597619412, 2676490591, 2855933964, 2855936000, 2855936000, 2855936000, 2855936000]\n",
      "[]\n",
      "[]\n",
      "[]\n"
     ]
    }
   ],
   "source": [
    "print(loss_train)\n",
    "print(loss_test)\n",
    "print(TPs)\n",
    "print(total_1_voxels)\n",
    "print(TP_and_FN)\n",
    "print(TPs_train)\n",
    "print(total_1_voxels_train)\n",
    "print(TP_and_FN_train)"
   ]
  },
  {
   "cell_type": "code",
   "execution_count": 29,
   "metadata": {},
   "outputs": [
    {
     "data": {
      "text/plain": [
       "[<matplotlib.lines.Line2D at 0x7f45d8123630>]"
      ]
     },
     "execution_count": 29,
     "metadata": {},
     "output_type": "execute_result"
    },
    {
     "data": {
      "image/png": "[encoded data removed]",
      "text/plain": [
       "<Figure size 1008x360 with 2 Axes>"
      ]
     },
     "metadata": {
      "needs_background": "light"
     },
     "output_type": "display_data"
    }
   ],
   "source": [
    "fig, ax = plt.subplots(1,2, figsize=(14,5))\n",
    "ax[0].plot(loss_train)\n",
    "ax[1].plot(loss_test)"
   ]
  },
  {
   "cell_type": "code",
   "execution_count": 30,
   "metadata": {},
   "outputs": [
    {
     "data": {
      "text/plain": [
       "<matplotlib.image.AxesImage at 0x7f4594383c88>"
      ]
     },
     "execution_count": 30,
     "metadata": {},
     "output_type": "execute_result"
    },
    {
     "data": {
      "image/png": "[encoded data removed]",
      "text/plain": [
       "<Figure size 432x288 with 1 Axes>"
      ]
     },
     "metadata": {
      "needs_background": "light"
     },
     "output_type": "display_data"
    }
   ],
   "source": [
    "plt.imshow((pred[0][0][40]>.5).detach().cpu().numpy())"
   ]
  },
  {
   "cell_type": "code",
   "execution_count": 32,
   "metadata": {},
   "outputs": [],
   "source": [
    "path_trained_model = f'CNN models/UNet_4blocks_{epochs}ep.pt'\n",
    "torch.save(model.state_dict(), path_trained_model)"
   ]
  },
  {
   "cell_type": "code",
   "execution_count": 68,
   "metadata": {},
   "outputs": [],
   "source": [
    "# Save metrics\n",
    "results_dict = {'loss_train':loss_train,\n",
    "    'loss_test':loss_test,\n",
    "    'TPs':TPs,\n",
    "    'total_1_voxels':total_1_voxels,\n",
    "    'TP_and_FN':TP_and_FN,\n",
    "    'TPs_train':TPs_train,\n",
    "    'total_1_voxels_train':total_1_voxels_train,\n",
    "    'TP_and_FN_train':TP_and_FN_train}\n",
    "path_results_dict = f'CNN models/results_dict_{epochs}ep'\n",
    "\n",
    "with open(path_results_dict + '.pkl', 'wb') as f:\n",
    "    pickle.dump(results_dict, f, pickle.HIGHEST_PROTOCOL)"
   ]
  },
  {
   "cell_type": "markdown",
   "metadata": {},
   "source": [
    "---"
   ]
  },
  {
   "cell_type": "markdown",
   "metadata": {},
   "source": [
    "# Continue training"
   ]
  },
  {
   "cell_type": "code",
   "execution_count": null,
   "metadata": {},
   "outputs": [],
   "source": [
    "del model"
   ]
  },
  {
   "cell_type": "code",
   "execution_count": 75,
   "metadata": {},
   "outputs": [],
   "source": [
    "# Load saved model\n",
    "model = UNet1(ch_in=1, num_classes=2, nf=32)\n",
    "model.load_state_dict(torch.load(path_trained_model))\n",
    "if torch.cuda.is_available():\n",
    "    model.cuda(GPU)"
   ]
  },
  {
   "cell_type": "code",
   "execution_count": 76,
   "metadata": {},
   "outputs": [],
   "source": [
    "lr=1e-4\n",
    "opt = optim.Adam(model.parameters(), lr=lr)"
   ]
  },
  {
   "cell_type": "code",
   "execution_count": 77,
   "metadata": {},
   "outputs": [
    {
     "data": {
      "text/plain": [
       "array([11, 12, 13, 14, 15, 16, 17, 18, 19, 20, 21, 22, 23, 24, 25, 26, 27,\n",
       "       28, 29, 30, 31, 32, 33, 34, 35, 36, 37, 38, 39, 40])"
      ]
     },
     "execution_count": 77,
     "metadata": {},
     "output_type": "execute_result"
    }
   ],
   "source": [
    "# Get epochs from previous training\n",
    "epoch_previous = int(path_trained_model.split('_')[-1].split('ep')[0])\n",
    "epochs_more=30\n",
    "range_new = np.arange(epoch_previous+1,epoch_previous+1+epochs_more)\n",
    "range_new"
   ]
  },
  {
   "cell_type": "code",
   "execution_count": 79,
   "metadata": {
    "scrolled": true
   },
   "outputs": [
    {
     "data": {
      "application/vnd.jupyter.widget-view+json": {
       "model_id": "babdda197dab4c5389aea05199660425",
       "version_major": 2,
       "version_minor": 0
      },
      "text/plain": [
       "HBox(children=(IntProgress(value=0, description='train batch', max=2788), HTML(value='')))"
      ]
     },
     "metadata": {},
     "output_type": "display_data"
    },
    {
     "name": "stdout",
     "output_type": "stream",
     "text": [
      "\n"
     ]
    },
    {
     "data": {
      "application/vnd.jupyter.widget-view+json": {
       "model_id": "9c8f3d20f8c5445a8834bc17d6712202",
       "version_major": 2,
       "version_minor": 0
      },
      "text/plain": [
       "HBox(children=(IntProgress(value=0, description='val batch', max=697), HTML(value='')))"
      ]
     },
     "metadata": {},
     "output_type": "display_data"
    },
    {
     "name": "stdout",
     "output_type": "stream",
     "text": [
      "\n",
      "epoch 11, minibatch 2788 in 265.21s\n"
     ]
    },
    {
     "data": {
      "application/vnd.jupyter.widget-view+json": {
       "model_id": "3a08dfbce9b84a59a562b05e67a6478a",
       "version_major": 2,
       "version_minor": 0
      },
      "text/plain": [
       "HBox(children=(IntProgress(value=0, description='train batch', max=2788), HTML(value='')))"
      ]
     },
     "metadata": {},
     "output_type": "display_data"
    },
    {
     "name": "stdout",
     "output_type": "stream",
     "text": [
      "\n"
     ]
    },
    {
     "data": {
      "application/vnd.jupyter.widget-view+json": {
       "model_id": "106402ca92474305af9ab20cfa3d6bcc",
       "version_major": 2,
       "version_minor": 0
      },
      "text/plain": [
       "HBox(children=(IntProgress(value=0, description='val batch', max=697), HTML(value='')))"
      ]
     },
     "metadata": {},
     "output_type": "display_data"
    },
    {
     "name": "stdout",
     "output_type": "stream",
     "text": [
      "\n",
      "epoch 12, minibatch 2788 in 266.99s\n"
     ]
    },
    {
     "data": {
      "application/vnd.jupyter.widget-view+json": {
       "model_id": "487b3e2928494d28bce3d7282b16efc7",
       "version_major": 2,
       "version_minor": 0
      },
      "text/plain": [
       "HBox(children=(IntProgress(value=0, description='train batch', max=2788), HTML(value='')))"
      ]
     },
     "metadata": {},
     "output_type": "display_data"
    },
    {
     "name": "stdout",
     "output_type": "stream",
     "text": [
      "\n"
     ]
    },
    {
     "data": {
      "application/vnd.jupyter.widget-view+json": {
       "model_id": "715f720db4ae48eaa8c5bf6ce44bf27f",
       "version_major": 2,
       "version_minor": 0
      },
      "text/plain": [
       "HBox(children=(IntProgress(value=0, description='val batch', max=697), HTML(value='')))"
      ]
     },
     "metadata": {},
     "output_type": "display_data"
    },
    {
     "name": "stdout",
     "output_type": "stream",
     "text": [
      "\n",
      "epoch 13, minibatch 2788 in 265.32s\n"
     ]
    },
    {
     "data": {
      "application/vnd.jupyter.widget-view+json": {
       "model_id": "b4b9fb93f0bd4a87bbd010a709d9f98b",
       "version_major": 2,
       "version_minor": 0
      },
      "text/plain": [
       "HBox(children=(IntProgress(value=0, description='train batch', max=2788), HTML(value='')))"
      ]
     },
     "metadata": {},
     "output_type": "display_data"
    },
    {
     "name": "stdout",
     "output_type": "stream",
     "text": [
      "\n"
     ]
    },
    {
     "data": {
      "application/vnd.jupyter.widget-view+json": {
       "model_id": "867ac1b92cc94931989c8d8dc57813d7",
       "version_major": 2,
       "version_minor": 0
      },
      "text/plain": [
       "HBox(children=(IntProgress(value=0, description='val batch', max=697), HTML(value='')))"
      ]
     },
     "metadata": {},
     "output_type": "display_data"
    },
    {
     "name": "stdout",
     "output_type": "stream",
     "text": [
      "\n",
      "epoch 14, minibatch 2788 in 265.61s\n"
     ]
    },
    {
     "data": {
      "application/vnd.jupyter.widget-view+json": {
       "model_id": "71fef18fdd5b429a8059b1b4551e1688",
       "version_major": 2,
       "version_minor": 0
      },
      "text/plain": [
       "HBox(children=(IntProgress(value=0, description='train batch', max=2788), HTML(value='')))"
      ]
     },
     "metadata": {},
     "output_type": "display_data"
    },
    {
     "name": "stdout",
     "output_type": "stream",
     "text": [
      "\n"
     ]
    },
    {
     "data": {
      "application/vnd.jupyter.widget-view+json": {
       "model_id": "02708320d4da48c6a195dd50ee6465d8",
       "version_major": 2,
       "version_minor": 0
      },
      "text/plain": [
       "HBox(children=(IntProgress(value=0, description='val batch', max=697), HTML(value='')))"
      ]
     },
     "metadata": {},
     "output_type": "display_data"
    },
    {
     "name": "stdout",
     "output_type": "stream",
     "text": [
      "\n",
      "epoch 15, minibatch 2788 in 264.70s\n"
     ]
    },
    {
     "data": {
      "application/vnd.jupyter.widget-view+json": {
       "model_id": "646612afe25d4fe1ab9316f9550a183b",
       "version_major": 2,
       "version_minor": 0
      },
      "text/plain": [
       "HBox(children=(IntProgress(value=0, description='train batch', max=2788), HTML(value='')))"
      ]
     },
     "metadata": {},
     "output_type": "display_data"
    },
    {
     "name": "stdout",
     "output_type": "stream",
     "text": [
      "\n"
     ]
    },
    {
     "data": {
      "application/vnd.jupyter.widget-view+json": {
       "model_id": "4ec683a9894c43be9a3aa3a8976e121f",
       "version_major": 2,
       "version_minor": 0
      },
      "text/plain": [
       "HBox(children=(IntProgress(value=0, description='val batch', max=697), HTML(value='')))"
      ]
     },
     "metadata": {},
     "output_type": "display_data"
    },
    {
     "name": "stdout",
     "output_type": "stream",
     "text": [
      "\n",
      "epoch 16, minibatch 2788 in 265.58s\n"
     ]
    },
    {
     "data": {
      "application/vnd.jupyter.widget-view+json": {
       "model_id": "c0a5b9a328044f7ebe6582ab58c0dc2b",
       "version_major": 2,
       "version_minor": 0
      },
      "text/plain": [
       "HBox(children=(IntProgress(value=0, description='train batch', max=2788), HTML(value='')))"
      ]
     },
     "metadata": {},
     "output_type": "display_data"
    },
    {
     "name": "stdout",
     "output_type": "stream",
     "text": [
      "\n"
     ]
    },
    {
     "data": {
      "application/vnd.jupyter.widget-view+json": {
       "model_id": "e132790e886a4eecaa231ad57774e461",
       "version_major": 2,
       "version_minor": 0
      },
      "text/plain": [
       "HBox(children=(IntProgress(value=0, description='val batch', max=697), HTML(value='')))"
      ]
     },
     "metadata": {},
     "output_type": "display_data"
    },
    {
     "name": "stdout",
     "output_type": "stream",
     "text": [
      "\n",
      "epoch 17, minibatch 2788 in 265.27s\n"
     ]
    },
    {
     "data": {
      "application/vnd.jupyter.widget-view+json": {
       "model_id": "f4a1e4097a384181811c8244d376bbac",
       "version_major": 2,
       "version_minor": 0
      },
      "text/plain": [
       "HBox(children=(IntProgress(value=0, description='train batch', max=2788), HTML(value='')))"
      ]
     },
     "metadata": {},
     "output_type": "display_data"
    },
    {
     "name": "stdout",
     "output_type": "stream",
     "text": [
      "\n"
     ]
    },
    {
     "data": {
      "application/vnd.jupyter.widget-view+json": {
       "model_id": "abedf4925d11482aa302da0b703e81e9",
       "version_major": 2,
       "version_minor": 0
      },
      "text/plain": [
       "HBox(children=(IntProgress(value=0, description='val batch', max=697), HTML(value='')))"
      ]
     },
     "metadata": {},
     "output_type": "display_data"
    },
    {
     "name": "stdout",
     "output_type": "stream",
     "text": [
      "\n",
      "epoch 18, minibatch 2788 in 267.01s\n"
     ]
    },
    {
     "data": {
      "application/vnd.jupyter.widget-view+json": {
       "model_id": "5b9a338b0a0f4ac4a142b57ec19bd465",
       "version_major": 2,
       "version_minor": 0
      },
      "text/plain": [
       "HBox(children=(IntProgress(value=0, description='train batch', max=2788), HTML(value='')))"
      ]
     },
     "metadata": {},
     "output_type": "display_data"
    },
    {
     "name": "stdout",
     "output_type": "stream",
     "text": [
      "\n"
     ]
    },
    {
     "data": {
      "application/vnd.jupyter.widget-view+json": {
       "model_id": "4cb2f55ab0ab4658a21704a5a2ff6df7",
       "version_major": 2,
       "version_minor": 0
      },
      "text/plain": [
       "HBox(children=(IntProgress(value=0, description='val batch', max=697), HTML(value='')))"
      ]
     },
     "metadata": {},
     "output_type": "display_data"
    },
    {
     "name": "stdout",
     "output_type": "stream",
     "text": [
      "\n",
      "epoch 19, minibatch 2788 in 264.10s\n"
     ]
    },
    {
     "data": {
      "application/vnd.jupyter.widget-view+json": {
       "model_id": "6269b83890564966bc90888f3bc568ee",
       "version_major": 2,
       "version_minor": 0
      },
      "text/plain": [
       "HBox(children=(IntProgress(value=0, description='train batch', max=2788), HTML(value='')))"
      ]
     },
     "metadata": {},
     "output_type": "display_data"
    },
    {
     "name": "stdout",
     "output_type": "stream",
     "text": [
      "\n"
     ]
    },
    {
     "data": {
      "application/vnd.jupyter.widget-view+json": {
       "model_id": "1277d183dfc84bf79afa092d9821a5f0",
       "version_major": 2,
       "version_minor": 0
      },
      "text/plain": [
       "HBox(children=(IntProgress(value=0, description='val batch', max=697), HTML(value='')))"
      ]
     },
     "metadata": {},
     "output_type": "display_data"
    },
    {
     "name": "stdout",
     "output_type": "stream",
     "text": [
      "\n",
      "epoch 20, minibatch 2788 in 271.01s\n"
     ]
    },
    {
     "data": {
      "application/vnd.jupyter.widget-view+json": {
       "model_id": "3535207353cb4149a120d9db47c30ac0",
       "version_major": 2,
       "version_minor": 0
      },
      "text/plain": [
       "HBox(children=(IntProgress(value=0, description='train batch', max=2788), HTML(value='')))"
      ]
     },
     "metadata": {},
     "output_type": "display_data"
    },
    {
     "name": "stdout",
     "output_type": "stream",
     "text": [
      "\n"
     ]
    },
    {
     "data": {
      "application/vnd.jupyter.widget-view+json": {
       "model_id": "f662fca2d2b54f0e94c1e4ad2f7c6b8d",
       "version_major": 2,
       "version_minor": 0
      },
      "text/plain": [
       "HBox(children=(IntProgress(value=0, description='val batch', max=697), HTML(value='')))"
      ]
     },
     "metadata": {},
     "output_type": "display_data"
    },
    {
     "name": "stdout",
     "output_type": "stream",
     "text": [
      "\n",
      "epoch 21, minibatch 2788 in 264.83s\n"
     ]
    },
    {
     "data": {
      "application/vnd.jupyter.widget-view+json": {
       "model_id": "a7355f007c604a83ba9145ea7b6a70b3",
       "version_major": 2,
       "version_minor": 0
      },
      "text/plain": [
       "HBox(children=(IntProgress(value=0, description='train batch', max=2788), HTML(value='')))"
      ]
     },
     "metadata": {},
     "output_type": "display_data"
    },
    {
     "name": "stdout",
     "output_type": "stream",
     "text": [
      "\n"
     ]
    },
    {
     "data": {
      "application/vnd.jupyter.widget-view+json": {
       "model_id": "80c98233dcdb4cd8b6ef873cfe749b01",
       "version_major": 2,
       "version_minor": 0
      },
      "text/plain": [
       "HBox(children=(IntProgress(value=0, description='val batch', max=697), HTML(value='')))"
      ]
     },
     "metadata": {},
     "output_type": "display_data"
    },
    {
     "name": "stdout",
     "output_type": "stream",
     "text": [
      "\n",
      "epoch 22, minibatch 2788 in 264.71s\n"
     ]
    },
    {
     "data": {
      "application/vnd.jupyter.widget-view+json": {
       "model_id": "0af4b90c62d641818044a5170ec4caa7",
       "version_major": 2,
       "version_minor": 0
      },
      "text/plain": [
       "HBox(children=(IntProgress(value=0, description='train batch', max=2788), HTML(value='')))"
      ]
     },
     "metadata": {},
     "output_type": "display_data"
    },
    {
     "name": "stdout",
     "output_type": "stream",
     "text": [
      "\n"
     ]
    },
    {
     "data": {
      "application/vnd.jupyter.widget-view+json": {
       "model_id": "e62553644cd84d78a690e303cfa00ac8",
       "version_major": 2,
       "version_minor": 0
      },
      "text/plain": [
       "HBox(children=(IntProgress(value=0, description='val batch', max=697), HTML(value='')))"
      ]
     },
     "metadata": {},
     "output_type": "display_data"
    },
    {
     "name": "stdout",
     "output_type": "stream",
     "text": [
      "\n",
      "epoch 23, minibatch 2788 in 266.08s\n"
     ]
    },
    {
     "data": {
      "application/vnd.jupyter.widget-view+json": {
       "model_id": "da4494702358488988821f544eb42b49",
       "version_major": 2,
       "version_minor": 0
      },
      "text/plain": [
       "HBox(children=(IntProgress(value=0, description='train batch', max=2788), HTML(value='')))"
      ]
     },
     "metadata": {},
     "output_type": "display_data"
    },
    {
     "name": "stdout",
     "output_type": "stream",
     "text": [
      "\n"
     ]
    },
    {
     "data": {
      "application/vnd.jupyter.widget-view+json": {
       "model_id": "093fba8c35564a5aad1e584c98554328",
       "version_major": 2,
       "version_minor": 0
      },
      "text/plain": [
       "HBox(children=(IntProgress(value=0, description='val batch', max=697), HTML(value='')))"
      ]
     },
     "metadata": {},
     "output_type": "display_data"
    },
    {
     "name": "stdout",
     "output_type": "stream",
     "text": [
      "\n",
      "epoch 24, minibatch 2788 in 266.07s\n"
     ]
    },
    {
     "data": {
      "application/vnd.jupyter.widget-view+json": {
       "model_id": "4141e1741e51407aa6f664bb1f5eb577",
       "version_major": 2,
       "version_minor": 0
      },
      "text/plain": [
       "HBox(children=(IntProgress(value=0, description='train batch', max=2788), HTML(value='')))"
      ]
     },
     "metadata": {},
     "output_type": "display_data"
    },
    {
     "name": "stdout",
     "output_type": "stream",
     "text": [
      "\n"
     ]
    },
    {
     "data": {
      "application/vnd.jupyter.widget-view+json": {
       "model_id": "5e0d1c140bc54e5faf3960e9cf511142",
       "version_major": 2,
       "version_minor": 0
      },
      "text/plain": [
       "HBox(children=(IntProgress(value=0, description='val batch', max=697), HTML(value='')))"
      ]
     },
     "metadata": {},
     "output_type": "display_data"
    },
    {
     "name": "stdout",
     "output_type": "stream",
     "text": [
      "\n",
      "epoch 25, minibatch 2788 in 264.45s\n"
     ]
    },
    {
     "data": {
      "application/vnd.jupyter.widget-view+json": {
       "model_id": "17cf6b27b7f54e75b09e860d76b68016",
       "version_major": 2,
       "version_minor": 0
      },
      "text/plain": [
       "HBox(children=(IntProgress(value=0, description='train batch', max=2788), HTML(value='')))"
      ]
     },
     "metadata": {},
     "output_type": "display_data"
    },
    {
     "name": "stdout",
     "output_type": "stream",
     "text": [
      "\n"
     ]
    },
    {
     "data": {
      "application/vnd.jupyter.widget-view+json": {
       "model_id": "cc1d6839855c4246864e06ba512efd00",
       "version_major": 2,
       "version_minor": 0
      },
      "text/plain": [
       "HBox(children=(IntProgress(value=0, description='val batch', max=697), HTML(value='')))"
      ]
     },
     "metadata": {},
     "output_type": "display_data"
    },
    {
     "name": "stdout",
     "output_type": "stream",
     "text": [
      "\n",
      "epoch 26, minibatch 2788 in 265.44s\n"
     ]
    },
    {
     "data": {
      "application/vnd.jupyter.widget-view+json": {
       "model_id": "a34ac529aebc42cf97a6db1cdd564f85",
       "version_major": 2,
       "version_minor": 0
      },
      "text/plain": [
       "HBox(children=(IntProgress(value=0, description='train batch', max=2788), HTML(value='')))"
      ]
     },
     "metadata": {},
     "output_type": "display_data"
    },
    {
     "name": "stdout",
     "output_type": "stream",
     "text": [
      "\n"
     ]
    },
    {
     "data": {
      "application/vnd.jupyter.widget-view+json": {
       "model_id": "b1241f4bcd134f31bb2a0809c0de214b",
       "version_major": 2,
       "version_minor": 0
      },
      "text/plain": [
       "HBox(children=(IntProgress(value=0, description='val batch', max=697), HTML(value='')))"
      ]
     },
     "metadata": {},
     "output_type": "display_data"
    },
    {
     "name": "stdout",
     "output_type": "stream",
     "text": [
      "\n",
      "epoch 27, minibatch 2788 in 264.96s\n"
     ]
    },
    {
     "data": {
      "application/vnd.jupyter.widget-view+json": {
       "model_id": "5336b46dfbb64c0793df00865564a28a",
       "version_major": 2,
       "version_minor": 0
      },
      "text/plain": [
       "HBox(children=(IntProgress(value=0, description='train batch', max=2788), HTML(value='')))"
      ]
     },
     "metadata": {},
     "output_type": "display_data"
    },
    {
     "name": "stdout",
     "output_type": "stream",
     "text": [
      "\n"
     ]
    },
    {
     "data": {
      "application/vnd.jupyter.widget-view+json": {
       "model_id": "2b4ee5c90edc49a9b7149c66ecca25e2",
       "version_major": 2,
       "version_minor": 0
      },
      "text/plain": [
       "HBox(children=(IntProgress(value=0, description='val batch', max=697), HTML(value='')))"
      ]
     },
     "metadata": {},
     "output_type": "display_data"
    },
    {
     "name": "stdout",
     "output_type": "stream",
     "text": [
      "\n",
      "epoch 28, minibatch 2788 in 264.71s\n"
     ]
    },
    {
     "data": {
      "application/vnd.jupyter.widget-view+json": {
       "model_id": "b374d673b48b493c8c3381fbb95aa461",
       "version_major": 2,
       "version_minor": 0
      },
      "text/plain": [
       "HBox(children=(IntProgress(value=0, description='train batch', max=2788), HTML(value='')))"
      ]
     },
     "metadata": {},
     "output_type": "display_data"
    },
    {
     "name": "stdout",
     "output_type": "stream",
     "text": [
      "\n"
     ]
    },
    {
     "data": {
      "application/vnd.jupyter.widget-view+json": {
       "model_id": "2e33f1dacb2043a5b19e0a89f9c1e879",
       "version_major": 2,
       "version_minor": 0
      },
      "text/plain": [
       "HBox(children=(IntProgress(value=0, description='val batch', max=697), HTML(value='')))"
      ]
     },
     "metadata": {},
     "output_type": "display_data"
    },
    {
     "name": "stdout",
     "output_type": "stream",
     "text": [
      "\n",
      "epoch 29, minibatch 2788 in 264.74s\n"
     ]
    },
    {
     "data": {
      "application/vnd.jupyter.widget-view+json": {
       "model_id": "bbb1c1bdafdf4b8d8fc1094b81c5fd84",
       "version_major": 2,
       "version_minor": 0
      },
      "text/plain": [
       "HBox(children=(IntProgress(value=0, description='train batch', max=2788), HTML(value='')))"
      ]
     },
     "metadata": {},
     "output_type": "display_data"
    },
    {
     "name": "stdout",
     "output_type": "stream",
     "text": [
      "\n"
     ]
    },
    {
     "data": {
      "application/vnd.jupyter.widget-view+json": {
       "model_id": "a6560993ab034a0e945f966a40866478",
       "version_major": 2,
       "version_minor": 0
      },
      "text/plain": [
       "HBox(children=(IntProgress(value=0, description='val batch', max=697), HTML(value='')))"
      ]
     },
     "metadata": {},
     "output_type": "display_data"
    },
    {
     "name": "stdout",
     "output_type": "stream",
     "text": [
      "\n",
      "epoch 30, minibatch 2788 in 264.80s\n"
     ]
    },
    {
     "data": {
      "application/vnd.jupyter.widget-view+json": {
       "model_id": "daf59f2eda2e4c539650e35d32a0f5e4",
       "version_major": 2,
       "version_minor": 0
      },
      "text/plain": [
       "HBox(children=(IntProgress(value=0, description='train batch', max=2788), HTML(value='')))"
      ]
     },
     "metadata": {},
     "output_type": "display_data"
    },
    {
     "name": "stdout",
     "output_type": "stream",
     "text": [
      "\n"
     ]
    },
    {
     "data": {
      "application/vnd.jupyter.widget-view+json": {
       "model_id": "418ef063a2e847f4ab5dd3793d164c91",
       "version_major": 2,
       "version_minor": 0
      },
      "text/plain": [
       "HBox(children=(IntProgress(value=0, description='val batch', max=697), HTML(value='')))"
      ]
     },
     "metadata": {},
     "output_type": "display_data"
    },
    {
     "name": "stdout",
     "output_type": "stream",
     "text": [
      "\n",
      "epoch 31, minibatch 2788 in 264.53s\n"
     ]
    },
    {
     "data": {
      "application/vnd.jupyter.widget-view+json": {
       "model_id": "b13b3abcc71842a4b4cc278cc19e8c41",
       "version_major": 2,
       "version_minor": 0
      },
      "text/plain": [
       "HBox(children=(IntProgress(value=0, description='train batch', max=2788), HTML(value='')))"
      ]
     },
     "metadata": {},
     "output_type": "display_data"
    },
    {
     "name": "stdout",
     "output_type": "stream",
     "text": [
      "\n"
     ]
    },
    {
     "data": {
      "application/vnd.jupyter.widget-view+json": {
       "model_id": "831c89060802457d89c36257f582da40",
       "version_major": 2,
       "version_minor": 0
      },
      "text/plain": [
       "HBox(children=(IntProgress(value=0, description='val batch', max=697), HTML(value='')))"
      ]
     },
     "metadata": {},
     "output_type": "display_data"
    },
    {
     "name": "stdout",
     "output_type": "stream",
     "text": [
      "\n",
      "epoch 32, minibatch 2788 in 267.97s\n"
     ]
    },
    {
     "data": {
      "application/vnd.jupyter.widget-view+json": {
       "model_id": "f467947a5ad84650b6d69ec06cbe607d",
       "version_major": 2,
       "version_minor": 0
      },
      "text/plain": [
       "HBox(children=(IntProgress(value=0, description='train batch', max=2788), HTML(value='')))"
      ]
     },
     "metadata": {},
     "output_type": "display_data"
    },
    {
     "name": "stdout",
     "output_type": "stream",
     "text": [
      "\n"
     ]
    },
    {
     "data": {
      "application/vnd.jupyter.widget-view+json": {
       "model_id": "d3a64e6740294c98b396ee43856fa7ff",
       "version_major": 2,
       "version_minor": 0
      },
      "text/plain": [
       "HBox(children=(IntProgress(value=0, description='val batch', max=697), HTML(value='')))"
      ]
     },
     "metadata": {},
     "output_type": "display_data"
    },
    {
     "name": "stdout",
     "output_type": "stream",
     "text": [
      "\n",
      "epoch 33, minibatch 2788 in 265.13s\n"
     ]
    },
    {
     "data": {
      "application/vnd.jupyter.widget-view+json": {
       "model_id": "e5b4da3ec7174029a0b2acb8cbffa0e2",
       "version_major": 2,
       "version_minor": 0
      },
      "text/plain": [
       "HBox(children=(IntProgress(value=0, description='train batch', max=2788), HTML(value='')))"
      ]
     },
     "metadata": {},
     "output_type": "display_data"
    },
    {
     "name": "stdout",
     "output_type": "stream",
     "text": [
      "\n"
     ]
    },
    {
     "data": {
      "application/vnd.jupyter.widget-view+json": {
       "model_id": "b0b0d8598bd643dfa5bb0c54a72824af",
       "version_major": 2,
       "version_minor": 0
      },
      "text/plain": [
       "HBox(children=(IntProgress(value=0, description='val batch', max=697), HTML(value='')))"
      ]
     },
     "metadata": {},
     "output_type": "display_data"
    },
    {
     "name": "stdout",
     "output_type": "stream",
     "text": [
      "\n",
      "epoch 34, minibatch 2788 in 263.82s\n"
     ]
    },
    {
     "data": {
      "application/vnd.jupyter.widget-view+json": {
       "model_id": "2868cd46cbda4af1800f55370894be77",
       "version_major": 2,
       "version_minor": 0
      },
      "text/plain": [
       "HBox(children=(IntProgress(value=0, description='train batch', max=2788), HTML(value='')))"
      ]
     },
     "metadata": {},
     "output_type": "display_data"
    },
    {
     "name": "stdout",
     "output_type": "stream",
     "text": [
      "\n"
     ]
    },
    {
     "data": {
      "application/vnd.jupyter.widget-view+json": {
       "model_id": "71a3e1495ca942c3957196d7ac0f03d9",
       "version_major": 2,
       "version_minor": 0
      },
      "text/plain": [
       "HBox(children=(IntProgress(value=0, description='val batch', max=697), HTML(value='')))"
      ]
     },
     "metadata": {},
     "output_type": "display_data"
    },
    {
     "name": "stdout",
     "output_type": "stream",
     "text": [
      "\n",
      "epoch 35, minibatch 2788 in 265.33s\n"
     ]
    },
    {
     "data": {
      "application/vnd.jupyter.widget-view+json": {
       "model_id": "2b2c0dc22bc846c49288d28782b38622",
       "version_major": 2,
       "version_minor": 0
      },
      "text/plain": [
       "HBox(children=(IntProgress(value=0, description='train batch', max=2788), HTML(value='')))"
      ]
     },
     "metadata": {},
     "output_type": "display_data"
    },
    {
     "name": "stdout",
     "output_type": "stream",
     "text": [
      "\n"
     ]
    },
    {
     "data": {
      "application/vnd.jupyter.widget-view+json": {
       "model_id": "f2cc0981f2b5487b9cebb6846a88d85f",
       "version_major": 2,
       "version_minor": 0
      },
      "text/plain": [
       "HBox(children=(IntProgress(value=0, description='val batch', max=697), HTML(value='')))"
      ]
     },
     "metadata": {},
     "output_type": "display_data"
    },
    {
     "name": "stdout",
     "output_type": "stream",
     "text": [
      "\n",
      "epoch 36, minibatch 2788 in 264.64s\n"
     ]
    },
    {
     "data": {
      "application/vnd.jupyter.widget-view+json": {
       "model_id": "03f0106f421e4ec98dfcde2b4f0b0a05",
       "version_major": 2,
       "version_minor": 0
      },
      "text/plain": [
       "HBox(children=(IntProgress(value=0, description='train batch', max=2788), HTML(value='')))"
      ]
     },
     "metadata": {},
     "output_type": "display_data"
    },
    {
     "name": "stdout",
     "output_type": "stream",
     "text": [
      "\n"
     ]
    },
    {
     "data": {
      "application/vnd.jupyter.widget-view+json": {
       "model_id": "9e30a03ec8f04a3da76c4f0b283c137e",
       "version_major": 2,
       "version_minor": 0
      },
      "text/plain": [
       "HBox(children=(IntProgress(value=0, description='val batch', max=697), HTML(value='')))"
      ]
     },
     "metadata": {},
     "output_type": "display_data"
    },
    {
     "name": "stdout",
     "output_type": "stream",
     "text": [
      "\n",
      "epoch 37, minibatch 2788 in 264.54s\n"
     ]
    },
    {
     "data": {
      "application/vnd.jupyter.widget-view+json": {
       "model_id": "b72abc3ddfd54c4db1d341a276b53bd9",
       "version_major": 2,
       "version_minor": 0
      },
      "text/plain": [
       "HBox(children=(IntProgress(value=0, description='train batch', max=2788), HTML(value='')))"
      ]
     },
     "metadata": {},
     "output_type": "display_data"
    },
    {
     "name": "stdout",
     "output_type": "stream",
     "text": [
      "\n"
     ]
    },
    {
     "data": {
      "application/vnd.jupyter.widget-view+json": {
       "model_id": "698a18d163e244d6870d68b039568f7c",
       "version_major": 2,
       "version_minor": 0
      },
      "text/plain": [
       "HBox(children=(IntProgress(value=0, description='val batch', max=697), HTML(value='')))"
      ]
     },
     "metadata": {},
     "output_type": "display_data"
    },
    {
     "name": "stdout",
     "output_type": "stream",
     "text": [
      "\n",
      "epoch 38, minibatch 2788 in 264.87s\n"
     ]
    },
    {
     "data": {
      "application/vnd.jupyter.widget-view+json": {
       "model_id": "a7ebc49ce327446582b4fdf99ab8209e",
       "version_major": 2,
       "version_minor": 0
      },
      "text/plain": [
       "HBox(children=(IntProgress(value=0, description='train batch', max=2788), HTML(value='')))"
      ]
     },
     "metadata": {},
     "output_type": "display_data"
    },
    {
     "name": "stdout",
     "output_type": "stream",
     "text": [
      "\n"
     ]
    },
    {
     "data": {
      "application/vnd.jupyter.widget-view+json": {
       "model_id": "37b7f84a545f48f08c0ea8328ab70164",
       "version_major": 2,
       "version_minor": 0
      },
      "text/plain": [
       "HBox(children=(IntProgress(value=0, description='val batch', max=697), HTML(value='')))"
      ]
     },
     "metadata": {},
     "output_type": "display_data"
    },
    {
     "name": "stdout",
     "output_type": "stream",
     "text": [
      "\n",
      "epoch 39, minibatch 2788 in 266.94s\n"
     ]
    },
    {
     "data": {
      "application/vnd.jupyter.widget-view+json": {
       "model_id": "ce7c411f53a3412cb558174973a34dbe",
       "version_major": 2,
       "version_minor": 0
      },
      "text/plain": [
       "HBox(children=(IntProgress(value=0, description='train batch', max=2788), HTML(value='')))"
      ]
     },
     "metadata": {},
     "output_type": "display_data"
    },
    {
     "name": "stdout",
     "output_type": "stream",
     "text": [
      "\n"
     ]
    },
    {
     "data": {
      "application/vnd.jupyter.widget-view+json": {
       "model_id": "66f19ec2c4864825a886919de698184b",
       "version_major": 2,
       "version_minor": 0
      },
      "text/plain": [
       "HBox(children=(IntProgress(value=0, description='val batch', max=697), HTML(value='')))"
      ]
     },
     "metadata": {},
     "output_type": "display_data"
    },
    {
     "name": "stdout",
     "output_type": "stream",
     "text": [
      "\n",
      "epoch 40, minibatch 2788 in 271.24s\n"
     ]
    }
   ],
   "source": [
    "for epoch in range_new:\n",
    "\n",
    "    epoch_loss = 0\n",
    "    epoch_loss_val = 0\n",
    "\n",
    "    for idx, (imgs, msks) in tqdm(enumerate(dataloader_train), desc='train batch', total = len(dataloader_train.dataset)//dataloader_train.batch_size):\n",
    "#         if idx >= 1: continue                                # !!! REMOVE !!!\n",
    "        start = time.time()\n",
    "        model.train()\n",
    "        \n",
    "        TPs_batch_train, total_1_voxels_batch_train, TP_and_FN_batch_train = 0, 0, 0\n",
    "#         print(f' inputs = {np.shape(imgs)}, {np.shape(msks)}')\n",
    "\n",
    "        opt.zero_grad()    # Clear gradients w.r.t. parameters\n",
    "        if torch.cuda.is_available():\n",
    "    #         imgs = Variable(imgs.to(device))\n",
    "    #         msks = Variable(msks.to(device))\n",
    "            imgs = Variable(imgs.cuda(GPU))\n",
    "            msks = Variable(msks.cuda(GPU))\n",
    "        else:\n",
    "            imgs = Variable(imgs)\n",
    "            msks = Variable(msks)\n",
    "\n",
    "        pred = model(imgs)\n",
    "        # Check !!! if to use the dice coeff loss we round up the predictions\n",
    "        #pred_class= torch.round(pred)\n",
    "        loss = dice_loss(pred, msks)\n",
    "\n",
    "        loss.backward()     # Getting gradients w.r.t. parameters\n",
    "        opt.step()    # Updating parameters\n",
    "        \n",
    "        \n",
    "        pred_arr_train = pred.detach().cpu().numpy()\n",
    "        msks_arr_train = msks.detach().cpu().numpy()\n",
    "        pred_arr_class_train = pred_arr_train > .5\n",
    "        TP_train = np.sum(pred_arr_class_train * msks_arr_train)\n",
    "        total_1s_train = np.sum(msks_arr_train)\n",
    "        TPs_batch_train += TP_train\n",
    "        total_1_voxels_batch_train += total_1s_train\n",
    "        TP_and_FN_batch_train += np.sum(pred_arr_class_train)\n",
    "\n",
    "        epoch_loss+=loss.item()\n",
    "        \n",
    "    # TEST\n",
    "    model.eval()\n",
    "    with torch.no_grad():\n",
    "                \n",
    "        TPs_batch, total_1_voxels_batch, TP_and_FN_batch = 0, 0, 0\n",
    "        loss_val_epoch = 0\n",
    "        for idx_val, (imgs_val, msks_val) in tqdm(enumerate(dataloader_test), desc='val batch',total = len(dataloader_test.dataset)//dataloader_test.batch_size):\n",
    "            #if idx_val>=2:continue # !!!! REMOVE\n",
    "            #print(idx, idx_val)\n",
    "\n",
    "            if torch.cuda.is_available():\n",
    "    #           imgs_val = Variable(imgs_val.to(device))\n",
    "    #           msks_val = Variable(msks_val.to(device))\n",
    "                imgs_val = Variable(imgs_val.cuda(GPU))\n",
    "                msks_val = Variable(msks_val.cuda(GPU))\n",
    "            else:\n",
    "                imgs_val = Variable(imgs_val)\n",
    "                msks_val = Variable(msks_val)\n",
    "\n",
    "            pred_val = model(imgs_val)\n",
    "            assert(np.shape(pred_val) == np.shape(msks_val))\n",
    "            # Check !!! if to use the dice coeff loss we round up the predictions\n",
    "            #pred_class_val= torch.round(pred_val)\n",
    "            loss_val = dice_loss(pred_val, msks_val)\n",
    "                    \n",
    "            pred_arr = pred_val.detach().cpu().numpy()\n",
    "            msks_arr = msks_val.detach().cpu().numpy()\n",
    "            pred_arr_class = pred_arr > .5\n",
    "            TP = np.sum(pred_arr_class * msks_arr)\n",
    "            total_1s = np.sum(msks_arr)\n",
    "            TPs_batch += TP\n",
    "            total_1_voxels_batch += total_1s\n",
    "                    \n",
    "            #TP_perc = TP / total_1s\n",
    "            TP_and_FN_batch += np.sum(pred_arr_class)\n",
    "            #precision = TP/TP_and_FN\n",
    "                    \n",
    "            #TP_percs_batch.append(TP_perc)\n",
    "            #precisions_batch.append(precision)\n",
    "\n",
    "            epoch_loss_val+=loss_val.item()\n",
    "                    \n",
    "            #if idx_val ==1:break\n",
    "\n",
    "    TPs.append(TPs_batch)\n",
    "    total_1_voxels.append(total_1_voxels_batch)\n",
    "    TP_and_FN.append(TP_and_FN_batch)\n",
    "    \n",
    "    loss_test.append(epoch_loss_val/len(dataloader_test.dataset))\n",
    "        \n",
    "    loss_train.append(epoch_loss/len(dataloader_train.dataset))\n",
    "    stop = time.time()\n",
    "\n",
    "    print(f'epoch {epoch}, minibatch {idx} in {stop-start:.2f}s')"
   ]
  },
  {
   "cell_type": "code",
   "execution_count": 82,
   "metadata": {},
   "outputs": [
    {
     "data": {
      "text/plain": [
       "(40, 40)"
      ]
     },
     "execution_count": 82,
     "metadata": {},
     "output_type": "execute_result"
    }
   ],
   "source": [
    "epoch, len(loss_train)"
   ]
  },
  {
   "cell_type": "code",
   "execution_count": 81,
   "metadata": {},
   "outputs": [],
   "source": [
    "path_trained_model = f'CNN models/UNet_4blocks_{epoch}ep.pt'\n",
    "torch.save(model.state_dict(), path_trained_model)"
   ]
  },
  {
   "cell_type": "code",
   "execution_count": 105,
   "metadata": {},
   "outputs": [
    {
     "name": "stderr",
     "output_type": "stream",
     "text": [
      "/home/om18/anaconda3/envs/pytorchv1/lib/python3.6/site-packages/torch/serialization.py:241: UserWarning: Couldn't retrieve source code for container of type UNet1. It won't be checked for correctness upon loading.\n",
      "  \"type \" + obj.__name__ + \". It won't be checked \"\n"
     ]
    }
   ],
   "source": [
    "path_trained_entire_model = path_trained_model[:-3] + '_entire_model.pt'\n",
    "torch.save(model, path_trained_entire_model)"
   ]
  },
  {
   "cell_type": "code",
   "execution_count": null,
   "metadata": {},
   "outputs": [],
   "source": [
    "path_trained_model"
   ]
  },
  {
   "cell_type": "code",
   "execution_count": 83,
   "metadata": {},
   "outputs": [],
   "source": [
    "# Save metrics\n",
    "results_dict = {'loss_train':loss_train,\n",
    "    'loss_test':loss_test,\n",
    "    'TPs':TPs,\n",
    "    'total_1_voxels':total_1_voxels,\n",
    "    'TP_and_FN':TP_and_FN,\n",
    "    'TPs_train':TPs_train,\n",
    "    'total_1_voxels_train':total_1_voxels_train,\n",
    "    'TP_and_FN_train':TP_and_FN_train}\n",
    "path_results_dict = f'CNN models/results_dict_{epoch}ep'\n",
    "\n",
    "with open(path_results_dict + '.pkl', 'wb') as f:\n",
    "    pickle.dump(results_dict, f, pickle.HIGHEST_PROTOCOL)"
   ]
  },
  {
   "cell_type": "code",
   "execution_count": 73,
   "metadata": {},
   "outputs": [],
   "source": [
    "## Get metrics back\n",
    "#path_results_dict_to_recover = f'CNN models/results_dict_{epoch_previous}ep'\n",
    "\n",
    "#with open(path_results_dict_to_recover + '.pkl', 'rb') as f:\n",
    "    #results_dict_recovered = pickle.load(f)\n",
    "    \n",
    "#loss_train_recovered = results_dict_recovered['loss_train']\n",
    "#loss_test_recovered = results_dict_recovered['loss_test']\n",
    "#TPs_recovered = results_dict_recovered['TPs']\n",
    "#total_1_voxels_recovered = results_dict_recovered['total_1_voxels']\n",
    "#TP_and_FN_recovered = results_dict_recovered['TP_and_FN']\n",
    "#TPs_train_recovered = results_dict_recovered['TPs_train']\n",
    "#total_1_voxels_train_recovered = results_dict_recovered['total_1_voxels_train']\n",
    "#TP_and_FN_train_recovered = results_dict_recovered['TP_and_FN_train']"
   ]
  },
  {
   "cell_type": "code",
   "execution_count": null,
   "metadata": {},
   "outputs": [],
   "source": [
    "#loss_train_recovered.append(loss_train)\n",
    "#loss_test_recovered.append(loss_test)\n",
    "#TPs_recovered.append(TPs)\n",
    "#total_1_voxels_recovered.append(total_1_voxels)\n",
    "#TP_and_FN_recovered.append(TP_and_FN)\n",
    "#TPs_train_recovered.append(TPs_train)\n",
    "#total_1_voxels_train_recovered.append(total_1_voxels_train)\n",
    "#TP_and_FN_train_recovered.append(TP_and_FN_train)"
   ]
  },
  {
   "cell_type": "code",
   "execution_count": null,
   "metadata": {},
   "outputs": [],
   "source": []
  },
  {
   "cell_type": "code",
   "execution_count": 107,
   "metadata": {},
   "outputs": [
    {
     "data": {
      "text/plain": [
       "[<matplotlib.lines.Line2D at 0x7f45903734a8>]"
      ]
     },
     "execution_count": 107,
     "metadata": {},
     "output_type": "execute_result"
    },
    {
     "data": {
      "image/png": "[encoded data removed]",
      "text/plain": [
       "<Figure size 432x288 with 1 Axes>"
      ]
     },
     "metadata": {
      "needs_background": "light"
     },
     "output_type": "display_data"
    },
    {
     "data": {
      "image/png": "[encoded data removed]",
      "text/plain": [
       "<Figure size 432x288 with 1 Axes>"
      ]
     },
     "metadata": {
      "needs_background": "light"
     },
     "output_type": "display_data"
    }
   ],
   "source": [
    "plt.figure()\n",
    "plt.plot(TPs)\n",
    "plt.plot(total_1_voxels)\n",
    "plt.figure()\n",
    "plt.plot(TP_and_FN)"
   ]
  },
  {
   "cell_type": "code",
   "execution_count": 111,
   "metadata": {},
   "outputs": [
    {
     "data": {
      "text/plain": [
       "True"
      ]
     },
     "execution_count": 111,
     "metadata": {},
     "output_type": "execute_result"
    }
   ],
   "source": [
    "(pred_arr==1).all()"
   ]
  },
  {
   "cell_type": "code",
   "execution_count": null,
   "metadata": {},
   "outputs": [],
   "source": []
  },
  {
   "cell_type": "code",
   "execution_count": null,
   "metadata": {},
   "outputs": [],
   "source": []
  },
  {
   "cell_type": "code",
   "execution_count": null,
   "metadata": {},
   "outputs": [],
   "source": []
  },
  {
   "cell_type": "markdown",
   "metadata": {},
   "source": [
    "---"
   ]
  }
 ],
 "metadata": {
  "kernelspec": {
   "display_name": "Python 3",
   "language": "python",
   "name": "python3"
  },
  "language_info": {
   "codemirror_mode": {
    "name": "ipython",
    "version": 3
   },
   "file_extension": ".py",
   "mimetype": "text/x-python",
   "name": "python",
   "nbconvert_exporter": "python",
   "pygments_lexer": "ipython3",
   "version": "3.6.8"
  },
  "varInspector": {
   "cols": {
    "lenName": 16,
    "lenType": 16,
    "lenVar": 40
   },
   "kernels_config": {
    "python": {
     "delete_cmd_postfix": "",
     "delete_cmd_prefix": "del ",
     "library": "var_list.py",
     "varRefreshCmd": "print(var_dic_list())"
    },
    "r": {
     "delete_cmd_postfix": ") ",
     "delete_cmd_prefix": "rm(",
     "library": "var_list.r",
     "varRefreshCmd": "cat(var_dic_list()) "
    }
   },
   "types_to_exclude": [
    "module",
    "function",
    "builtin_function_or_method",
    "instance",
    "_Feature"
   ],
   "window_display": false
  }
 },
 "nbformat": 4,
 "nbformat_minor": 2
}
